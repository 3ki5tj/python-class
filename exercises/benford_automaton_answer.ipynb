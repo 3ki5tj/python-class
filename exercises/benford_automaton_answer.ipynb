{
 "cells": [
  {
   "cell_type": "markdown",
   "id": "9c57a0cd-fcca-47bd-a5c7-5cdd80a2805f",
   "metadata": {},
   "source": [
    "# 本福特自动机\n",
    "\n",
    "## 问题\n",
    "\n",
    "对于任意一个正整数 $x_0$，对它乘 $2$，重复进行 $t$ 次并都记录下所得的数字的首位数字。\n",
    "\n",
    "从 $x_0 = 1 \\dots 9$ 开始试验，并把所得的数的首位数合在一起，这些首位数字的分布是什么样的？"
   ]
  },
  {
   "cell_type": "markdown",
   "id": "c143b0da-33e0-4077-96fa-7de3dcf05c70",
   "metadata": {},
   "source": [
    "## 解法\n",
    "\n",
    "### 计算首位数字\n",
    "\n",
    "这个问题的一个难点是计算一个数 $x$ 的首位数字。\n",
    "\n",
    "* 如果 $x$ 在 $1$ 到 $10$ 之间（包括 $1$ 但不包括 $10$），那么好办，我们只要把它取整即可。\n",
    "* 如果 $x>=10$，那我们可以对它反复除 $10$ 直到它在 $[1, 10)$ 以内，这就回到了上一步的问题。\n",
    "\n",
    "以上想法可以转换为下面这算法：\n",
    "\n",
    "```\n",
    "def get_leading_digit(x):\n",
    "    while x >= 10:\n",
    "        x //= 10\n",
    "    return int(x)\n",
    "```\n",
    "\n",
    "注意，我们这里用了 Python 的 `x //= 10` 除法，这样它可以同时用于大整数和浮点数的计算。\n",
    "当然如果把 `x` 当成是浮点数变量，用一般的除法 `x /= 10` 也是没有问题的，最后把`x`转换为整数 `return int(x)` 即可。\n",
    "\n",
    "严格讲起来，我们还要考虑 $[0, 1)$ 里的数和负数，但这里我们用不到，就不写了。"
   ]
  },
  {
   "cell_type": "markdown",
   "id": "3a2952ff-bea7-4cee-a05a-43d1d2c7bc47",
   "metadata": {},
   "source": [
    "下面是一个参考程序。"
   ]
  },
  {
   "cell_type": "code",
   "execution_count": 39,
   "id": "03951afa-b28b-42ef-bd44-d2c396378ac7",
   "metadata": {},
   "outputs": [
    {
     "data": {
      "image/png": "[encoded data removed]",
      "text/plain": [
       "<Figure size 432x288 with 1 Axes>"
      ]
     },
     "metadata": {
      "needs_background": "light"
     },
     "output_type": "display_data"
    }
   ],
   "source": [
    "import math\n",
    "\n",
    "def get_leading_digit(x):\n",
    "    while x >= 10:\n",
    "        x //= 10 # \"//\" 可以用于大整数和浮点数\n",
    "    return int(x)\n",
    "\n",
    "def multiply(x0, tmax):\n",
    "    return [get_leading_digit(x0 * 2**t) for t in range(tmax+1)]\n",
    "\n",
    "def simulation(tmax):\n",
    "    result = []\n",
    "    for x0 in range(1, 10):\n",
    "        result.extend(multiply(x0, tmax))\n",
    "    return result\n",
    "                    \n",
    "import matplotlib.pyplot as plt\n",
    "plt.hist(simulation(100), bins=9, range=(0.5,9.5), density=True, color='#cef', rwidth=0.9)\n",
    "plt.plot(range(1, 10), [math.log10(1+1/x) for x in range(1, 10)])\n",
    "plt.show()"
   ]
  },
  {
   "cell_type": "markdown",
   "id": "07d59282-b64b-4b59-b9fa-31dd9b001bed",
   "metadata": {},
   "source": [
    "### 从单个数字开始模拟\n",
    "\n",
    "其实我们并不用从 $9$ 个数字开始然后平均，即便是从单一的一个数，比如 $x = 7$，开始模拟也会得到相似的结果。"
   ]
  },
  {
   "cell_type": "code",
   "execution_count": 58,
   "id": "fd9376a1-09e3-4c3e-9c42-fd0682c76e75",
   "metadata": {},
   "outputs": [
    {
     "data": {
      "image/png": "[encoded data removed]",
      "text/plain": [
       "<Figure size 432x288 with 1 Axes>"
      ]
     },
     "metadata": {
      "needs_background": "light"
     },
     "output_type": "display_data"
    }
   ],
   "source": [
    "plt.hist(multiply(7, 100), bins=9, range=(0.5,9.5), density=True, color='#cef', rwidth=0.9)\n",
    "plt.plot(range(1, 10), [math.log10(1+1/x) for x in range(1, 10)])\n",
    "plt.show()"
   ]
  },
  {
   "cell_type": "markdown",
   "id": "4ec06cb6-c019-43e4-97ec-5c224ab50650",
   "metadata": {},
   "source": [
    "## 首数字分布的理论\n",
    "\n",
    "很显然，我们得到的分布不是一个均匀分布。为什么呢？\n",
    "\n",
    "### 1. 对数数轴上的运动\n",
    "\n",
    "为了回答这个问题，让我们考虑一下 $\\log_{10} x$ 在 $x$ 被乘 2 后是怎么变化的。\n",
    "\n",
    "乘 $2$ 这个操作对应于：\n",
    "\n",
    "$\\begin{align}\n",
    "\\log_{10} x &\\rightarrow \\log_{10} x + \\log_{10} 2 \\\\\n",
    "&\\approx \\log_{10} x + 0.301\\dots\n",
    "\\end{align}$\n",
    "\n",
    "也就是对应于在对数数轴 $\\log_{10} x$ 上的一个平移。"
   ]
  },
  {
   "cell_type": "markdown",
   "id": "a7828835-55bb-4d01-a3c9-37aee1867690",
   "metadata": {},
   "source": [
    "### 2. 首数字在对数数轴上的表示\n",
    "\n",
    "由于我们只对首数字感兴趣，我们可以等价地只考虑 $\\log_{10} x$ 的小数部分，也就是把 $\\log_{10} x$ 周期性地折回 $[0, 1)$ 之间。\n",
    "\n",
    "比如，$x = 32, \\log_{10} x = 1.505$ 取小数部分得到的是 $\\log_{10} x' = 0.505$，对应于 $x' = 3.2$；两者的首数字是相同的。\n",
    "\n",
    "这样，对于首数字而言，我们只需要考虑的是一个它的对数的小数部分（上例中的 $0.505$）在 $[0, 1)$ 中的位置。\n",
    "\n",
    "比如，对 $\\log_{10} x$ 的小数部分\n",
    " * 如果落在 $[0, \\log_{10} 2) \\approx [0, 0.301)$ 区间里，则首数字是 $1$ \n",
    " * 如果落在 $[\\log_{10} 2, \\log_{10} 3) \\approx [0.301, 0.477)$ 区间里，则首数字是 $2$\n",
    " * ……\n",
    " * 如果落在 $[\\log_{10} 9, 1) \\approx [0.954, 1)$ 区间里，则首数字是 $9$"
   ]
  },
  {
   "cell_type": "markdown",
   "id": "2715ec8c-9798-4af2-95b5-d3ff2fd885c2",
   "metadata": {},
   "source": [
    "### 3. 对数数轴上的分布\n",
    "\n",
    "由于乘 $2$ 对应于 $\\log_{10} x$ 的一个平移，平移量 $\\log_{10} 2 = 0.301\\dots$ 又不是一个有理数。\n",
    "可以想象\n",
    "\n",
    "**猜想**：反复乘 $2$ 操作会把 $\\log_{10}x$ 的小数部分打乱，使其成为在 $[0, 1)$ 成为一个均匀分布。\n",
    "\n",
    "这个猜想我们会在后面做进一步解释，这里我们先假定它是合理的。（它的数学原理和同余随机数发生器的原理是类似的。）"
   ]
  },
  {
   "cell_type": "markdown",
   "id": "5afa8bd8-7a41-46ad-bfe1-57a279e8f465",
   "metadata": {},
   "source": [
    "### 4. 首数字的概率\n",
    "\n",
    "所以，首数字为 $1$ 的几率为 $0.301 - 0 \\dots \\approx 30.1\\%$，会远远比首数字为 $9$ 的几率 $1-0.954\\dots \\approx 4.6\\%$ 大！\n",
    "\n",
    "一般地，首数字为 $d$ 的几率为\n",
    "\n",
    "$p(d) = \\log_{10}\\left(\\frac{d+1}{d}\\right).$\n",
    "\n",
    "在上述程序中， 折线所显示的就是这个公式的值。我们看到和模拟的直方图的结果是非常接近的。"
   ]
  },
  {
   "cell_type": "markdown",
   "id": "c3a1fbf9-0402-452d-9583-02909b61abab",
   "metadata": {
    "jp-MarkdownHeadingCollapsed": true,
    "tags": []
   },
   "source": [
    "## 本福特定律\n",
    "\n",
    "这个公式叫做本福特定律。它是由 Simon Newcomb 和 Frank Benford 发现的。\n",
    "\n",
    "本福特定律，或首位是1的数字大约占到30%的现象，无处不在。它也经常作为一个统计工具来监测数据异常。\n",
    "\n",
    "比如，斐波那契数列\n",
    "\n",
    "$a_0 = 0$, $a_1 = 1$, $a_{n} = a_{n-1} + a_{n-2}$ （$n \\ge 2$） \n",
    "\n",
    "这个数列的首数字也是满足本福特定律的。我们可以验证一下"
   ]
  },
  {
   "cell_type": "code",
   "execution_count": 56,
   "id": "57fe0250-2d1b-45d4-8d43-2aca96c5dd79",
   "metadata": {},
   "outputs": [
    {
     "data": {
      "image/png": "[encoded data removed]",
      "text/plain": [
       "<Figure size 432x288 with 1 Axes>"
      ]
     },
     "metadata": {
      "needs_background": "light"
     },
     "output_type": "display_data"
    }
   ],
   "source": [
    "def fibonacci(n):\n",
    "    x, y = 1, 1\n",
    "    result = [x, y]\n",
    "    for i in range(n):\n",
    "        x, y = y, x + y\n",
    "        result.append(get_leading_digit(y))\n",
    "    return result\n",
    "\n",
    "plt.hist(fibonacci(200), bins=9, range=(0.5,9.5), density=True, color='#cef', rwidth=0.9)\n",
    "plt.plot(range(1, 10), [math.log10(1+1/x) for x in range(1, 10)])\n",
    "plt.show()"
   ]
  },
  {
   "cell_type": "markdown",
   "id": "f4a8c179-1e90-4062-a041-9048e4435e5a",
   "metadata": {
    "tags": []
   },
   "source": [
    "## 对数数轴上的分布\n",
    "\n",
    "回到我们之前的理论问题。为什么我们说 $\\log_{10} x$ 的小数部分在$x$反复乘$2$的过程中，最后会满足一个 $[0, 1)$ 之间的均匀分布。\n",
    "\n",
    "假定 $y$ 是 $\\log_{10} x$ 的小数部分，现在 $x$ 在每次操作时会被乘以 2，那么 $y$ 会被加上 $\\log_{10} 2 = 0.301\\dots$ 后取整。\n",
    "\n",
    "我们的问题是，长期以往下去，$y$ 的序列满足怎样一个分布呢？"
   ]
  },
  {
   "cell_type": "markdown",
   "id": "811c64d9-63c6-423b-9d12-a2884eae2f67",
   "metadata": {
    "tags": []
   },
   "source": [
    "### 1. 系综\n",
    "\n",
    "我们现在考虑有许多 $y$，它们构成了一个**系综**。对这个系综，我们会有一个分布 $f(y)$。\n",
    "\n",
    "我们考虑的问题是这样的：在系综里的每个 $y$ 在经历一次乘 2 操作后，这个系综的分布 $f(y)$ 是怎么变化的呢？"
   ]
  },
  {
   "cell_type": "markdown",
   "id": "334ea307-bfcd-41a0-9b94-22ba09e1dd3f",
   "metadata": {
    "tags": []
   },
   "source": [
    "### 2. 分布\n",
    "\n",
    "为了简化讨论，我们把这个分布离散化，分为 10 个区间\n",
    "\n",
    "$[0, 0.1), [0.1, 0.2), \\dots, [0.9, 1)$\n",
    "\n",
    "我们的分布 $f(y)$ 可以用10个数字来代替\n",
    "\n",
    "| 序号 | <div style=\"width:90px\">区间</div> | $f_n$ |\n",
    "|------|-------|-----|\n",
    "| $0$ | $[0, 0.1)$ | $f_0$ |\n",
    "| $1$ | $[0.1, 0.2)$ | $f_1$ |\n",
    "| ... | $\\dots$ | $\\dots$ |\n",
    "| $9$ | $[0.9, 1)$ | $f_9$ |\n",
    "\n",
    "这些数字满足：\n",
    "\n",
    "$f_0 + f_1 + \\cdots + f_9 = 1$"
   ]
  },
  {
   "cell_type": "markdown",
   "id": "6c96b55d-da77-4ecb-a439-8ef02d44e6f3",
   "metadata": {
    "tags": []
   },
   "source": [
    "### 3. 分布的演化\n",
    "\n",
    "现在我们可以考虑这个分布的在一步操作后的变化了。\n",
    "\n",
    "这里我们再做一个近似：$\\log_{10} 2 \\approx 0.3$。\n",
    "\n",
    "* 如果一开始 $y$ 在区间 0 ，那么下一步，它被加上 $0.3$ 以后，就会落入区间 3\n",
    "\n",
    "* 一开始 $y$ 在区间 1，下一步会在区间 4\n",
    "\n",
    "* 一开始 $y$ 在区间 2，下一步会在区间 5\n",
    "\n",
    "* ...\n",
    "\n",
    "* 一开始 $y$ 在区间 9，下一步会在区间 2\n",
    "\n",
    "如果我们用 $f'$ 代表一步操作以后的分布，我们有\n",
    "\n",
    "* $f'_3 = f_0$\n",
    "* $f'_4 = f_1$\n",
    "* ...\n",
    "* $f'_2 = f_9$"
   ]
  },
  {
   "cell_type": "markdown",
   "id": "f0409049-b109-44fc-a83d-caa8217d77f9",
   "metadata": {
    "tags": []
   },
   "source": [
    "### 4. 稳态分布\n",
    "\n",
    "现在我们看看这个分布最后稳定后会长什么样子。这时，我们有\n",
    "\n",
    "$f'_i = f_i$\n",
    "\n",
    "比如，由上，我们有 $f_0 = f'_3$，但由于是稳态，我们还有 $f'_3 = f_3$，所以我们有 $f_0 = f_3$。\n",
    "也就是说，在稳态解里，$y$ 落在 $[0, 0.1)$ 比例和在 $[0.3, 0.4)$ 里的比例是相同的。\n",
    "\n",
    "用相同的逻辑进行推理，我们有\n",
    "\n",
    "* $f_3 = f_6$\n",
    "* $f_6 = f_9$\n",
    "* $f_9 = f_2$\n",
    "* $f_2 = f_5$\n",
    "* $f_5 = f_8$\n",
    "* $\\dots$\n",
    "\n",
    "最后的结果就是，所有的 $f_i$ 的值必须都相同！也就是说最后 $y$ 会满足一个均匀分布！\n",
    "\n",
    "当然，我们这里的论证比较粗糙，严格地讲，我们需要把 $[0, 1)$ 分成无穷多个区间。但是基本思想就是这样。\n",
    "\n",
    "而且另一个问题是，$\\log_{10} 2$ 并不严格等于 $0.3$，也就是说 $[0, 0.1)$ 不会被完全映射到 $[0.3, 0.4)$ 里。\n",
    "实际上，$\\log_{10} 2$ 是无理数这个特点会帮助这个分布均匀化。 "
   ]
  },
  {
   "cell_type": "markdown",
   "id": "55863e49-3ff0-41b4-ba3e-93c23054a12c",
   "metadata": {
    "tags": []
   },
   "source": [
    "### 5. 趋向平衡的过程\n",
    "\n",
    "虽然我们说稳态解是均匀分布，我们并没有证明这个解是稳定的。也就是说，如果一开始我们的系综不是稳态分布，在一步以后，它是否会更趋近于稳态分布还是离开稳态分布越来越远呢？这个问题就比较复杂，要用到转移矩阵的特征值，这里就不讨论了。暂且我们假定如果所乘的数 $m$ 对应的 $\\log_{10} m$ 是个无理数，这个均匀分布是稳定的。\n",
    "\n",
    "### 6. 时间平均和系综平均\n",
    "\n",
    "最后还有个问题，我们这里应用了系综这个概念，假定了有一群类似的 $y$，分布就是从这个系综算出来的。\n",
    "\n",
    "但这个系综是假想的，实际上我们可能只有一个 $y$ 在重复操作。为什么系综理论可以用在这里呢？\n",
    "\n",
    "我们可以这么想，对于一个$y$ 的序列，我们的系综是由它最开始的 $M = 10000$ 个值构成的。\n",
    "\n",
    "在一步操作后，这个系综变成了序列中第 $2$ 个值到第 $M + 1$ 个值；\n",
    "\n",
    "下一步操作后，变成了序列中第 $3$ 个值到第 $M + 2$ 个值；\n",
    "\n",
    "以此类推。如果均匀分布是稳定的，那么这个序列除了最开始那些值，后面的值构成的分布基本上就能很好地满足稳态分布了。"
   ]
  },
  {
   "cell_type": "markdown",
   "id": "9c61543e-8198-494d-a489-803b117c68d0",
   "metadata": {
    "tags": []
   },
   "source": [
    "### 7. 总结一下\n",
    "\n",
    "如果我们每次对 $x$ 乘以 $2$，那么 $\\log_{10} x$ 的小数部分最后会满足一个均匀分布。 \n",
    "\n",
    "其实我们每次乘以的数字可以是一个大于 $1$ 的实数 $m$，只要 $\\log_{10} m$ 是给无理数，最后总会得到一个均匀分布。"
   ]
  },
  {
   "cell_type": "markdown",
   "id": "d20246f9-edc9-4dc2-beff-af7c3044fc4f",
   "metadata": {
    "tags": []
   },
   "source": [
    "## 连续演化的模型\n",
    "\n",
    "我们可以把每次乘的数字 $2$ 分成两步操作，每次都是乘以 $m = \\sqrt{2}$。\n",
    "\n",
    "或者进一步细分为 $k$ 步操作，每次都是乘以 $m = \\sqrt[k]{2}$。\n",
    "\n",
    "在 $k$ 趋向无穷大时，它可以被一个连续的微分方程替代。\n",
    "\n",
    "事实上，本福特定律一般是用连续演化的模型来推导的（比如用于人口增长，细胞繁殖等大数）。\n",
    "\n",
    "从 $x_0$，我们用以下微分方程来演化\n",
    "\n",
    "$dx/dt = x,$\n",
    "\n",
    "这里的 $dt$ 相当于每次乘的数字减 1，即 $m = 1 + dt$。\n",
    "\n",
    "这样得到的数字 $x(t)$ 的首数字的时间平均也是满足本福特定律的。\n",
    "\n",
    "我们可以算出这个微分方程的解是\n",
    "\n",
    "$x(t) = x_0 \\exp(t).$\n",
    "\n",
    "下面这个程序是模拟连续情形下的首数字分布。"
   ]
  },
  {
   "cell_type": "code",
   "execution_count": 59,
   "id": "38e69d0c-ecee-4e9c-b89f-b5f8dbb73cac",
   "metadata": {},
   "outputs": [
    {
     "data": {
      "image/png": "[encoded data removed]",
      "text/plain": [
       "<Figure size 432x288 with 1 Axes>"
      ]
     },
     "metadata": {
      "needs_background": "light"
     },
     "output_type": "display_data"
    }
   ],
   "source": [
    "import random, math\n",
    "\n",
    "def diff_eq(x0, tmax, dt):\n",
    "    result = []\n",
    "    x = x0\n",
    "    nsteps = int(tmax/dt) + 1\n",
    "    for step in range(nsteps):\n",
    "        # 由于微分方程的解是 x = x0 exp(t)\n",
    "        # 我们有 x(t+dt) = x(t) exp(dt)\n",
    "        result.append(get_leading_digit(x))\n",
    "        x *= math.exp(dt)\n",
    "        # 为了防止 x 的值过大，我们把小数点左移几位\n",
    "        while x > 10:\n",
    "            x *= 0.1\n",
    "    return result\n",
    "\n",
    "plt.hist(diff_eq(3.14, 100, 0.1), bins=9, range=(0.5,9.5), density=True, color='#cef', rwidth=0.9)\n",
    "plt.plot(range(1, 10), [math.log10(1+1/x) for x in range(1, 10)])\n",
    "plt.show()"
   ]
  },
  {
   "cell_type": "markdown",
   "id": "a2c95cf1-5927-4d75-99c7-284507ef65de",
   "metadata": {},
   "source": [
    "## 扩展阅读\n",
    "\n",
    "* [李永乐老师对本福特定律的介绍](https://mp.weixin.qq.com/s/pXEr11FAesA2TmPSC8cN4A)"
   ]
  }
 ],
 "metadata": {
  "kernelspec": {
   "display_name": "Python 3 (ipykernel)",
   "language": "python",
   "name": "python3"
  },
  "language_info": {
   "codemirror_mode": {
    "name": "ipython",
    "version": 3
   },
   "file_extension": ".py",
   "mimetype": "text/x-python",
   "name": "python",
   "nbconvert_exporter": "python",
   "pygments_lexer": "ipython3",
   "version": "3.9.7"
  }
 },
 "nbformat": 4,
 "nbformat_minor": 5
}
