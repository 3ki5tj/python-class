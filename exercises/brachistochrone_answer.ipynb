{
 "cells": [
  {
   "cell_type": "code",
   "execution_count": 136,
   "id": "dbb58a06-825d-4ccb-9431-b66f18e18f18",
   "metadata": {},
   "outputs": [
    {
     "data": {
      "image/png": "[encoded data removed]",
      "text/plain": [
       "<Figure size 720x720 with 1 Axes>"
      ]
     },
     "metadata": {
      "needs_background": "light"
     },
     "output_type": "display_data"
    },
    {
     "name": "stdout",
     "output_type": "stream",
     "text": [
      "最少需要的时间为 6.163\n"
     ]
    }
   ],
   "source": [
    "''' Computing the brachistochrone curve by dynamic programming '''\n",
    "\n",
    "gravity = 1\n",
    "\n",
    "def shortest_time_dp(l, h, m, n, print_table = False):\n",
    "    infty = 1e10\n",
    "    dl = l/m\n",
    "    hmax = max(h, l*0.6)\n",
    "    dh = hmax/n\n",
    "\n",
    "    # initialize the speed table\n",
    "    speed = [(2*j*dh*gravity)**0.5 for j in range(n+1)]\n",
    "\n",
    "    # time table\n",
    "    # i: horizon index, from 0 to m\n",
    "    # j: vertical index, from 0 to n \n",
    "    table = [[0 for j in range(n+1)] for i in range(m+1)]\n",
    "\n",
    "    # initialize the first horizontal line\n",
    "    for i in range(1, m+1):\n",
    "        table[i][0] = infty\n",
    "\n",
    "    # initialize the first vertical line\n",
    "    for j in range(1, n+1):\n",
    "        table[0][j] = (2*j*dh/gravity)**0.5\n",
    "\n",
    "    # initialize the backtracking table\n",
    "    # register the vertical index j at the previous column\n",
    "    back_table = [[j for j in range(n+1)] for i in range(m+1)]\n",
    "        \n",
    "    # main recursion\n",
    "    for i in range(1, m+1):\n",
    "        for j in range(n+1):\n",
    "            t_min = infty\n",
    "            # loop over the vertical position j_prev of the previous column\n",
    "            for j_prev in range(n+1):\n",
    "                # because the velocity has a constant acceleration\n",
    "                # the distance travelled is exactly equal to\n",
    "                # the average velocity times the time interval\n",
    "                # On a perfectly smooth ramp,\n",
    "                # the speed is a function of only vertical distance \n",
    "                av_speed = max(1/infty, (speed[j] + speed[j_prev])*0.5)\n",
    "                ds = (((j-j_prev)*dh)**2 + dl**2)**0.5\n",
    "                dt = ds/av_speed\n",
    "                tj = table[i-1][j_prev] + dt\n",
    "                if tj < t_min:\n",
    "                    t_min, back = tj, j_prev\n",
    "\n",
    "            table[i][j] = t_min\n",
    "            back_table[i][j] = back\n",
    "\n",
    "    if print_table:\n",
    "        # print the tables\n",
    "        for j in range(n+1):\n",
    "            for i in range(m+1):\n",
    "                print(\"%.2f(%s)\" % (table[i][j], j-back_table[i][j]), end=\"  \")\n",
    "            print(\"\\n\")\n",
    "            \n",
    "    # start tracing back the curve of the ramp\n",
    "    # each element of `ramp` is the coordinates of a point on the curve\n",
    "    ramp = [(l, -h)] # destination point\n",
    "    \n",
    "    # the last segment of the curve is a vertically climbing one\n",
    "    # we will go through the grid points of the last column\n",
    "    # to find the grid that gives the minimal total time\n",
    "    t_min, j_last = infty, n\n",
    "    for j in range(1, n+1):\n",
    "        v = 0.5*(speed[j] + (2*gravity*h)**0.5)\n",
    "        tj = table[m][j] + abs(h - j*dh)/v\n",
    "        if tj < t_min:\n",
    "            t_min, j_last = tj, j\n",
    "    ramp = [(dl*i, -dh*j_last)] + ramp\n",
    "\n",
    "    j = j_last\n",
    "    for i in range(m, 0, -1):\n",
    "        j_prev = back_table[i][j]\n",
    "        j = j_prev\n",
    "        ramp = [(dl*(i-1), -dh*j)] + ramp\n",
    "\n",
    "    # the first segment of the curve is a vertical drop\n",
    "    # from the origin to the first point of backtracking\n",
    "    ramp = [(0, 0)] + ramp\n",
    "    \n",
    "    return ramp, t_min\n",
    "\n",
    "def shortest_time(l, h):\n",
    "    m = 20\n",
    "    n = m*10\n",
    "    return shortest_time_dp(l, h, m, n)\n",
    "\n",
    "ramp, t = shortest_time(10, 2)\n",
    "\n",
    "import matplotlib.pyplot as plt\n",
    "ramp_x, ramp_y = list(zip(*ramp))\n",
    "fig = plt.figure(figsize=(10, 10))\n",
    "ax = fig.add_subplot(111,aspect='equal')\n",
    "plt.plot(ramp_x, ramp_y, '.-')\n",
    "plt.show()\n",
    "\n",
    "print(f\"最少需要的时间为 {t:.{4}}\")"
   ]
  },
  {
   "cell_type": "code",
   "execution_count": null,
   "id": "3d88cb7a-323e-4a85-859b-2655f85b843e",
   "metadata": {},
   "outputs": [],
   "source": []
  }
 ],
 "metadata": {
  "kernelspec": {
   "display_name": "Python 3 (ipykernel)",
   "language": "python",
   "name": "python3"
  },
  "language_info": {
   "codemirror_mode": {
    "name": "ipython",
    "version": 3
   },
   "file_extension": ".py",
   "mimetype": "text/x-python",
   "name": "python",
   "nbconvert_exporter": "python",
   "pygments_lexer": "ipython3",
   "version": "3.9.7"
  }
 },
 "nbformat": 4,
 "nbformat_minor": 5
}
