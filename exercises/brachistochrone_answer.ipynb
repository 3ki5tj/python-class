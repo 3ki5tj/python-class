{
 "cells": [
  {
   "cell_type": "code",
   "execution_count": 134,
   "id": "dbb58a06-825d-4ccb-9431-b66f18e18f18",
   "metadata": {},
   "outputs": [
    {
     "data": {
      "image/png": "[encoded data removed]",
      "text/plain": [
       "<Figure size 720x720 with 1 Axes>"
      ]
     },
     "metadata": {
      "needs_background": "light"
     },
     "output_type": "display_data"
    },
    {
     "name": "stdout",
     "output_type": "stream",
     "text": [
      "最少需要的时间为 6.163\n"
     ]
    }
   ],
   "source": [
    "''' Computing the brachistochrone curve by dynamic programming '''\n",
    "\n",
    "gravity = 1\n",
    "\n",
    "def shortest_time_dp(l, h, m, n, print_table = False):\n",
    "    infty = 1e10\n",
    "    dl = l/m\n",
    "    hmax = max(h, l*0.6)\n",
    "    dh = hmax/n\n",
    "\n",
    "    # initialize the speed table\n",
    "    speed = [(2*j*dh*gravity)**0.5 for j in range(n+1)]\n",
    "\n",
    "    # time table\n",
    "    table = [[0 for j in range(n+1)] for i in range(m+1)]\n",
    "\n",
    "    # initialize the first horizontal line\n",
    "    for i in range(1, m+1):\n",
    "        table[i][0] = infty\n",
    "        \n",
    "    # initialize the first vertical line\n",
    "    for j in range(1, n+1):\n",
    "        table[0][j] = (2*j*dh/gravity)**0.5\n",
    "\n",
    "    # initialize the backtracking table\n",
    "    # register\n",
    "    back_table = [[j for j in range(n+1)] for i in range(m+1)]\n",
    "        \n",
    "    # main recursion\n",
    "    for i in range(1, m+1):\n",
    "        for j in range(n+1):\n",
    "            t_min = infty\n",
    "            for j_prev in range(n+1):\n",
    "                av_speed = max(1/infty, (speed[j] + speed[j_prev])*0.5)\n",
    "                ds = (((j-j_prev)*dh)**2 + dl**2)**0.5\n",
    "                dt = ds/av_speed\n",
    "                tj = table[i-1][j_prev] + dt\n",
    "                if tj < t_min:\n",
    "                    t_min = tj\n",
    "                    back = j_prev\n",
    "            \n",
    "            table[i][j] = t_min\n",
    "            back_table[i][j] = back\n",
    "\n",
    "    if print_table:\n",
    "        # print the tables\n",
    "        for j in range(n+1):\n",
    "            for i in range(m+1):\n",
    "                print(\"%.2f(%s)\" % (table[i][j], j-back_table[i][j]), end=\"  \")\n",
    "            print(\"\\n\")\n",
    "            \n",
    "    # backtracking\n",
    "    ramp = [(l, -h)] # last point\n",
    "    \n",
    "    # searching the vertical ending grid points, so that the ball can climb up vertically\n",
    "    t_min = infty\n",
    "    for j in range(1, n+1):\n",
    "        v = 0.5*(speed[j] + (2*gravity*h)**0.5)\n",
    "        tj = table[m][j] + abs(h - j*dh)/v\n",
    "        if tj < t_min:\n",
    "            j_last = j\n",
    "            t_min = tj\n",
    "    ramp = [(dl*i, -dh*j_last)] + ramp\n",
    "\n",
    "    j = j_last\n",
    "    for i in range(m, 0, -1):\n",
    "        j_prev = back_table[i][j]\n",
    "        j = j_prev\n",
    "        ramp = [(dl*(i-1), -dh*j)] + ramp\n",
    "\n",
    "    while j > 0:\n",
    "        ramp = [(0, -dh*(j-1))] + ramp\n",
    "        j -= 1\n",
    "    \n",
    "    return ramp, t_min\n",
    "\n",
    "def shortest_time(l, h):\n",
    "    m = 20\n",
    "    n = m*10\n",
    "    return shortest_time_dp(l, h, m, n)\n",
    "\n",
    "ramp, t = shortest_time(10, 2)\n",
    "\n",
    "import matplotlib.pyplot as plt\n",
    "ramp_x, ramp_y = list(zip(*ramp))\n",
    "fig = plt.figure(figsize=(10, 10))\n",
    "ax = fig.add_subplot(111,aspect='equal')\n",
    "plt.plot(ramp_x, ramp_y, '.-')\n",
    "plt.show()\n",
    "\n",
    "print(f\"最少需要的时间为 {t:.{4}}\")"
   ]
  }
 ],
 "metadata": {
  "kernelspec": {
   "display_name": "Python 3 (ipykernel)",
   "language": "python",
   "name": "python3"
  },
  "language_info": {
   "codemirror_mode": {
    "name": "ipython",
    "version": 3
   },
   "file_extension": ".py",
   "mimetype": "text/x-python",
   "name": "python",
   "nbconvert_exporter": "python",
   "pygments_lexer": "ipython3",
   "version": "3.9.7"
  }
 },
 "nbformat": 4,
 "nbformat_minor": 5
}
