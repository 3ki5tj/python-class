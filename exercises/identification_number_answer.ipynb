{
 "cells": [
  {
   "cell_type": "code",
   "execution_count": 4,
   "id": "9f99e451-7c46-4fb9-ae3c-25886a59b4f7",
   "metadata": {},
   "outputs": [
    {
     "data": {
      "text/plain": [
       "True"
      ]
     },
     "execution_count": 4,
     "metadata": {},
     "output_type": "execute_result"
    }
   ],
   "source": [
    "def is_valid_id_num(id_num):\n",
    "    ls = []\n",
    "    for c in id_num:\n",
    "        if c == 'X':\n",
    "            num = 10\n",
    "        else:\n",
    "            num = int(c)\n",
    "        ls += [num]\n",
    "    \n",
    "    rev = list(reversed(ls))\n",
    "    \n",
    "    S = 0\n",
    "    for i in range(len(rev)):\n",
    "        S += rev[i] * 2**i\n",
    "    \n",
    "    valid = (S % 11 == 1)\n",
    "    return valid\n",
    "\n",
    "is_valid_id_num(\"21020319960101007X\")"
   ]
  },
  {
   "cell_type": "code",
   "execution_count": null,
   "id": "ce5684f7-93e9-4d3a-a116-ad561a62853a",
   "metadata": {},
   "outputs": [],
   "source": []
  }
 ],
 "metadata": {
  "kernelspec": {
   "display_name": "Python 3 (ipykernel)",
   "language": "python",
   "name": "python3"
  },
  "language_info": {
   "codemirror_mode": {
    "name": "ipython",
    "version": 3
   },
   "file_extension": ".py",
   "mimetype": "text/x-python",
   "name": "python",
   "nbconvert_exporter": "python",
   "pygments_lexer": "ipython3",
   "version": "3.9.7"
  }
 },
 "nbformat": 4,
 "nbformat_minor": 5
}
