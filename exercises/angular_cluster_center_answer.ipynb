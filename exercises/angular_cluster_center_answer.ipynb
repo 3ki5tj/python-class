{
 "cells": [
  {
   "cell_type": "code",
   "execution_count": 13,
   "id": "0ba70eac-72ae-4bbb-a864-b544e86a02bd",
   "metadata": {},
   "outputs": [
    {
     "data": {
      "text/plain": [
       "(87, 2.3325)"
      ]
     },
     "execution_count": 13,
     "metadata": {},
     "output_type": "execute_result"
    }
   ],
   "source": [
    "def angular_dist(x, c):\n",
    "    d = (x - c + 360) % 360\n",
    "    return min(d, 360 - d)\n",
    "\n",
    "def angular_cluster_center(angles):\n",
    "    best_c, max_size = 0, -1\n",
    "    for c in range(360):\n",
    "        size = sum(max(1 - (angular_dist(x, c)/20)**2, 0) for x in angles)\n",
    "        if size > max_size:\n",
    "            best_c, max_size = c, size\n",
    "    return best_c, max_size\n",
    "\n",
    "angular_cluster_center([80, 100, 80, -80, -90])"
   ]
  },
  {
   "cell_type": "code",
   "execution_count": null,
   "id": "6bd7cf25-f70b-4bba-9955-21ffc5626a81",
   "metadata": {},
   "outputs": [],
   "source": []
  }
 ],
 "metadata": {
  "kernelspec": {
   "display_name": "Python 3 (ipykernel)",
   "language": "python",
   "name": "python3"
  },
  "language_info": {
   "codemirror_mode": {
    "name": "ipython",
    "version": 3
   },
   "file_extension": ".py",
   "mimetype": "text/x-python",
   "name": "python",
   "nbconvert_exporter": "python",
   "pygments_lexer": "ipython3",
   "version": "3.9.7"
  }
 },
 "nbformat": 4,
 "nbformat_minor": 5
}
