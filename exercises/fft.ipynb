{
 "cells": [
  {
   "cell_type": "markdown",
   "id": "4f73bd2c-1f67-4ed9-99ae-b63f1aed7b05",
   "metadata": {},
   "source": [
    "1. 在一个多项式中，傅里叶变换前后的向量分别代表什么含义"
   ]
  },
  {
   "cell_type": "markdown",
   "id": "2405eccc-7444-4671-83ff-38296241d93e",
   "metadata": {},
   "source": [
    "2.\n",
    "\n",
    "* 计算 $\\mathbf{x} = (1, 2, 3, 4)^T$ 的傅里叶变换是\n",
    "\n",
    "* 计算结果的傅里叶逆变换\n"
   ]
  },
  {
   "cell_type": "markdown",
   "id": "1e6932eb-eece-4c23-b9fa-a4d35d383d61",
   "metadata": {},
   "source": [
    "3.\n",
    "\n",
    "用快速傅里叶变换计算 $(1+x)^{31}$ 的多项式系数 \n",
    "\n",
    "程序模板"
   ]
  },
  {
   "cell_type": "code",
   "execution_count": 7,
   "id": "f3cc0cc9-953f-4621-9ee1-e2be8109dc87",
   "metadata": {},
   "outputs": [
    {
     "name": "stdout",
     "output_type": "stream",
     "text": [
      "[        1        31       465      4495     31465    169911    736281\n",
      "   2629575   7888725  20160075  44352165  84672315 141120525 206253075\n",
      " 265182525 300540195 300540195 265182525 206253075 141120525  84672315\n",
      "  44352165  20160075   7888725   2629575    736281    169911     31465\n",
      "      4495       465        31         1]\n"
     ]
    }
   ],
   "source": [
    "'''  \n",
    "问题：用快速傅里叶变换计算 (1+x)**31 的多项式系数\n",
    "\n",
    "【编程练习】\n",
    " * 把程序复制到自己的笔记本上\n",
    " * 阅读并试图理解代码\n",
    " * 找到代码中标有 “【编程练习】 补全代码” 的地方，补全缺失的代码\n",
    " * 跑通程序，运行并记录结果\n",
    " * 修改程序参数（如水平距离、垂直距离、网格数等），观察最速降线和最短时间如何变化\n",
    "    \n",
    "'''\n",
    "import numpy as np\n",
    "\n",
    "# 【编程练习】 补全代码\n",
    "# 输入的数组的长度需要是 2 的乘方，所以要在输入数组后添零\n",
    "# 想一想，这里至少需要添多少个零，才能保证计算结果正确？\n",
    "a = np.array([1, 1] + [0]*...) \n",
    "\n",
    "# 傅里叶正变换\n",
    "b = np.fft.fft(a) \n",
    "\n",
    "# 【编程练习】 补全代码\n",
    "# 思考一下数组 b 的涵义\n",
    "# 如果要计算多项式 a 的 31 次方，b 应该如何变化？\n",
    "b31 = ... \n",
    "\n",
    "# 傅里叶逆变换\n",
    "a31 = np.int64(np.round(np.fft.ifft(b31).real)) \n",
    "\n",
    "# 打印结果\n",
    "print(a31)"
   ]
  },
  {
   "cell_type": "markdown",
   "id": "bcd54215-70b3-4a64-83f0-5f57bc43e239",
   "metadata": {},
   "source": [
    "# 补充材料\n",
    "\n",
    "## 小结\n",
    "\n",
    "![快速傅里叶变换算法小结](https://i.niupic.com/images/2022/01/29/9UnJ.png)\n",
    "\n",
    "## 实现 FFT 算法\n",
    "\n",
    "* [快速傅里叶变换算法伪代码 视频 22:14](https://www.bilibili.com/video/BV1Hf4y1i7Qe?p=1&share_medium=android&share_plat=android&share_source=WEIXIN&share_tag=s_i&timestamp=1641951550&unique_k=NEj9Pz1&share_times=1)\n",
    "\n",
    "![快速傅里叶变换算法伪代码](https://i.niupic.com/images/2022/01/29/9UnC.png)"
   ]
  },
  {
   "cell_type": "code",
   "execution_count": 10,
   "id": "4612c1aa-1499-4bbf-8473-48ec91825618",
   "metadata": {},
   "outputs": [
    {
     "name": "stdout",
     "output_type": "stream",
     "text": [
      "[(10+0j), (-2-2j), (-2+0j), (-1.9999999999999998+2j)]\n",
      "[1, 2, 3, 4]\n"
     ]
    }
   ],
   "source": [
    "import cmath\n",
    "\n",
    "def FFT(P, inverse=False):\n",
    "    n = len(P)\n",
    "    if n == 1:\n",
    "        return P\n",
    "    omega = cmath.exp(2j*cmath.pi/n)\n",
    "    if inverse:\n",
    "        omega = 1/omega\n",
    "    Pe, Po = P[::2], P[1::2]\n",
    "    ye, yo = FFT(Pe), FFT(Po)\n",
    "    y = [0]*n\n",
    "    for j in range(n//2):\n",
    "        omega_j = omega**j\n",
    "        y[j] = ye[j] + omega_j * yo[j]\n",
    "        y[j+n//2] = ye[j] - omega_j * yo[j]\n",
    "    if inverse:\n",
    "        y = [y[i]/n for i in range(n)]\n",
    "    return y\n",
    "\n",
    "def IFFT(P):\n",
    "    return FFT(P, True)\n",
    "\n",
    "a = [1, 2, 3, 4]\n",
    "b = FFT(a)\n",
    "ap = IFFT(b)\n",
    "print(a, b, ap, sep='\\n')"
   ]
  }
 ],
 "metadata": {
  "kernelspec": {
   "display_name": "Python 3 (ipykernel)",
   "language": "python",
   "name": "python3"
  },
  "language_info": {
   "codemirror_mode": {
    "name": "ipython",
    "version": 3
   },
   "file_extension": ".py",
   "mimetype": "text/x-python",
   "name": "python",
   "nbconvert_exporter": "python",
   "pygments_lexer": "ipython3",
   "version": "3.9.7"
  }
 },
 "nbformat": 4,
 "nbformat_minor": 5
}
