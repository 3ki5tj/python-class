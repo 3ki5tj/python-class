{
 "cells": [
  {
   "cell_type": "markdown",
   "id": "71f2db95-9f0a-4116-8592-5f64b6a4a179",
   "metadata": {},
   "source": [
    "# 斐波那契数列的通项公式\n",
    "\n",
    "先让我们回顾一下，斐波那契数列的定义是：\n",
    "\n",
    "$$\n",
    "\\begin{eqnarray}\n",
    "a_0 &=& 0, \\\\\n",
    "a_1 &=& 1, \\\\\n",
    "a_n &=& a_{n-1} + a_{n-2}, \\mathrm{\\;\\;for\\;} n \\ge 2\n",
    "\\end{eqnarray}\n",
    "$$\n",
    "\n",
    "所以我们可以用上面的递推式计算斐波那契数列："
   ]
  },
  {
   "cell_type": "code",
   "execution_count": 16,
   "id": "9e7059ca-57f8-4938-a83f-be3254cd417f",
   "metadata": {},
   "outputs": [
    {
     "data": {
      "text/plain": [
       "55"
      ]
     },
     "execution_count": 16,
     "metadata": {},
     "output_type": "execute_result"
    }
   ],
   "source": [
    "def fibonacci(n):\n",
    "    ''' 用递推公式计算第 n 个斐波那契数 '''\n",
    "    if n == 0:\n",
    "        return 0\n",
    "\n",
    "    x, y = 0, 1\n",
    "    for i in range(2, n+1):\n",
    "        x, y = y, x + y\n",
    "        #print(i, y)  \n",
    "    return y\n",
    "\n",
    "fibonacci(10)"
   ]
  },
  {
   "cell_type": "markdown",
   "id": "64c0146d-7dff-4a36-98f0-68d9874ee3ef",
   "metadata": {},
   "source": [
    "其实，斐波那契数列可以用一个通项公式表达出来\n",
    "$$\n",
    "    a_n = \\frac{1}{\\sqrt 5} \\left[\n",
    "            \\left(\n",
    "                \\frac{1 + \\sqrt 5}{2}\n",
    "            \\right)^n\n",
    "            -\n",
    "            \\left(\n",
    "                \\frac{1 - \\sqrt 5}{2}\n",
    "            \\right)^n\n",
    "        \\right]\n",
    "$$\n",
    "（虽然它是一个根式表达式，但最后结果却是一个整数。）\n",
    "\n",
    "这道习题里，我们将验证这个公式的正确性。"
   ]
  },
  {
   "cell_type": "markdown",
   "id": "ff9af755-758b-4486-a79f-f36adc82f263",
   "metadata": {},
   "source": [
    "<b>问题：</b> 请写一个函数，返回斐波那契数列的第 $n$ 项的值。\n",
    "\n",
    "<b>提示：</b> 以上函数会返回的一个浮点数，会有大约 $10^{-15}$ 左右的舍入误差，可以用 `round()` 函数四舍五入为一个整数。\n",
    "\n",
    "你在编程时，可以使用以下模板："
   ]
  },
  {
   "cell_type": "code",
   "execution_count": 29,
   "id": "91b51cf6-f7f9-4d26-a519-b619e2472dfa",
   "metadata": {},
   "outputs": [],
   "source": [
    "def fibonacci_formula(n):\n",
    "    ''' 返回第 n 个斐波那契数 '''\n",
    "    an = ...\n",
    "    return round(an)\n",
    "\n",
    "for n in range(15):\n",
    "    print(\"{}: {} {}\".format(n, fibonacci(n), fibonacci_formula(n)))"
   ]
  },
  {
   "cell_type": "markdown",
   "id": "f9ef4cf2-576c-4ac0-bdb9-505d92fa2d8d",
   "metadata": {},
   "source": []
  },
  {
   "cell_type": "markdown",
   "id": "0b020af4-774f-4037-912d-f8c061b2d6ca",
   "metadata": {},
   "source": []
  },
  {
   "cell_type": "code",
   "execution_count": null,
   "id": "310bc7cf-0020-4c38-bc4d-3b0163568df6",
   "metadata": {},
   "outputs": [],
   "source": []
  }
 ],
 "metadata": {
  "kernelspec": {
   "display_name": "Python 3 (ipykernel)",
   "language": "python",
   "name": "python3"
  },
  "language_info": {
   "codemirror_mode": {
    "name": "ipython",
    "version": 3
   },
   "file_extension": ".py",
   "mimetype": "text/x-python",
   "name": "python",
   "nbconvert_exporter": "python",
   "pygments_lexer": "ipython3",
   "version": "3.9.7"
  },
  "toc-autonumbering": false
 },
 "nbformat": 4,
 "nbformat_minor": 5
}
