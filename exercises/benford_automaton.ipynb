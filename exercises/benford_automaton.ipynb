{
 "cells": [
  {
   "cell_type": "markdown",
   "id": "d7845454-9cc5-4791-86ce-5bec181be2ae",
   "metadata": {},
   "source": [
    "# 本福特自动机\n",
    "\n",
    "## 问题\n",
    "\n",
    "对于任意一个正整数 $x_0$，对它反复乘 $2$，进行 $t$ 次并都记录下所得的数字的首位数字。\n",
    "\n",
    "比如，$x_0 = 7$，那么连续乘 $2$ 得到的序列为\n",
    "\n",
    "$7, 14, 28, 56, 112, 224, 448, 896, \\dots$\n",
    "\n",
    "首位数字为\n",
    "\n",
    "$7, 1, 2, 5, 1, 2, 4, 8, \\dots$\n",
    "\n",
    "现在我们从 $x0 = 1 \\dots 9$ 开始试验，并把所得的数的首位数合在一起，这些首位数字的分布是什么样的呢？\n",
    "\n",
    "### 讨论\n",
    "\n",
    "* 如果 $t = 0$，我们会得到 $1$ 到 $9$ 这九个原来的数字，显然这是一个均匀分布？\n",
    "* 但如果 $t$ 很大的话，得到的首位数字是否还能保持一个 $1$ 到 $9$ 之间的均匀分布呢？"
   ]
  },
  {
   "cell_type": "markdown",
   "id": "7c0d412d-3f6d-47cc-8430-3e60af9038ed",
   "metadata": {},
   "source": [
    "## 编程问题\n",
    "\n",
    "计算以上过程在 $t = 100$ 后得到的分布。 \n",
    "\n",
    "你可以用以下模板上手，当然其中有些细节需要你将其补充，比如想一想，如何计算一个数的首位数字？\n",
    "\n",
    "最后几行是调用 `matplotlib` 来绘制直方图，如果不熟悉，可以不用管，直接用即可。"
   ]
  },
  {
   "cell_type": "code",
   "execution_count": 39,
   "id": "5e1e0f8f-fffa-4c71-97d9-720950061ce3",
   "metadata": {},
   "outputs": [],
   "source": [
    "def multiply(x0, tmax):\n",
    "    ''' 对 x0，计算连续 tmax 次乘 2 做 后的首数字的列表 '''\n",
    "    return [...]\n",
    "\n",
    "def simulation(tmax):\n",
    "    ''' 对 1-9 中每个数，计算连续 tmax 次乘 2 做 后的首数字的列表 '''\n",
    "    result = []\n",
    "    for x0 in range(1, 10):\n",
    "        result_of_x0 = multiply(x0, tmax)\n",
    "        result.extend(result_of_x0)\n",
    "    return result\n",
    "\n",
    "# 模拟 100 步的结果\n",
    "result = simulation(100)\n",
    "\n",
    "# 导入画图包\n",
    "import matplotlib.pyplot as plt\n",
    "# 把从 result_of_x0 所计算的直方图画出来\n",
    "plt.hist(result, bins=9, range=(0.5,9.5), rwidth=0.9)\n",
    "plt.show()"
   ]
  },
  {
   "cell_type": "markdown",
   "id": "a9f4f909-fd33-462a-b59a-02b3485a7ddb",
   "metadata": {},
   "source": [
    "## 深度探讨\n",
    "\n",
    "如果你把这程序编出来并跑通了，那非常祝贺你！了不起！\n",
    "\n",
    "不过，编程只是我们用计算机做实验的一个手段。更重要的是要建立理论来理解这个实验的结果。而这往往需要一些数学才行。\n",
    "\n",
    "* 你可能会对你得到的结果吃惊。为了理解这个结果，最好的办法是弄个数学模型来帮助自己建立一个比较直观和图像化的理解。比如思考一下在反复乘 $2$ 的过程中，我们操作的数字的对数是如何变化的？它在数轴上是怎么运动的？\n",
    "\n",
    "* 虽然我们这个过程比较简单，但本质上它也是一个动力学系统，和牛顿方程研究的问题很相似。为了研究复杂体系的牛顿方程，物理学家们在上世纪创立了统计力学。统计力学中的一个基本假设是系综平均和时间平均是等价的，思考一下，这个问题里什么是时间平均，什么是系综平均？它们等价吗？（这个问题有点狡猾，要准确定义这里的系综并不是那么简单的。）"
   ]
  }
 ],
 "metadata": {
  "kernelspec": {
   "display_name": "Python 3 (ipykernel)",
   "language": "python",
   "name": "python3"
  },
  "language_info": {
   "codemirror_mode": {
    "name": "ipython",
    "version": 3
   },
   "file_extension": ".py",
   "mimetype": "text/x-python",
   "name": "python",
   "nbconvert_exporter": "python",
   "pygments_lexer": "ipython3",
   "version": "3.9.7"
  }
 },
 "nbformat": 4,
 "nbformat_minor": 5
}
