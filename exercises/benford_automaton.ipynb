{
 "cells": [
  {
   "cell_type": "markdown",
   "id": "7787400f-cece-4fdd-b2bf-87a09b3d9394",
   "metadata": {},
   "source": [
    "# 本福特自动机\n",
    "\n",
    "## 问题\n",
    "\n",
    "对于任意一个正整数 $x_0$，对它反复乘 $2$，进行 $t$ 次并每次都记录下所得的数字的首位数字。\n",
    "\n",
    "比如，$x_0 = 7$，那么连续乘 $2$ 得到的序列为\n",
    "\n",
    "$7, 14, 28, 56, 112, 224, 448, 896, \\dots$\n",
    "\n",
    "首位数字为\n",
    "\n",
    "$7, 1, 2, 5, 1, 2, 4, 8, \\dots$\n",
    "\n",
    "现在我们从 $x_0 = 1 \\dots 9$ 开始试验，并把所得的数的首位数字合在一起，这些首位数字的分布是什么样的？"
   ]
  },
  {
   "cell_type": "markdown",
   "id": "ba4ab27a-b8c9-416c-8f1d-b5225d9cefc7",
   "metadata": {},
   "source": [
    "### 讨论\n",
    "\n",
    "* 如果 $t = 0$，我们会得到 $1$ 到 $9$ 这九个原来的数字，显然这是一个均匀分布。\n",
    "* 但如果 $t$ 很大的话，得到的首位数字是否还能保持一个 $1$ 到 $9$ 之间的均匀分布呢？"
   ]
  },
  {
   "cell_type": "markdown",
   "id": "7c0d412d-3f6d-47cc-8430-3e60af9038ed",
   "metadata": {},
   "source": [
    "## 编程问题\n",
    "\n",
    "计算以上过程在 $t = 100$ 后得到的分布。 \n",
    "\n",
    "你可以用以下模板入手，加入其中实现的细节，比如\n",
    " * 想一想，如何计算一个数的首位数字？\n",
    "\n",
    "最后几行是调用 `matplotlib` 来绘制直方图，如果不熟悉，可以不用管，直接用即可。"
   ]
  },
  {
   "cell_type": "code",
   "execution_count": 17,
   "id": "a4516353-1aa5-4a25-809f-24ebc490b9fe",
   "metadata": {},
   "outputs": [
    {
     "name": "stdout",
     "output_type": "stream",
     "text": [
      "1:     1    0.001\n",
      "2:     2    0.002\n",
      "3:     1    0.001\n",
      "4:     3    0.003\n",
      "5:     1    0.001\n",
      "6:     2    0.002\n",
      "7:     1    0.001\n",
      "8:     4    0.004\n",
      "9:     1    0.001\n"
     ]
    },
    {
     "data": {
      "image/png": "[encoded data removed]",
      "text/plain": [
       "<Figure size 432x288 with 1 Axes>"
      ]
     },
     "metadata": {
      "needs_background": "light"
     },
     "output_type": "display_data"
    }
   ],
   "source": [
    "'''\n",
    "问题：对于任意一个正整数 x0，对它乘 2，重复进行 tmax = 100 次并都记录下所得的数字的首位数字。\n",
    "从 x0 = 1, 2, ..., 9 开始试验，并把所得的数的首位数合在一起，这些首位数字的分布是什么样的？\n",
    "\n",
    "编程练习：\n",
    " * 修改 get_leading_digit(x) 函数，使它能返回一个正整数 x 的首位数字。\n",
    " * 跑通程序，运行结果\n",
    "'''\n",
    "\n",
    "def get_leading_digit(x):\n",
    "    ''' 计算一个整数 x 的首位数字 '''\n",
    "    if x < 10: # 如果 x 在 1 到 9 之间，直接返回 x\n",
    "        return x\n",
    "    else:\n",
    "        # 【编程任务】\n",
    "        # 请在这里加入你的代码，计算大于等于10的数的首位数字\n",
    "        # 提示：可以用循环逐渐缩小数字使其落在 [1, 10) 之间\n",
    "        pass\n",
    "\n",
    "def multiply(x0, tmax):\n",
    "    ''' 对 x0，计算连续 tmax 次乘以 2 后得到的数的首位数字的列表 '''\n",
    "    result = [x0] # 存储结果的列表，先把初始值 x0 放进列表\n",
    "    \n",
    "    x = x0\n",
    "    for i in range(tmax):\n",
    "        x *= 2 # 每次把 x 乘以\n",
    "        leading_digit = get_leading_digit(x) # 计算首位数字\n",
    "        result.append(leading_digit) # 把首数字加入计算结果的列表中 \n",
    "\n",
    "    return result\n",
    "\n",
    "def simulation(tmax):\n",
    "    ''' 对 1-9 中每个数，计算连续 tmax 次乘 2 后得到的数的首数字的列表 '''\n",
    "    result = [] # 用于存储结果的列表\n",
    "    for x0 in range(1, 10): # 从 1 到 9 分别进行模拟\n",
    "        result_of_x0 = multiply(x0, tmax) # 计算从 x0 开始模拟的结果\n",
    "        result.extend(result_of_x0) # 把结果追加到总结果的列表里\n",
    "    return result\n",
    "\n",
    "# 模拟 100 步的结果，把结果存储在 result 里面\n",
    "result = simulation(100)\n",
    "\n",
    "for i in range(1, 10): # 对首位数字 i = 1, ..., 9 循环\n",
    "    ni = result.count(i) # 结果中首数字为 i 的出现次数\n",
    "    fi = ni/len(result) # 首数字为 i 出现的几率\n",
    "    print(f\"{i}: {ni:5} {fi:8.3f}\") # 打印 \"数字: 出现次数 频率\"\n",
    "\n",
    "# 把首位数字的结果以直方图的形式画出来，可以在命令行和 Jupyter 中运行\n",
    "try:\n",
    "    # 导入画图包\n",
    "    import matplotlib.pyplot as plt\n",
    "    # 把首位数字的列表的直方图画出来\n",
    "    plt.hist(result, bins=9, range=(0.5,9.5), rwidth=0.9)\n",
    "    plt.show()\n",
    "except:\n",
    "    pass"
   ]
  },
  {
   "cell_type": "markdown",
   "id": "a9f4f909-fd33-462a-b59a-02b3485a7ddb",
   "metadata": {},
   "source": [
    "## 深度探讨\n",
    "\n",
    "如果你把这程序编出来并跑通了，那非常祝贺你！\n",
    "\n",
    "不过，编程只是我们用计算机做实验的一个手段。更重要的是要建立理论来理解这个实验的结果。而这往往需要一些数学才行。\n",
    "\n",
    "* 你可能会对你得到的结果吃惊。为了理解这个结果，最好的办法是弄个数学模型来帮助自己建立一个比较直观和图像化的理解。比如思考一下在反复乘 $2$ 的过程中，我们操作的数字的对数是如何变化的？它在数轴上是怎么运动的？\n",
    "\n",
    "* 如果我们每次乘的不是 2，而是 3 或者是 1.23，得到的结果会怎么变化？\n",
    "\n",
    "* 虽然我们这个过程比较简单，但本质上它也是一个动力学系统，和牛顿方程研究的问题很相似。为了研究动力学系统中的统计分布，物理学家们在上世纪创立了统计力学。统计力学研究分布的一个主要手段是**系综**，也就是考虑一群相似的系统随时间是怎么演化的。它的一个基本假设是在平衡态时，系综平均和时间平均是等价的，思考一下，这个问题里什么是时间平均，什么是系综平均？它们等价吗？（这个问题有点狡诈，要准确定义这里的系综并不是那么简单的。）"
   ]
  },
  {
   "cell_type": "code",
   "execution_count": null,
   "id": "4ed354f3-2411-430c-8977-9be96a1e05b2",
   "metadata": {},
   "outputs": [],
   "source": []
  }
 ],
 "metadata": {
  "kernelspec": {
   "display_name": "Python 3 (ipykernel)",
   "language": "python",
   "name": "python3"
  },
  "language_info": {
   "codemirror_mode": {
    "name": "ipython",
    "version": 3
   },
   "file_extension": ".py",
   "mimetype": "text/x-python",
   "name": "python",
   "nbconvert_exporter": "python",
   "pygments_lexer": "ipython3",
   "version": "3.9.7"
  }
 },
 "nbformat": 4,
 "nbformat_minor": 5
}
