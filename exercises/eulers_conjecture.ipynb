{
 "cells": [
  {
   "cell_type": "markdown",
   "id": "04f9a2ca-6922-44b7-97e7-53f4b41f93c0",
   "metadata": {},
   "source": [
    "# 用枚举法反证欧拉猜想\n",
    "\n",
    "在这个编程练习里，我们将利用 Python 编程，给数学家欧拉的一个猜想找到一个反例，由此复现一篇史上最短的数学论文。\n",
    "\n",
    "## 背景\n",
    "\n",
    "### 费马大定理\n",
    "\n",
    "众所周知的费马大定理说的是\n",
    "\n",
    "$x^n + y^n = z^n$\n",
    "\n",
    "这个方程在 $n>2$ 时，没有整数解。这个定理一开始是由费马提出的一个猜想，但费马没有给出证明。\n",
    "后来它由英国数学家安德鲁-怀尔斯（Andrew Wiles）在1995年前后证明。\n",
    "\n",
    "### 欧拉猜想\n",
    "\n",
    "费马的猜想提出之后，大数学家欧拉还提出了一个更加强的版本，任何一个正的 $n$ 次方数，至少需要其它 $n$ 个 $n$ 次方数的和才能表示出来。\n",
    "\n",
    "这句话比较绕，我们来理解一下。比如，\n",
    "\n",
    "* $n=3$，一个正的立方数至少需要其它**三**个正的立方数的和才能表示出来，也就是它是无法由两个立方数的和来表示：\n",
    "即 $x^3 + y^3 = z^3$ 是没有正整数解。这和费马大定理说的一样。\n",
    "\n",
    "* 但 $n=4$ 时，它说的是一个正的 $4$ 次方数至少需要其它**四**个 $4$ 次方数的和才能表示出来，也就是它是无法由两个或三个 $4$ 次方数的和表示：\n",
    "也就是说，不仅 $x^4 + y^4 = z^4$ 没有正整数解（费马大定理），而且  $x^4 + y^4 + z^4 = w^4$ 也没有整数解。这显然比费马大定理更强。\n",
    "\n",
    "* $n=5$，这个定理说一个正的 $5$ 次方数至少需要其它**五**个 $5$ 次方数的和才能表示出来，也就是它是无法由四个或更少个的 $5$ 次方数的和表示：\n",
    "但是这个猜想被证明是错误的！这个方程\n",
    "\n",
    "$x^5 + y^5 + z^5 + u^5 = w^5$\n",
    "\n",
    "是有整数解的！而且这个解也不大：其中最大的整数 $w$ 比 $200$ 小。为此，两位数学家兰德（L. J. Lander）和帕金（T. R. Parkin）写了一篇当时认为是最短的数学论文。\n",
    "\n",
    "## 编程任务\n",
    "\n",
    "现在这道题的目的就是用编程和枚举法把这个五次方程的整数解找到，从而复现这篇论文。\n",
    "\n",
    "以下是这个程序的模板。"
   ]
  },
  {
   "cell_type": "code",
   "execution_count": null,
   "id": "0087d0d5-4be4-44c4-96e4-6916188ee078",
   "metadata": {},
   "outputs": [],
   "source": [
    "def power_sum(nmax):\n",
    "    ''' 寻找方程 x**5 + y**5 + z**5 + u**5 = w**5 正数解 '''\n",
    "    \n",
    "    for x in range(1, nmax):\n",
    "        for y in range(1, nmax):\n",
    "            for z in range(1, nmax):\n",
    "                for u in range(1, nmax):\n",
    "                    for w in range(1, nmax):\n",
    "                        if is_a_solution(x, y, z, u, w):\n",
    "                            print(x, y, z, u, w)"
   ]
  },
  {
   "cell_type": "markdown",
   "id": "3e1d4ed3-83b9-4302-ae1a-536142fe4e7a",
   "metadata": {},
   "source": [
    "这个模板只是为了能帮你上手，如果你有好想法可以让程序跑得更快，请不要不好意思，可以随意修改它，或自己另写程序\n",
    "\n",
    "## 编程提示\n",
    "\n",
    "实际上，用上面这个模板写的程序会跑得很慢，要跑出结果需要好几天。我们必须想些办法让它尽快跑出结果。"
   ]
  },
  {
   "cell_type": "code",
   "execution_count": 1,
   "id": "81a46bbe-9f5f-4d00-b43e-feb5e0b6643a",
   "metadata": {},
   "outputs": [],
   "source": [
    "# 不要直接运行这一行，会跑得非常非常慢，甚至可能导致笔记本死机\n",
    "power_sum(200)"
   ]
  },
  {
   "cell_type": "markdown",
   "id": "3dfabac1-ea79-4043-95e6-34d6a4b7c985",
   "metadata": {},
   "source": [
    "测试时可以用一个小一点的值先试试运行速度，做一些速度测试，然后改进一下你的算法。比如这样"
   ]
  },
  {
   "cell_type": "code",
   "execution_count": null,
   "id": "88f26edf-cea9-40d9-b363-9cc764ec886c",
   "metadata": {},
   "outputs": [],
   "source": [
    "%timeit power_sum(20)"
   ]
  },
  {
   "cell_type": "markdown",
   "id": "7b391ec6-e65a-4aab-8c60-20952818b997",
   "metadata": {},
   "source": [
    "可以试试用下面的策略来加快你的程序。\n",
    "\n",
    "* 为了减少枚举的数量，我们可以利用对称性对 $x$, $y$, $z$, $u$ 做一些约束，比如，\n",
    "$x \\le y \\le z \\le u < w$\n",
    "（想一想，为什么前面几个是小于等于，最后那个是小于？）\n",
    "\n",
    "* 还有一种常用的编程优化技巧是把重复计算的值用一个列表事先存起来，以免重复计算。比如这里的正整数 5 次方的值。\n",
    "\n",
    "* 通常对最内层的循环的优化是最能使程序变快。在这个例子里，想一想，如何能把最内层的循环变得更快甚至把它优化掉？"
   ]
  }
 ],
 "metadata": {
  "kernelspec": {
   "display_name": "Python 3 (ipykernel)",
   "language": "python",
   "name": "python3"
  },
  "language_info": {
   "codemirror_mode": {
    "name": "ipython",
    "version": 3
   },
   "file_extension": ".py",
   "mimetype": "text/x-python",
   "name": "python",
   "nbconvert_exporter": "python",
   "pygments_lexer": "ipython3",
   "version": "3.9.7"
  }
 },
 "nbformat": 4,
 "nbformat_minor": 5
}
