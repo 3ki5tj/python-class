{
 "cells": [
  {
   "cell_type": "markdown",
   "id": "f927c48a-cbb1-42d5-b388-0abe6c23a64c",
   "metadata": {
    "tags": []
   },
   "source": [
    "# 问题的提出\n",
    "\n",
    "## 欧拉猜想\n",
    "\n",
    "任何一个正整数的 $n$ 次方，至少需要 $n$ 个正整数的 $n$ 次方才能表示出来。\n",
    "\n",
    "寻找 $n = 5$ 时的反例：\n",
    "\n",
    "$x^5 + y^5 + z^5 + u^5 = w^5$"
   ]
  },
  {
   "cell_type": "markdown",
   "id": "f6b6fc89-fc5a-4aea-95b3-6ef9cc010e7b",
   "metadata": {},
   "source": [
    "# 计算方法\n",
    "\n",
    "## 1. 简单枚举法\n",
    "\n",
    "这类问题的一般解法是枚举法，也就是通常说的“暴力破解”。比如，我们可以用以下方法写一个最简单的实现。"
   ]
  },
  {
   "cell_type": "code",
   "execution_count": 27,
   "id": "f961d489-1137-462b-a8b8-6f1ba7c2bded",
   "metadata": {},
   "outputs": [],
   "source": [
    "def power_sum_v1(nmax):\n",
    "    ''' 寻找方程 x**5 + y**5 + z**5 + u**5 = w**5\n",
    "        在 1 <= x <= y <= z <= u < w < nmax 内的正数解 '''\n",
    "    \n",
    "    for x in range(1, nmax):\n",
    "        for y in range(x, nmax):\n",
    "            for z in range(y, nmax):\n",
    "                for u in range(z, nmax):\n",
    "                    s = x**5 + y**5 + z**5 + u**5\n",
    "                    for w in range(u, nmax):\n",
    "                        if s == w**5:\n",
    "                            print(x, y, z, u, w)"
   ]
  },
  {
   "cell_type": "code",
   "execution_count": 30,
   "id": "186824ae-83e1-4401-9eac-38f9aa3e4e2f",
   "metadata": {},
   "outputs": [
    {
     "name": "stdout",
     "output_type": "stream",
     "text": [
      "22.3 s ± 172 ms per loop (mean ± std. dev. of 7 runs, 1 loop each)\n"
     ]
    }
   ],
   "source": [
    "%timeit power_sum_v1(100)"
   ]
  },
  {
   "cell_type": "markdown",
   "id": "f35f9090-4822-4797-83cc-16261bdbb1ef",
   "metadata": {},
   "source": [
    "注意到，\n",
    "\n",
    "* 我们这里用了 `%timeit` 来测试这个程序的运行时间，这个命令会调用这个函数好几遍，运行后，计算平均时间。\n",
    "\n",
    "* 同时注意到，我们在计算中并没有用 `nmax=200` 而是用了一个比较小的值 `nmax=100`，因为我们在开发算法的过程中，会经常用一些比较小的值，让程序尽快运行完，这样好研究算法的效率。\n",
    "\n",
    "即便是 `nmax=100` 我们的程序也是异常的慢。我的机器上平均每次运行花了 22 秒的时间，加上 `%timeit` 函数运行了 7 编，就是跑了2分多钟才跑完。所以我们要想想有没有办法让它跑的更快点。"
   ]
  },
  {
   "cell_type": "markdown",
   "id": "1272ae0f-1b02-4150-b761-bb0ef28d1f2b",
   "metadata": {},
   "source": [
    "## 2. 备忘录方法（查表法）\n",
    "\n",
    "我们注意到在这个过程中，我们计算了很多次自然数的5次方。这些计算都是重复和没有必要的。所以我们可以事先把1到200内自然数的5次方计算好，列张表。然后以后要用时，直接查这张表就好了。\n",
    "\n",
    "在 Python 里这样一个表可以用列表 list 来实现。我们把这个表叫做 `pow5`，我们可以这么写来构造这张表：\n",
    "\n",
    "```\n",
    "pow5 = []\n",
    "for x in range(nmax):\n",
    "    pow5[x] = x**5\n",
    "```\n",
    "\n",
    "Python 提供了一种更加简洁的语法来实现这个循环。这种语法叫做 list comprehension，其实就是一种简写循环的方式\n",
    "\n",
    "```\n",
    "pow5 = [x**5 for x in range(nmax)]\n",
    "```\n",
    "\n",
    "\n",
    "列表以后还有个好处，就是我们可以省掉最内的一层循环。为什么呢？因为如果 $s = x^5+y^5+z^5+u^5$ 是一个数的5次方，那么它必然也在这个表内，所以我们可以用\n",
    "\n",
    "```\n",
    "s in pow5\n",
    "```\n",
    "\n",
    "来判断 `s` 是否是一个数的5次方。"
   ]
  },
  {
   "cell_type": "code",
   "execution_count": 33,
   "id": "678fab43-57a3-4ac6-8bcc-7fb68cff17f4",
   "metadata": {},
   "outputs": [],
   "source": [
    "def power_sum_v2(nmax):\n",
    "    ''' 寻找方程 x**5 + y**5 + z**5 + u**5 = w**5\n",
    "        在 1 <= x <= y <= z <= u < w < nmax 内的正数解 '''\n",
    "\n",
    "    # 把 x = 1..nmax-1 的 x**5 的值做一个表格\n",
    "    pow5 = [x**5 for x in range(nmax)]\n",
    "        \n",
    "    for x in range(1, nmax):\n",
    "        for y in range(x, nmax):\n",
    "            for z in range(y, nmax):\n",
    "                for u in range(z, nmax):\n",
    "                    s = pow5[x] + pow5[y] + pow5[z] + pow5[u]\n",
    "                    if s in pow5:\n",
    "                        print(x, y, z, u, s**(1/5))"
   ]
  },
  {
   "cell_type": "code",
   "execution_count": 34,
   "id": "6830c7ca-94c0-4f46-b1dc-57d1710a32b7",
   "metadata": {},
   "outputs": [
    {
     "name": "stdout",
     "output_type": "stream",
     "text": [
      "3.54 s ± 29.2 ms per loop (mean ± std. dev. of 7 runs, 1 loop each)\n"
     ]
    }
   ],
   "source": [
    "%timeit power_sum_v2(100)"
   ]
  },
  {
   "cell_type": "markdown",
   "id": "419ab993-9c5d-41f2-925b-de44387f00c7",
   "metadata": {},
   "source": [
    "我们发现，用了查表法，程序一下子快了很多。在我的机器上，平均每次只用了约 3.5s 的时间。比起上次的 22s 可好多了。"
   ]
  },
  {
   "cell_type": "markdown",
   "id": "8e498084-bb2d-4edf-b1ac-1e8ac342aa9b",
   "metadata": {},
   "source": [
    "## 3. 更好的查表法（字典）\n",
    "\n",
    "其实我们判断$s$是否是整数那步可以更有效。原因是如果 `pow5` 是一个列表 `list`，Python 在执行\n",
    "\n",
    "```\n",
    "s in pow5\n",
    "```\n",
    "\n",
    "它仍然需要把这个列表里每个数字查一遍，才能判断 `s` 是否在列表 `pow5` 内，所以它的算法复杂度是 $O(n)$，其中 $n$ 代表列表里元素的个数。\n",
    "\n",
    "但我们想想，假定我们有另外一个数组`t`，这个数组是以 `s` 作为其下标的，`t[s]` 的值是一般是0，但是如果 $s$ 是5次方数，那么`t[s]=1`。这样我们就可以一下判断 $s$ 是不是一个5次方数了对吧？\n",
    "\n",
    "可惜的是，这种数组虽然存在，但是它的内存占用量太大了。200^5是个天文数字，根本无法弄那么大的数组。\n",
    "\n",
    "所幸的是， Python 还提供了一种更有效的数据结构，叫做字典，可以处理这种稀疏的数组。\n",
    "\n",
    "```\n",
    "t = {}\n",
    "for w in range(nmax):\n",
    "    t[w**5] = 1\n",
    "```\n",
    "\n",
    "对于一个五次方数\n",
    "\n",
    "```\n",
    "s in t\n",
    "```\n",
    "\n",
    "的值为 `true`，反之为`false`。\n",
    "\n",
    "注意到，字典和列表用起来很像，只是字典初始化时用 `{}` 而不是 `[]`。\n",
    "\n",
    "实际实现时，我们可以把字典的值映射为 w，而不是简单的 1，这样就可以根据 s 迅速反查 w\n",
    "\n",
    "```\n",
    "invpow5 = {}\n",
    "for w in range(nmax):\n",
    "    invpow5[w**5] = 1\n",
    "```\n",
    "\n",
    "和列表一样，我们有一种简写的方法：\n",
    "\n",
    "```\n",
    "invpow5 = {w**5:w for w in range(1, nmax)}\n",
    "```"
   ]
  },
  {
   "cell_type": "code",
   "execution_count": 36,
   "id": "94177007-a2c7-4491-bcd4-fe269f511c9f",
   "metadata": {},
   "outputs": [],
   "source": [
    "def power_sum_v3(nmax):\n",
    "    ''' 寻找方程 x**5 + y**5 + z**5 + u**5 = w**5\n",
    "        在 1 <= x <= y <= z <= u < w < nmax 内的正数解 '''\n",
    "\n",
    "    # 把 x**5 的值做一个表格\n",
    "    pow5 = [x**5 for x in range(nmax)]\n",
    "        \n",
    "    # 把 w**5 -> w 也做一个反查的表格\n",
    "    invpow5 = {w**5 : w for w in range(1, nmax)}\n",
    "\n",
    "    for x in range(1, nmax):\n",
    "        for y in range(x, nmax):\n",
    "            for z in range(y, nmax):\n",
    "                for u in range(z, nmax):\n",
    "                    s = pow5[x] + pow5[y] + pow5[z] + pow5[u]\n",
    "                    if s in invpow5:\n",
    "                        print(x, y, z, u, invpow5[s])"
   ]
  },
  {
   "cell_type": "code",
   "execution_count": 37,
   "id": "8c11bf77-c4ca-4d64-8339-28beaf310736",
   "metadata": {},
   "outputs": [
    {
     "name": "stdout",
     "output_type": "stream",
     "text": [
      "413 ms ± 18.3 ms per loop (mean ± std. dev. of 7 runs, 1 loop each)\n"
     ]
    }
   ],
   "source": [
    "%timeit power_sum_v3(100)"
   ]
  },
  {
   "cell_type": "markdown",
   "id": "ba363a10-8cf7-400d-aa83-a43493c90ecd",
   "metadata": {},
   "source": [
    "用了字典以后，程序又快了很多。在我的机器上，平均每次只用了约 0.41s 的时间。比上次的 3.5s 又好很多。"
   ]
  },
  {
   "cell_type": "markdown",
   "id": "4912ff95-3a5b-4b81-b6f2-5b0660f68127",
   "metadata": {},
   "source": [
    "## 4. 循环优化\n",
    "\n",
    "下一步的优化是对循环优化。\n",
    "\n",
    "我们看到，在最内的循环里，这句话\n",
    "\n",
    "```\n",
    "    for u in range(z, nmax):\n",
    "        s = pow5[x] + pow5[y] + pow5[z] + pow5[u]\n",
    "```\n",
    "\n",
    "会重复计算前三项  `pow5[x] + pow5[y] + pow5[z]` 的值，然而这个值在对 `u` 的循环里循环过过程中是不变的，所以可以把这个量预先计算后提出循环。"
   ]
  },
  {
   "cell_type": "code",
   "execution_count": 24,
   "id": "27d8dc71-d3cf-45e3-a11e-0a12fa480aee",
   "metadata": {},
   "outputs": [],
   "source": [
    "def power_sum_v4(nmax):\n",
    "    ''' 寻找方程 x**5 + y**5 + z**5 + u**5 = w**5\n",
    "        在 1 <= x <= y <= z <= u < w < nmax 内的正数解 '''\n",
    "\n",
    "    # 把 x**5 的值做一个表格\n",
    "    pow5 = [x**5 for x in range(nmax)]\n",
    "        \n",
    "    # 把 w**5 -> w 也做一个表格\n",
    "    invpow = {}\n",
    "    for w in range(1, nmax):\n",
    "        invpow[w**5] = w\n",
    "\n",
    "    for x in range(1, nmax):\n",
    "        for y in range(x, nmax):\n",
    "            for z in range(y, nmax):\n",
    "                s_xyz = pow5[x] + pow5[y] + pow5[z]\n",
    "                for u in range(z, nmax):\n",
    "                    s = s_xyz + pow5[u]\n",
    "                    if s in invpow:\n",
    "                        print(x, y, z, u, invpow[s])"
   ]
  },
  {
   "cell_type": "code",
   "execution_count": 17,
   "id": "784785f2-6d3e-4a88-bf55-2628f9beb5b3",
   "metadata": {},
   "outputs": [
    {
     "name": "stdout",
     "output_type": "stream",
     "text": [
      "226 ms ± 16.8 ms per loop (mean ± std. dev. of 7 runs, 1 loop each)\n"
     ]
    }
   ],
   "source": [
    "%timeit power_sum_v4(100)"
   ]
  },
  {
   "cell_type": "markdown",
   "id": "065d90ea-bf1e-4c52-b08e-455d226e3d35",
   "metadata": {},
   "source": [
    "这次只要0.22秒了，又比前一次快了很多。"
   ]
  },
  {
   "cell_type": "markdown",
   "id": "863e78fb-b85a-4e83-a8f5-912398256f5d",
   "metadata": {},
   "source": [
    "## 5. 正式运行\n",
    "\n",
    "经过数轮优化我们终于可以运行真正例子了。"
   ]
  },
  {
   "cell_type": "code",
   "execution_count": 26,
   "id": "2292fd1f-b236-469a-8a38-effa4dcaf7b4",
   "metadata": {},
   "outputs": [
    {
     "name": "stdout",
     "output_type": "stream",
     "text": [
      "27 84 110 133 144\n",
      "27 84 110 133 144\n",
      "27 84 110 133 144\n",
      "27 84 110 133 144\n",
      "27 84 110 133 144\n",
      "27 84 110 133 144\n",
      "27 84 110 133 144\n",
      "27 84 110 133 144\n",
      "3.45 s ± 26.2 ms per loop (mean ± std. dev. of 7 runs, 1 loop each)\n"
     ]
    }
   ],
   "source": [
    "%timeit power_sum_v4(200)"
   ]
  },
  {
   "cell_type": "markdown",
   "id": "966f75b4-5d03-4770-8837-b0b01be044f3",
   "metadata": {
    "jp-MarkdownHeadingCollapsed": true,
    "tags": []
   },
   "source": [
    "这次它真的跑出一个结果，而且它很快，在我的机器上，每次只花3秒钟，真的很快。"
   ]
  },
  {
   "cell_type": "markdown",
   "id": "35e70193-3ec5-47a3-b179-23b28f211937",
   "metadata": {
    "jp-MarkdownHeadingCollapsed": true,
    "tags": []
   },
   "source": [
    "## 6. 对照文献结果\n",
    "\n",
    "让我们对比一下论文的结果：\n",
    "\n",
    "![Counterexample to Euler's conjecture on sums of like powers](https://i.niupic.com/images/2022/01/24/9Uc9.webp)\n",
    "\n",
    "完全相同！"
   ]
  },
  {
   "cell_type": "markdown",
   "id": "89c4cc69-4b9a-453d-9c85-3698dbc3a5c7",
   "metadata": {},
   "source": [
    "# 参考阅读\n",
    "\n",
    "[这是世界上最短的数学论文之一，关于费马大定理和欧拉猜想](https://mp.weixin.qq.com/s/Pd6R_GynMTRL1_n58ja5og)"
   ]
  },
  {
   "cell_type": "code",
   "execution_count": null,
   "id": "2d5ed61d-22bb-4cca-9d7e-f92b04f777c2",
   "metadata": {},
   "outputs": [],
   "source": []
  }
 ],
 "metadata": {
  "kernelspec": {
   "display_name": "Python 3 (ipykernel)",
   "language": "python",
   "name": "python3"
  },
  "language_info": {
   "codemirror_mode": {
    "name": "ipython",
    "version": 3
   },
   "file_extension": ".py",
   "mimetype": "text/x-python",
   "name": "python",
   "nbconvert_exporter": "python",
   "pygments_lexer": "ipython3",
   "version": "3.9.7"
  }
 },
 "nbformat": 4,
 "nbformat_minor": 5
}
