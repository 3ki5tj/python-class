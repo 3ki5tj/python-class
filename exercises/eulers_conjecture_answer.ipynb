{
 "cells": [
  {
   "cell_type": "markdown",
   "id": "f927c48a-cbb1-42d5-b388-0abe6c23a64c",
   "metadata": {
    "tags": []
   },
   "source": [
    "# 问题的提出\n",
    "\n",
    "## 欧拉猜想\n",
    "\n",
    "任何一个正整数的 $n$ 次方，至少需要 $n$ 个正整数的 $n$ 次方才能表示出来。\n",
    "\n",
    "寻找 $n = 5$ 时的反例：\n",
    "\n",
    "$x^5 + y^5 + z^5 + u^5 = w^5$\n",
    "\n",
    "限定搜索范围在 $w < 200$ 内。"
   ]
  },
  {
   "cell_type": "markdown",
   "id": "f6b6fc89-fc5a-4aea-95b3-6ef9cc010e7b",
   "metadata": {},
   "source": [
    "# 计算方法\n",
    "\n",
    "## 1. 简单枚举法\n",
    "\n",
    "这类问题的一般解法是枚举法，也就是通常说的“暴力破解”。比如，我们可以用以下方法写一个最简单的函数。"
   ]
  },
  {
   "cell_type": "code",
   "execution_count": 53,
   "id": "3e8f2b62-9dce-4bab-a2d7-4afe92932f54",
   "metadata": {},
   "outputs": [],
   "source": [
    "def power_sum_v1(nmax):\n",
    "    ''' 寻找方程 x**5 + y**5 + z**5 + u**5 = w**5 在 nmax 内的正整数解 '''\n",
    "    \n",
    "    for x in range(1, nmax):\n",
    "        for y in range(1, nmax):\n",
    "            for z in range(1, nmax):\n",
    "                for u in range(1, nmax):\n",
    "                    for w in range(1, nmax):\n",
    "                        if x**5 + y**5 + z**5 + u**5 == w**5:\n",
    "                            print(x, y, z, u, w)"
   ]
  },
  {
   "cell_type": "markdown",
   "id": "c6bc9059-4c4f-4ce1-b2cf-3ab9ad31a58c",
   "metadata": {},
   "source": [
    "如果要枚举所有在 $w < 200$ 内的解，只需要输入\n",
    "\n",
    "```\n",
    "power_sum_v1(200)\n",
    "```\n",
    "\n",
    "但是我们在测试程序的时候，通常会先用一些比较小的值，比如 `nmax = 20`，看看是否程序跑得够快。\n",
    "所以会在运行程序的前面加上 `%timeit`，这样它会重复运行这个函数 7 遍，看平均运行一下需要多少时间。\n",
    "如果它跑得很慢，我们就要修改和优化一下程序，而不是硬运行程序。"
   ]
  },
  {
   "cell_type": "code",
   "execution_count": 43,
   "id": "72db5156-dc84-412a-9293-227a1ba88c3a",
   "metadata": {},
   "outputs": [
    {
     "name": "stdout",
     "output_type": "stream",
     "text": [
      "2.25 s ± 24.9 ms per loop (mean ± std. dev. of 7 runs, 1 loop each)\n"
     ]
    }
   ],
   "source": [
    "%timeit power_sum_v1(20)"
   ]
  },
  {
   "cell_type": "markdown",
   "id": "92ffffb4-64c9-43b3-9948-47f06ace6e56",
   "metadata": {},
   "source": [
    "遗憾的是，这个程序跑起来太慢了，\n",
    "即便是`nmax=20` 而不是真正需要的 `nmax=200` ，我的机器上平均每次运行花了 2.3 秒的时间。\n",
    "如果 `nmax=30` ，则要 20 秒的时间。\n",
    "可想而知，`nmax = 200` 是根本跑不出来的。（推算了一下，对于 `nmax=200` 时我的机器要跑 3.5 天！）\n",
    "\n",
    "| `nmax` | 运行时间 |\n",
    "|--------|---------|\n",
    "| 10     | 0.057 s |\n",
    "| 20     | 2.3 s |\n",
    "| 30     | 20 s |\n",
    "| ...    | ... |\n",
    "| 200    | 300000 s |\n",
    "\n"
   ]
  },
  {
   "cell_type": "markdown",
   "id": "076fe10f-bc51-4e74-b561-26b2fe68a275",
   "metadata": {},
   "source": [
    "## 2. 利用对称性减少枚举数\n",
    "\n",
    "优化的第一个思路是利用解的对称性来减少需要枚举的解的数量。我们先来罗列一些解的性质。\n",
    "\n",
    " 1. 首先，因为我们考虑的是正整数解，$w$ 肯定比 $x$, $y$, $z$, $u$ 中的任何一个都要大。\n",
    "    所以如果我们在枚举 $x = 100$ 时，根本不用考虑 $w = 1, 2, \\dots 100$ 的情况。这样就可以省下好多时间。\n",
    "\n",
    " 2. 第二，$x$, $y$, $z$, $u$ 是对称的，也就是说，我们可以随意把这四个数字进行位置交换，并不影响解的成立。\n",
    "    所以我们可以把这四个变量排排序，$x \\le y \\le z \\le u$。这样又可以省掉很多枚举的情况。\n",
    "    \n",
    " 3. 综合以上两点，我们判断，我们只需要枚举 $x \\le y \\le z \\le u < w$ 的情况。把这5个数字排序之后，所需要枚举的情况数大概仅为原来的 $1/5! = 1/120$。\n",
    " \n",
    "让我们来实现一下这个新的算法。\n",
    "在内部的几层循环里，我们可以控制一下循环变量的初始值：\n",
    "```\n",
    "for x in range(1, nmax):\n",
    "    for y in range(x, nmax): # 利用 y >= x\n",
    "        for z in range(y, nmax): # 利用 z >= y\n",
    "            for u in range(z, nmax): # 利用 u >= z\n",
    "                for w in range(u + 1, nmax): # 利用 w > u\n",
    "                    ...\n",
    "```"
   ]
  },
  {
   "cell_type": "code",
   "execution_count": 54,
   "id": "c11844e0-5ce0-428f-ac2c-b92f32e46f83",
   "metadata": {},
   "outputs": [],
   "source": [
    "def power_sum_v2(nmax):\n",
    "    ''' 寻找方程 x**5 + y**5 + z**5 + u**5 = w**5\n",
    "        在 1 <= x <= y <= z <= u < w < nmax 内的正整数解 '''\n",
    "    \n",
    "    for x in range(1, nmax):\n",
    "        for y in range(x, nmax): # 利用 y >= x\n",
    "            for z in range(y, nmax): # 利用 z >= y\n",
    "                for u in range(z, nmax): # 利用 u >= z\n",
    "                    s = x**5 + y**5 + z**5 + u**5\n",
    "                    for w in range(u + 1, nmax): # 利用 w > u\n",
    "                        if s == w**5:\n",
    "                            print(x, y, z, u, w)"
   ]
  },
  {
   "cell_type": "markdown",
   "id": "f13f9d80-52b7-4223-9a42-42282b3cf6e0",
   "metadata": {},
   "source": [
    "### 最内层循环变量的优化\n",
    "\n",
    "注意到，除了利用对称性，我们在最里面那层循环里也做了些手脚。\n",
    "\n",
    "因为在最里面那层循环里只对 $w$ 进行变化，而 $x$, $y$, $z$, $u$ 都是不变的，所以我们可以把 $x^5+y^5+z^5+u^5$ 的值预先计算好，保留在一个变量 `s` 里，然后每次只要把 $w^5$ 和 $s$ 做比较即可。\n",
    "\n",
    "```\n",
    "s = x**5 + y**5 + z**5 + u**5\n",
    "for w in range(u + 1, nmax): # 利用 w > u\n",
    "    if s == w**5:\n",
    "        ...\n",
    "```\n",
    "\n",
    "好，我们来试一下 `nmax = 20` 的情况。"
   ]
  },
  {
   "cell_type": "code",
   "execution_count": 55,
   "id": "b8ac0863-b90c-499b-80b0-ba9fd99212f7",
   "metadata": {},
   "outputs": [
    {
     "name": "stdout",
     "output_type": "stream",
     "text": [
      "11.5 ms ± 183 µs per loop (mean ± std. dev. of 7 runs, 100 loops each)\n"
     ]
    }
   ],
   "source": [
    "%timeit power_sum_v2(20)"
   ]
  },
  {
   "cell_type": "markdown",
   "id": "36be32d6-40b6-48f6-8d4a-b10b1115c868",
   "metadata": {},
   "source": [
    "这次平均运行一次才 12ms， 比起之前的 2.3 s 快了 160 多倍！而且这个差距会继续会随着 `nmax` 的增加慢慢上升。\n",
    "\n",
    "| `nmax` | 版本 1  | 版本 2 |\n",
    "|--------|---------|---------|\n",
    "| 10     | 0.057 s | 0.0006s | \n",
    "| 20     | 2.3 s   | 0.012s |\n",
    "| 30     | 20 s    | 0.075s |\n",
    "| 100    | ？      | 20s |"
   ]
  },
  {
   "cell_type": "markdown",
   "id": "14231d24-1860-4bcc-a353-575073f12307",
   "metadata": {},
   "source": [
    "让我们试一个大一点的值`nmax = 20`"
   ]
  },
  {
   "cell_type": "code",
   "execution_count": 49,
   "id": "55a821b3-58ea-41b7-9a31-0a7cc120edfe",
   "metadata": {
    "tags": []
   },
   "outputs": [
    {
     "name": "stdout",
     "output_type": "stream",
     "text": [
      "20.3 s ± 175 ms per loop (mean ± std. dev. of 7 runs, 1 loop each)\n"
     ]
    }
   ],
   "source": [
    "%timeit power_sum_v2(100)"
   ]
  },
  {
   "cell_type": "markdown",
   "id": "f938ef30-d4cd-4a92-8a90-7ba8ac3097f4",
   "metadata": {},
   "source": [
    "对于 `nmax = 100`，它花了 20s。要是`nmax` 再上去，比如对于我们的 `nmax = 200`，这仍然不够快。所以我们要想想其它办法来改进这个算法。"
   ]
  },
  {
   "cell_type": "markdown",
   "id": "1272ae0f-1b02-4150-b761-bb0ef28d1f2b",
   "metadata": {},
   "source": [
    "## 3. 备忘录方法（查表法）\n",
    "\n",
    "我们的第二个优化思路是这样的。注意到在这个函数中，我们计算了很多次自然数的5次方。这些计算都是重复和没有必要的。所以我们可以事先把1到200内自然数的5次方计算好，列张表。然后以后要用时，直接查这张表就好了。\n",
    "\n",
    "在 Python 里这样一个表可以用列表（list）来实现。我们把这个表叫做 `pow5`，可以这么写来构造这张表：\n",
    "\n",
    "```\n",
    "pow5 = []\n",
    "for x in range(nmax):\n",
    "    pow5[x] = x**5\n",
    "```\n",
    "\n",
    "Python 还提供了一种更加简洁的语法来实现这个循环。这类语法叫做 list comprehension，其实就是一种简写循环的方式：\n",
    "\n",
    "```\n",
    "pow5 = [x**5 for x in range(nmax)]\n",
    "```\n",
    "\n",
    "\n",
    "列表以后还有个好处，就是我们可以省掉最内的一层循环。为什么呢？因为如果 $s = x^5+y^5+z^5+u^5$ 是一个数的5次方，那么它必然也在这个表内，所以我们可以用 Python 的语法\n",
    "\n",
    "```\n",
    "s in pow5\n",
    "```\n",
    "\n",
    "来判断 `s` 是否是一个数的5次方。"
   ]
  },
  {
   "cell_type": "code",
   "execution_count": 50,
   "id": "678fab43-57a3-4ac6-8bcc-7fb68cff17f4",
   "metadata": {},
   "outputs": [],
   "source": [
    "def power_sum_v3(nmax):\n",
    "    ''' 寻找方程 x**5 + y**5 + z**5 + u**5 = w**5\n",
    "        在 1 <= x <= y <= z <= u < w < nmax 内的正整数解\n",
    "        利用列表避免重复计算自然数的 5 次方的值 '''\n",
    "\n",
    "    # 把 x = 0..nmax-1 的 x**5 的值做一个表格保存起来\n",
    "    pow5 = [x**5 for x in range(nmax)]\n",
    "        \n",
    "    for x in range(1, nmax):\n",
    "        for y in range(x, nmax):\n",
    "            for z in range(y, nmax):\n",
    "                for u in range(z, nmax):\n",
    "                    s = pow5[x] + pow5[y] + pow5[z] + pow5[u]\n",
    "                    if s in pow5:\n",
    "                        print(x, y, z, u, s**(1/5))"
   ]
  },
  {
   "cell_type": "markdown",
   "id": "f91dca5a-df57-483e-9e91-ee0843405194",
   "metadata": {},
   "source": [
    "对于 `nmax = 20` 这个版本只花了 1.9ms 就跑出结果了。"
   ]
  },
  {
   "cell_type": "code",
   "execution_count": 51,
   "id": "ad8f1253-a8f8-4989-bf83-404473337f39",
   "metadata": {},
   "outputs": [
    {
     "name": "stdout",
     "output_type": "stream",
     "text": [
      "1.9 ms ± 40.2 µs per loop (mean ± std. dev. of 7 runs, 1000 loops each)\n"
     ]
    }
   ],
   "source": [
    "%timeit power_sum_v3(20)"
   ]
  },
  {
   "cell_type": "markdown",
   "id": "169ec75d-9e7e-4f64-8ed4-a9a8f6659c6e",
   "metadata": {},
   "source": [
    "对于大一点的 `nmax = 100`，这个版本花了 3.6 s 就跑出结果了，比起上次的 22s 可好多了。"
   ]
  },
  {
   "cell_type": "code",
   "execution_count": null,
   "id": "154fda58-1722-471e-a890-0ae6b0249569",
   "metadata": {},
   "outputs": [
    {
     "name": "stdout",
     "output_type": "stream",
     "text": [
      "3.57 s ± 27.1 ms per loop (mean ± std. dev. of 7 runs, 1 loop each)\n"
     ]
    }
   ],
   "source": [
    "%timeit power_sum_v3(100)"
   ]
  },
  {
   "cell_type": "markdown",
   "id": "419ab993-9c5d-41f2-925b-de44387f00c7",
   "metadata": {},
   "source": [
    "让我们想想有没有更好的办法。"
   ]
  },
  {
   "cell_type": "markdown",
   "id": "f1aab432-098b-4c13-9396-c1763ab9a5e8",
   "metadata": {},
   "source": [
    "## 4. 更好的查表法（字典）\n",
    "\n",
    "其实我们判断 $s$ 是否是5次方数那步可以更有效。原因是如果 `pow5` 是一个列表 `list`，Python 在执行这句话时，\n",
    "\n",
    "```\n",
    "s in pow5\n",
    "```\n",
    "\n",
    "它仍然需要把这个列表里每个数字查一遍，才能判断 `s` 是否在列表 `pow5` 内；所以它的算法复杂度是 $O(n)$，其中 $n$ 代表列表里元素的个数。\n",
    "\n",
    "但我们想想，如果有另外一个数组`t`，这个数组是以 `s` 作为其下标的，`t[s]` 的值是一般是 `False`，但是如果 $s$ 是5次方数，那么`t[s] = True`。这样我们就可以一下子判断 $s$ 是不是一个5次方数了对吧？\n",
    "\n",
    "可惜的是，这种数组虽然存在，但是它的内存占用量太大了。$200^5$ 是个天文数字，没办法容纳弄那么大的数组。"
   ]
  },
  {
   "cell_type": "markdown",
   "id": "30939790-a611-46eb-8e44-774a14b63d1a",
   "metadata": {},
   "source": [
    "### 字典\n",
    "\n",
    "所幸的是， Python 还提供了一种更有效的数据结构，叫做 **字典**，可以处理这种稀疏的数组。\n",
    "\n",
    "```\n",
    "t = {}\n",
    "for w in range(nmax):\n",
    "    t[w**5] = True\n",
    "```\n",
    "\n",
    "对于一个五次方数\n",
    "\n",
    "```\n",
    "s in t\n",
    "```\n",
    "\n",
    "的值为 `True`，反之为`False`。\n",
    "\n",
    "注意到，字典和列表用起来很像，只是字典初始化时用 `{}` 而不是 `[]`。\n",
    "\n",
    "字典在内部实现时，它是一个哈希表（Hash table），比如我们这个字典里有200个值，它内部对应的真正数组可能就 1000 个值，`hash[0..999]`，当我们给它输入一个很大的数 `s` 时，它会根据 `s` 算一个 0 到 999 之间的下标 `i` （这个映射叫做哈希函数），然后把`t[s]` 的值对应在内部数组的 `hash[i]` 值上。\n",
    "\n",
    "比如，一个最简单的办法是计算\n",
    "\n",
    "```\n",
    "i = s % 1000\n",
    "```\n",
    "\n",
    "当然，Python 内部的版本比这要复杂多了。这个例子只是说明哈希函数的计算一般是很快的，是个 $O(1)$ 的算法。不需要对字典内部的元素全部走一遍。当然如果不巧两个不同的 `s` 对应于同一个 `i`，就比较麻烦了。但我们不必操心哈希算法的具体实现。只要假定这是一个很快的算法就好了。"
   ]
  },
  {
   "cell_type": "markdown",
   "id": "93ced0d5-e21c-47fd-a359-1f5bcd963f6c",
   "metadata": {},
   "source": [
    "### 应用字典\n",
    "\n",
    "在我们这个应用里，如果字典的输入值 `s` 是一个5次方数，我们还想知道它的5次方根是多少。我们可以利用字典的特性把 `w**5` 映射回为 `w`，而不是简单的 `True`，这样我们不仅可以判断是否`s`是一个5次方数，而且在`s`是一个5次方数时，可以迅速通过 `s` 反查 $\\sqrt[5]{s}$ 的值\n",
    "\n",
    "```\n",
    "invpow5 = {}\n",
    "for w in range(nmax):\n",
    "    invpow5[w**5] = w\n",
    "```\n",
    "\n",
    "和列表一样，对于创建字典，我们也有一种简洁的写法：\n",
    "\n",
    "```\n",
    "invpow5 = {w**5:w for w in range(1, nmax)}\n",
    "```"
   ]
  },
  {
   "cell_type": "code",
   "execution_count": 56,
   "id": "94177007-a2c7-4491-bcd4-fe269f511c9f",
   "metadata": {},
   "outputs": [],
   "source": [
    "def power_sum_v4(nmax):\n",
    "    ''' 寻找方程 x**5 + y**5 + z**5 + u**5 = w**5\n",
    "        在 1 <= x <= y <= z <= u < w < nmax 内的正整数解\n",
    "        利用列表避免重复计算自然数的 5 次方的值\n",
    "        利用字典判断一个数是否是 5 次方数 '''\n",
    "\n",
    "    # 把 x**5 的值做一个表格\n",
    "    pow5 = [x**5 for x in range(nmax)]\n",
    "        \n",
    "    # 把 w**5 -> w 也做一个反查的表格\n",
    "    invpow5 = {w**5 : w for w in range(1, nmax)}\n",
    "\n",
    "    for x in range(1, nmax):\n",
    "        for y in range(x, nmax):\n",
    "            for z in range(y, nmax):\n",
    "                for u in range(z, nmax):\n",
    "                    s = pow5[x] + pow5[y] + pow5[z] + pow5[u]\n",
    "                    if s in invpow5: # 判断是否是 5 次方数\n",
    "                        print(x, y, z, u, invpow5[s])"
   ]
  },
  {
   "cell_type": "code",
   "execution_count": 57,
   "id": "8c11bf77-c4ca-4d64-8339-28beaf310736",
   "metadata": {},
   "outputs": [
    {
     "name": "stdout",
     "output_type": "stream",
     "text": [
      "421 ms ± 18 ms per loop (mean ± std. dev. of 7 runs, 1 loop each)\n"
     ]
    }
   ],
   "source": [
    "%timeit power_sum_v4(100)"
   ]
  },
  {
   "cell_type": "markdown",
   "id": "ba363a10-8cf7-400d-aa83-a43493c90ecd",
   "metadata": {},
   "source": [
    "用了字典以后，程序又快了很多。在我的机器上，平均每次只用了约 0.4s 的时间。比上次的 3.5s 又好很多。"
   ]
  },
  {
   "cell_type": "markdown",
   "id": "4912ff95-3a5b-4b81-b6f2-5b0660f68127",
   "metadata": {},
   "source": [
    "## 5. 循环优化\n",
    "\n",
    "下一步的优化是对循环内的变量的优化。\n",
    "\n",
    "我们看到，在最内层的循环里，这句话\n",
    "\n",
    "```\n",
    "for u in range(z, nmax):\n",
    "    s = pow5[x] + pow5[y] + pow5[z] + pow5[u]\n",
    "```\n",
    "\n",
    "会重复计算前三项  `pow5[x] + pow5[y] + pow5[z]` 的值，然而这个值在对 `u` 的循环里是不变的，所以可以把它预先计算后提出循环。"
   ]
  },
  {
   "cell_type": "code",
   "execution_count": 29,
   "id": "27d8dc71-d3cf-45e3-a11e-0a12fa480aee",
   "metadata": {},
   "outputs": [],
   "source": [
    "def power_sum_v5(nmax):\n",
    "    ''' 寻找方程 x**5 + y**5 + z**5 + u**5 = w**5\n",
    "        在 1 <= x <= y <= z <= u < w < nmax 内的正整数解\n",
    "        最终优化版 '''\n",
    "\n",
    "    # 把 x**5 的值做一个表格\n",
    "    pow5 = [x**5 for x in range(nmax)]\n",
    "        \n",
    "    # 把 w**5 -> w 也做一个表格\n",
    "    invpow5 = {w**5 : w for w in range(1, nmax)}\n",
    "\n",
    "    for x in range(1, nmax):\n",
    "        for y in range(x, nmax):\n",
    "            for z in range(y, nmax):\n",
    "                s_xyz = pow5[x] + pow5[y] + pow5[z]\n",
    "                for u in range(z, nmax):\n",
    "                    s = s_xyz + pow5[u]\n",
    "                    if s in invpow5:\n",
    "                        print(x, y, z, u, invpow5[s])"
   ]
  },
  {
   "cell_type": "code",
   "execution_count": 30,
   "id": "784785f2-6d3e-4a88-bf55-2628f9beb5b3",
   "metadata": {},
   "outputs": [
    {
     "name": "stdout",
     "output_type": "stream",
     "text": [
      "226 ms ± 19.7 ms per loop (mean ± std. dev. of 7 runs, 1 loop each)\n"
     ]
    }
   ],
   "source": [
    "%timeit power_sum_v5(100)"
   ]
  },
  {
   "cell_type": "markdown",
   "id": "065d90ea-bf1e-4c52-b08e-455d226e3d35",
   "metadata": {},
   "source": [
    "这次只要 0.23 秒了，又比前一次快了很多。\n",
    "\n",
    "| `nmax` | 版本 1  | 版本 2   |  版本 3 |  版本 4 |  版本 5  |\n",
    "|--------|---------|---------|---------|---------|---------|\n",
    "| 100    | ？      | 20s     |   3.5s  |  0.42 s |  0.23s  |"
   ]
  },
  {
   "cell_type": "markdown",
   "id": "863e78fb-b85a-4e83-a8f5-912398256f5d",
   "metadata": {},
   "source": [
    "## 6. 正式运行\n",
    "\n",
    "经过数轮优化我们终于可以运行真正的 `nmax = 200` 的例子了。"
   ]
  },
  {
   "cell_type": "code",
   "execution_count": 31,
   "id": "2292fd1f-b236-469a-8a38-effa4dcaf7b4",
   "metadata": {},
   "outputs": [
    {
     "name": "stdout",
     "output_type": "stream",
     "text": [
      "27 84 110 133 144\n"
     ]
    }
   ],
   "source": [
    "power_sum_v5(200)"
   ]
  },
  {
   "cell_type": "markdown",
   "id": "966f75b4-5d03-4770-8837-b0b01be044f3",
   "metadata": {
    "jp-MarkdownHeadingCollapsed": true,
    "tags": []
   },
   "source": [
    "这次它真的跑出一个结果，而且它很快，在我的机器上，平均每次只花 3 秒钟，比最开始的 3.5 天快了近 100000 倍！很有成就感吧！"
   ]
  },
  {
   "cell_type": "markdown",
   "id": "35e70193-3ec5-47a3-b179-23b28f211937",
   "metadata": {
    "jp-MarkdownHeadingCollapsed": true,
    "tags": []
   },
   "source": [
    "## 7. 对照文献结果\n",
    "\n",
    "让我们对比一下论文的结果：\n",
    "\n",
    "![Counterexample to Euler's conjecture on sums of like powers](https://i.niupic.com/images/2022/01/24/9Uc9.webp)\n",
    "\n",
    "和我们的结果完全相同！"
   ]
  },
  {
   "cell_type": "markdown",
   "id": "89c4cc69-4b9a-453d-9c85-3698dbc3a5c7",
   "metadata": {},
   "source": [
    "# 参考阅读\n",
    "\n",
    "* [世界上最短的数学论文之一，关于费马大定理和欧拉猜想](https://mp.weixin.qq.com/s/Pd6R_GynMTRL1_n58ja5og)"
   ]
  }
 ],
 "metadata": {
  "kernelspec": {
   "display_name": "Python 3 (ipykernel)",
   "language": "python",
   "name": "python3"
  },
  "language_info": {
   "codemirror_mode": {
    "name": "ipython",
    "version": 3
   },
   "file_extension": ".py",
   "mimetype": "text/x-python",
   "name": "python",
   "nbconvert_exporter": "python",
   "pygments_lexer": "ipython3",
   "version": "3.9.7"
  }
 },
 "nbformat": 4,
 "nbformat_minor": 5
}
