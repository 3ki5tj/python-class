{
 "cells": [
  {
   "cell_type": "markdown",
   "id": "4f73bd2c-1f67-4ed9-99ae-b63f1aed7b05",
   "metadata": {},
   "source": [
    "1.\n",
    "\n",
    "傅里叶变换前是多项式的系数。\n",
    "\n",
    "傅里叶变换后是多项式在 $\\exp(i k 2 \\pi/n)$ （$k = 0, 1, \\dots, n-1$） 的值。\n"
   ]
  },
  {
   "cell_type": "markdown",
   "id": "2405eccc-7444-4671-83ff-38296241d93e",
   "metadata": {},
   "source": [
    "2.\n",
    "\n",
    "$\\mathbf{x} = (1, 2, 3, 4)^T$ 的傅里叶变换是\n",
    "\n",
    "$$\\begin{align}\n",
    "\\tilde x_0 &= 1 + 2 + 3 + 4 = 10, \\\\\n",
    "\\tilde x_1 &= 1 + 2i - 3 - 4i = -2 - 2i, \\\\\n",
    "\\tilde x_2 &= 1 - 2 + 3 - 4 = -2, \\\\\n",
    "\\tilde x_3 &= 1 - 2i - 3 + 4i = -2 + 2i,\n",
    "\\end{align}$$\n",
    "\n",
    "$\\mathbf{\\tilde x}$ 的傅里叶反变换是\n",
    "$$\\begin{align}\n",
    "y_0 &= \\frac{10 + (-2-2i) + (-2) + (-2+2i)}{4} = \\frac{4}{4} = 1, \\\\\n",
    "y_1 &= \\frac{10 + (-2-2i)(-i) + (-2)(-1) + (-2+2i)(i)}{4} = \\frac{8}{4} = 2, \\\\\n",
    "y_2 &= \\frac{10 - (-2-2i) + (-2) - (-2+2i)}{4} = \\frac{12}{4} = 3, \\\\\n",
    "y_3 &= \\frac{10 + (-2-2i)(i) + (-2)(-1) + (-2+2i)(-i)}{4} = \\frac{16}{4} = 4,\n",
    "\\end{align}$$"
   ]
  },
  {
   "cell_type": "markdown",
   "id": "1e6932eb-eece-4c23-b9fa-a4d35d383d61",
   "metadata": {},
   "source": [
    "3.\n",
    "\n",
    "用快速傅里叶变换计算 $(1+x)^{31}$ 的多项式系数 "
   ]
  },
  {
   "cell_type": "code",
   "execution_count": 7,
   "id": "f3cc0cc9-953f-4621-9ee1-e2be8109dc87",
   "metadata": {},
   "outputs": [
    {
     "name": "stdout",
     "output_type": "stream",
     "text": [
      "[        1        31       465      4495     31465    169911    736281\n",
      "   2629575   7888725  20160075  44352165  84672315 141120525 206253075\n",
      " 265182525 300540195 300540195 265182525 206253075 141120525  84672315\n",
      "  44352165  20160075   7888725   2629575    736281    169911     31465\n",
      "      4495       465        31         1]\n"
     ]
    }
   ],
   "source": [
    "# 用快速傅里叶变换计算 (1+x)**31 的多项式系数 \n",
    "import numpy as np\n",
    "a = np.array([1, 1] + [0]*30) # 补充 30 个零\n",
    "b = np.fft.fft(a) # 正变换\n",
    "b31 = b**31 # 计算每个 exp(i*k*2*pi/n) 值的31次方\n",
    "a31 = np.int64(np.round(np.fft.ifft(b31).real)) # 逆变换\n",
    "print(a31)"
   ]
  }
 ],
 "metadata": {
  "kernelspec": {
   "display_name": "Python 3 (ipykernel)",
   "language": "python",
   "name": "python3"
  },
  "language_info": {
   "codemirror_mode": {
    "name": "ipython",
    "version": 3
   },
   "file_extension": ".py",
   "mimetype": "text/x-python",
   "name": "python",
   "nbconvert_exporter": "python",
   "pygments_lexer": "ipython3",
   "version": "3.9.7"
  }
 },
 "nbformat": 4,
 "nbformat_minor": 5
}
