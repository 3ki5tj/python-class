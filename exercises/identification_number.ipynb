{
 "cells": [
  {
   "cell_type": "markdown",
   "id": "1e77f467-d2b0-430c-bbcd-b1b00319aa3b",
   "metadata": {},
   "source": [
    "# 验证身份证号码\n",
    "\n",
    "同余的操作（`%`）在计算机科学和日常生活中很常见。比如身份证号码的最后一位验证码就是用同余操作生成的。"
   ]
  },
  {
   "cell_type": "markdown",
   "id": "bac864b9-e932-4fcf-897b-f62c076e4163",
   "metadata": {},
   "source": [
    "## 问题描述\n",
    "\n",
    "身份证有 18 位数字组成，但不是任意的18位数字都是合法的身份证号，它的最后一位是验证码，用于快速检验身份证号码是否为合法的身份证号码。\n",
    "\n",
    "**身份证号码的规则**\n",
    "\n",
    "我们可以把身份证号码的每一位都是一个 0-9 的数字（除了最后一位如果是 X 则用 10 代替）。\n",
    "\n",
    "比如，这个号码 “21020319960101007X” （虚构的号码） 可以看成是数字 “2”、“1”、“0”、……、“0”、“7”、“X” 构成的。\n",
    "\n",
    "验证的**第一步**是把右起的第 $i$ 个数字乘以 $2^i$，然后把所得的乘积全部加起来，得到和 $S$。\n",
    "\n",
    "比如，我们的例子里\n",
    " * 右起第 0 个数字是 $X = 10$，我们把它乘以 $2^0 = 1$，得到 $10$；\n",
    " * 右起第 1 个数字是 $7$，我们把它乘以 $2^1 = 2$，得到 $14$；\n",
    " * 右起第 2 个数字是 $0$，我们把它乘以 $2^2 = 4$，得到 $0$；\n",
    " * ……\n",
    " * 右起第 17 个数字是 $2$，我们把它乘以 $2^{17} = 131072$，得到 $262144$；\n",
    "然后把这些数字加起来的结果就是\n",
    "\n",
    "\\begin{aligned}\n",
    "S = 10 + 14 + 0 + \\dots + 262144 = 390248\n",
    "\\end{aligned}\n",
    "\n",
    "验证的**第二步**是把 $S$ 除以 11，如果它的余数是 1，则这个身份证号码是合法的号码，否则是假的。我们的例子里\n",
    "\n",
    "    `390248 % 11 == 1`\n",
    "    \n",
    "所以是个合法的号码。"
   ]
  },
  {
   "cell_type": "markdown",
   "id": "29508042-058f-48a4-b91a-5b9121c246bf",
   "metadata": {},
   "source": [
    "## 编程练习\n",
    "\n",
    "这个练习中，我们将编程实现一个身份证验证程序。\n",
    "\n",
    "我们需要编写一个函数 `is_valid_id_num(id_num)`\n",
    "\n",
    "输入是一个18位的身份证字符串 `id_num`\n",
    "\n",
    "输出是一个布尔型变量 `True` 或 `False`\n",
    "\n",
    "以下是函数的模板："
   ]
  },
  {
   "cell_type": "code",
   "execution_count": 28,
   "id": "081d9d69-fe8d-41ea-a7e2-c03ed699625a",
   "metadata": {},
   "outputs": [],
   "source": [
    "def is_valid_id_num(id_num):\n",
    "    ''' 验证身份证号码是否合法\n",
    "        id_num 是身份证号码字符串\n",
    "    '''\n",
    "    valid = ... # True 或 False\n",
    "    return valid "
   ]
  },
  {
   "cell_type": "markdown",
   "id": "dba88069-7d73-4ac1-bde1-cb4b40bae41a",
   "metadata": {},
   "source": [
    "下面是对一些主要步骤的代码片段。你可以把这些片段用在你的函数里，也可以从头实现整个函数。"
   ]
  },
  {
   "cell_type": "markdown",
   "id": "958aeee5-baab-4295-9481-5888e7a77a5b",
   "metadata": {},
   "source": [
    "### 1. 把身份证号码转化成一个数字列表\n",
    "\n",
    "身份证号码是一个字符串，我们先把它转换为一个数字的列表"
   ]
  },
  {
   "cell_type": "code",
   "execution_count": 11,
   "id": "f302fc16-7e39-4251-ad37-183e8f2199be",
   "metadata": {},
   "outputs": [
    {
     "data": {
      "text/plain": [
       "[2, 1, 0, 2, 0, 3, 1, 9, 9, 6, 0, 1, 0, 1, 0, 0, 7, 10]"
      ]
     },
     "execution_count": 11,
     "metadata": {},
     "output_type": "execute_result"
    }
   ],
   "source": [
    "def id_num_to_list(id_num):\n",
    "    ''' 把身份证字符串转换为数字的列表\n",
    "        id_num 是身份证号码字符串 '''\n",
    "    ls = []  # 新建一个列表，用于存放输出的字符串数字\n",
    "\n",
    "    for c in id_num: # 枚举身份证字符串中的每一个字符\n",
    "        if c == 'X': # 如果是 X, 转换为 10\n",
    "            num = 10\n",
    "        else: # 如果是数字，转换为相应的 0-9 之间的整数\n",
    "            num = int(c)\n",
    "\n",
    "        # 把计算出的数字添加到输出列表的最后\n",
    "        ls = ls + [num]\n",
    "\n",
    "    return ls\n",
    "\n",
    "ls = id_num_to_list(\"21020319960101007X\")\n",
    "print(ls)"
   ]
  },
  {
   "cell_type": "markdown",
   "id": "10fe28d4-08ca-46d9-a825-c60d42c29f5b",
   "metadata": {},
   "source": [
    "### 2. 反转列表 \n",
    "\n",
    "由于计算 $S$ 的公式是从右往前推算的，我们这里可以把列表反转一下\n",
    "\n",
    "`[1, 2, 3, 4, 5, 6, 7]`\n",
    "\n",
    "会被转为\n",
    "\n",
    "`[7, 6, 5, 4, 3, 2, 1]`\n",
    "\n",
    "翻转列表可以用 `reversed()` 函数"
   ]
  },
  {
   "cell_type": "code",
   "execution_count": 24,
   "id": "211b66f3-4de1-491c-91d6-ae34b3171d5f",
   "metadata": {},
   "outputs": [
    {
     "name": "stdout",
     "output_type": "stream",
     "text": [
      "[10, 7, 0, 0, 1, 0, 1, 0, 6, 9, 9, 1, 3, 0, 2, 0, 1, 2]\n"
     ]
    }
   ],
   "source": [
    "# 把列表反转一下\n",
    "rev = list(reversed(ls))\n",
    "print(rev)"
   ]
  },
  {
   "cell_type": "markdown",
   "id": "c1afd74e-944b-4c57-9d51-7b062d31d7fd",
   "metadata": {},
   "source": [
    "### 3. 计算 $S$\n",
    "\n",
    "\\begin{aligned}\n",
    "S = \\sum_{i=0}^{17} \\mathtt{rev[i]} \\, 2^i\n",
    "\\end{aligned}"
   ]
  },
  {
   "cell_type": "code",
   "execution_count": 25,
   "id": "c2087312-49f7-46ca-a025-7e9d9f2e11aa",
   "metadata": {},
   "outputs": [
    {
     "name": "stdout",
     "output_type": "stream",
     "text": [
      "390248\n"
     ]
    }
   ],
   "source": [
    "S = 0 # 初始化 S 的值\n",
    "for i in range(18):\n",
    "    S = S + rev[i] * 2**i\n",
    "print(S)"
   ]
  },
  {
   "cell_type": "markdown",
   "id": "98350719-8bcf-451c-b68d-6ef0a790379e",
   "metadata": {},
   "source": [
    "### 4. 计算除以 11 的余数\n",
    "\n",
    "最后计算一下 $S$ 除以 11 的余数，看看是否是 1。\n",
    "如果是，则是好的身份证号码；否则是假号码。"
   ]
  },
  {
   "cell_type": "code",
   "execution_count": 29,
   "id": "f39567e2-68a6-43be-aea9-b01aaf324823",
   "metadata": {},
   "outputs": [
    {
     "data": {
      "text/plain": [
       "True"
      ]
     },
     "execution_count": 29,
     "metadata": {},
     "output_type": "execute_result"
    }
   ],
   "source": [
    "S % 11 == 1"
   ]
  },
  {
   "cell_type": "markdown",
   "id": "aafaa802-52b9-4b5b-924e-c370edd7e614",
   "metadata": {},
   "source": [
    "## 注意\n",
    "\n",
    "你可以实现用这个代码验证一下自己的身份证号，但分享代码时，请不要把自己或他人的身份证号码删除，以免泄露个人信息。"
   ]
  },
  {
   "cell_type": "code",
   "execution_count": null,
   "id": "190241d5-0add-435f-8f4a-a10c1b404b56",
   "metadata": {},
   "outputs": [],
   "source": []
  }
 ],
 "metadata": {
  "kernelspec": {
   "display_name": "Python 3 (ipykernel)",
   "language": "python",
   "name": "python3"
  },
  "language_info": {
   "codemirror_mode": {
    "name": "ipython",
    "version": 3
   },
   "file_extension": ".py",
   "mimetype": "text/x-python",
   "name": "python",
   "nbconvert_exporter": "python",
   "pygments_lexer": "ipython3",
   "version": "3.9.7"
  }
 },
 "nbformat": 4,
 "nbformat_minor": 5
}
