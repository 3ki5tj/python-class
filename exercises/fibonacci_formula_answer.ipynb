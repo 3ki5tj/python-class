{
 "cells": [
  {
   "cell_type": "markdown",
   "id": "ae934a20-85b1-4965-93df-1020a9027d5d",
   "metadata": {},
   "source": [
    "### 斐波那契数列的通项公式"
   ]
  },
  {
   "cell_type": "code",
   "execution_count": 5,
   "id": "9e19ec77-2560-471d-9ee5-80ec989212f4",
   "metadata": {},
   "outputs": [
    {
     "name": "stdout",
     "output_type": "stream",
     "text": [
      "0: 0 0\n",
      "1: 1 1\n",
      "2: 1 1\n",
      "3: 2 2\n",
      "4: 3 3\n",
      "5: 5 5\n",
      "6: 8 8\n",
      "7: 13 13\n",
      "8: 21 21\n",
      "9: 34 34\n",
      "10: 55 55\n",
      "11: 89 89\n",
      "12: 144 144\n",
      "13: 233 233\n",
      "14: 377 377\n"
     ]
    }
   ],
   "source": [
    "def fibonacci(n):\n",
    "    ''' 用递推公式计算第 n 个斐波那契数 '''\n",
    "    if n == 0:\n",
    "        return 0\n",
    "\n",
    "    x, y = 0, 1\n",
    "    for i in range(2, n+1):\n",
    "        x, y = y, x + y\n",
    "    return y\n",
    "\n",
    "def fibonacci_formula(n):\n",
    "    ''' 返回第 n 个斐波那契数 '''\n",
    "    sqrt5 = 5**0.5\n",
    "    phi1 = (1+sqrt5)/2\n",
    "    phi2 = (1-sqrt5)/2\n",
    "    an = (phi1**n - phi2**n)/sqrt5\n",
    "    return round(an)\n",
    "\n",
    "for n in range(15):\n",
    "    print(\"{}: {} {}\".format(n, fibonacci(n), fibonacci_formula(n)))"
   ]
  }
 ],
 "metadata": {
  "kernelspec": {
   "display_name": "Python 3 (ipykernel)",
   "language": "python",
   "name": "python3"
  },
  "language_info": {
   "codemirror_mode": {
    "name": "ipython",
    "version": 3
   },
   "file_extension": ".py",
   "mimetype": "text/x-python",
   "name": "python",
   "nbconvert_exporter": "python",
   "pygments_lexer": "ipython3",
   "version": "3.9.7"
  }
 },
 "nbformat": 4,
 "nbformat_minor": 5
}
