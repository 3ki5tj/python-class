{
 "cells": [
  {
   "cell_type": "markdown",
   "id": "9c4b6543-0b52-4575-a4ea-b6d49eb122c6",
   "metadata": {
    "tags": []
   },
   "source": [
    "## 编程练习1\n",
    "\n",
    "今有兽，六首四足；禽，四首二足；上有七十六首，下有四十六足。\n",
    "\n",
    "问：禽、兽各几何？"
   ]
  },
  {
   "cell_type": "code",
   "execution_count": 2,
   "id": "5ea0882c-5aea-4163-bfb1-846a33189236",
   "metadata": {},
   "outputs": [
    {
     "name": "stdout",
     "output_type": "stream",
     "text": [
      "7 禽， 8 兽\n"
     ]
    }
   ],
   "source": [
    "# x 禽的数量\n",
    "# y 兽的数量\n",
    "for x in range(1, 24):\n",
    "    for y in range(1, 12):\n",
    "        if 4*x + 6*y == 76 and 2*x + 4*y == 46:\n",
    "            print(x, \"禽，\", y, \"兽\")"
   ]
  },
  {
   "cell_type": "markdown",
   "id": "42615f99-0e44-4e9d-8d43-efae4e7ed463",
   "metadata": {},
   "source": [
    "**注：**\n",
    "我们这里循环变量的范围是 `x = 1..23` 和 `y = 1..11`。\n",
    "\n",
    "这因为 `x == 23` 和 `y == 11` 分别是足方程 `2*x + 4*y == 46` 允许的解的上限。 "
   ]
  },
  {
   "cell_type": "markdown",
   "id": "f58abc36-acce-421b-bda3-bf67ab690295",
   "metadata": {},
   "source": [
    "### 优化\n",
    "\n",
    "由于总的足数是 46，即\n",
    "\n",
    "`2*x + 4*y == 46`\n",
    "\n",
    "我们在确定了禽的数量后，就可以推断出兽的数量。也就是说\n",
    "\n",
    "`y = (46-2*x)/4`\n",
    "\n",
    "这样内部变量 `y` 的循环其实是不必要的。\n",
    "\n",
    "而且为了让 `y` 是整数，`x` 只能是奇数。"
   ]
  },
  {
   "cell_type": "code",
   "execution_count": 3,
   "id": "63e8c2a6-267f-486b-a7cd-07962412c21f",
   "metadata": {},
   "outputs": [
    {
     "name": "stdout",
     "output_type": "stream",
     "text": [
      "7 禽， 8 兽\n"
     ]
    }
   ],
   "source": [
    "# x 禽的数量\n",
    "# y 兽的数量\n",
    "for x in range(1, 24, 2): # x = 1, 3, 5, ..., 23\n",
    "    y = (46-2*x)//4\n",
    "    if 4*x + 6*y == 76:\n",
    "        print(x, \"禽，\", y, \"兽\")"
   ]
  },
  {
   "cell_type": "markdown",
   "id": "53f88f78-536b-470c-9090-ad14baefea67",
   "metadata": {
    "tags": []
   },
   "source": [
    "## 编程练习2\n",
    "\n",
    "请用枚举法罗列出 100 以内所有的勾股数。"
   ]
  },
  {
   "cell_type": "markdown",
   "id": "f1276762-3cb8-4a08-b7a4-64f924368e66",
   "metadata": {},
   "source": [
    "### 三重循环"
   ]
  },
  {
   "cell_type": "code",
   "execution_count": 4,
   "id": "1d7bc87f-dafa-4495-b69c-1d31eebdf854",
   "metadata": {
    "collapsed": true,
    "jupyter": {
     "outputs_hidden": true
    },
    "tags": []
   },
   "outputs": [
    {
     "name": "stdout",
     "output_type": "stream",
     "text": [
      "3 4 5\n",
      "5 12 13\n",
      "6 8 10\n",
      "7 24 25\n",
      "8 15 17\n",
      "9 12 15\n",
      "9 40 41\n",
      "10 24 26\n",
      "11 60 61\n",
      "12 16 20\n",
      "12 35 37\n",
      "13 84 85\n",
      "14 48 50\n",
      "15 20 25\n",
      "15 36 39\n",
      "16 30 34\n",
      "16 63 65\n",
      "18 24 30\n",
      "18 80 82\n",
      "20 21 29\n",
      "20 48 52\n",
      "21 28 35\n",
      "21 72 75\n",
      "24 32 40\n",
      "24 45 51\n",
      "24 70 74\n",
      "25 60 65\n",
      "27 36 45\n",
      "28 45 53\n",
      "28 96 100\n",
      "30 40 50\n",
      "30 72 78\n",
      "32 60 68\n",
      "33 44 55\n",
      "33 56 65\n",
      "35 84 91\n",
      "36 48 60\n",
      "36 77 85\n",
      "39 52 65\n",
      "39 80 89\n",
      "40 42 58\n",
      "40 75 85\n",
      "42 56 70\n",
      "45 60 75\n",
      "48 55 73\n",
      "48 64 80\n",
      "51 68 85\n",
      "54 72 90\n",
      "57 76 95\n",
      "60 63 87\n",
      "60 80 100\n",
      "65 72 97\n"
     ]
    }
   ],
   "source": [
    "for x in range(1, 101):\n",
    "    for y in range(x, 101):\n",
    "        for z in range(y + 1, 101):\n",
    "            if x*x + y*y == z*z:\n",
    "                print(x, y, z)"
   ]
  },
  {
   "cell_type": "markdown",
   "id": "47c623b0-1d7d-4a37-a382-c4d1f5e600b5",
   "metadata": {
    "tags": []
   },
   "source": [
    "### 二重循环"
   ]
  },
  {
   "cell_type": "code",
   "execution_count": 6,
   "id": "92242123-2425-4964-ac0b-55ba1a1bdd7c",
   "metadata": {
    "collapsed": true,
    "jupyter": {
     "outputs_hidden": true
    },
    "tags": []
   },
   "outputs": [
    {
     "name": "stdout",
     "output_type": "stream",
     "text": [
      "3 4 5\n",
      "5 12 13\n",
      "6 8 10\n",
      "7 24 25\n",
      "8 15 17\n",
      "9 12 15\n",
      "9 40 41\n",
      "10 24 26\n",
      "11 60 61\n",
      "12 16 20\n",
      "12 35 37\n",
      "13 84 85\n",
      "14 48 50\n",
      "15 20 25\n",
      "15 36 39\n",
      "16 30 34\n",
      "16 63 65\n",
      "18 24 30\n",
      "18 80 82\n",
      "20 21 29\n",
      "20 48 52\n",
      "20 99 101\n",
      "21 28 35\n",
      "21 72 75\n",
      "24 32 40\n",
      "24 45 51\n",
      "24 70 74\n",
      "25 60 65\n",
      "27 36 45\n",
      "28 45 53\n",
      "28 96 100\n",
      "30 40 50\n",
      "30 72 78\n",
      "32 60 68\n",
      "33 44 55\n",
      "33 56 65\n",
      "35 84 91\n",
      "36 48 60\n",
      "36 77 85\n",
      "39 52 65\n",
      "39 80 89\n",
      "40 42 58\n",
      "40 75 85\n",
      "40 96 104\n",
      "42 56 70\n",
      "45 60 75\n",
      "48 55 73\n",
      "48 64 80\n",
      "48 90 102\n",
      "51 68 85\n",
      "54 72 90\n",
      "56 90 106\n",
      "57 76 95\n",
      "60 63 87\n",
      "60 80 100\n",
      "60 91 109\n",
      "63 84 105\n",
      "65 72 97\n",
      "66 88 110\n",
      "69 92 115\n",
      "72 96 120\n",
      "75 100 125\n",
      "80 84 116\n"
     ]
    }
   ],
   "source": [
    "for x in range(1, 101):\n",
    "    for y in range(x, 101):\n",
    "        w = x*x + y*y\n",
    "        z = round(w**0.5)\n",
    "        if w == z*z:\n",
    "            print(x, y, z)"
   ]
  },
  {
   "cell_type": "markdown",
   "id": "e4120a49-02b2-4539-964d-60f62dce82a6",
   "metadata": {},
   "source": [
    "### 性能比较"
   ]
  },
  {
   "cell_type": "code",
   "execution_count": 24,
   "id": "89a48d0f-ed7d-4563-888b-7073961303ef",
   "metadata": {},
   "outputs": [
    {
     "name": "stdout",
     "output_type": "stream",
     "text": [
      "29.3 ms ± 5.38 ms per loop (mean ± std. dev. of 7 runs, 10 loops each)\n",
      "5.09 ms ± 249 µs per loop (mean ± std. dev. of 7 runs, 100 loops each)\n"
     ]
    }
   ],
   "source": [
    "def pythagorean_triples_v1(M):\n",
    "    ls = []\n",
    "    for x in range(1, M+1):\n",
    "        x2 = x*x\n",
    "        for y in range(x, M+1):\n",
    "            y2 = y*y\n",
    "            for z in range(y + 1, M+1):\n",
    "                if x2 + y2 == z*z:\n",
    "                    ls += [(x, y, z)]\n",
    "\n",
    "def pythagorean_triples_v2(M):\n",
    "    ls = []\n",
    "    for x in range(1, M+1):\n",
    "        x2 = x*x\n",
    "        for y in range(x, M+1):\n",
    "            w = x2 + y*y\n",
    "            z = round(w**0.5)\n",
    "            if w == z*z:\n",
    "                ls += [(x, y, z)]\n",
    "\n",
    "%timeit pythagorean_triples_v1(100)\n",
    "%timeit pythagorean_triples_v2(100)"
   ]
  },
  {
   "cell_type": "markdown",
   "id": "1c2e2a76-c41d-4243-bcf6-38f97ff22ec7",
   "metadata": {},
   "source": [
    "`M == 100` 时，第二个版本比第一个版本快了5倍！\n",
    "\n",
    "注意另两个技巧，\n",
    "1. `x*x` 比 `x**2` 要快很多。\n",
    "2. 我们预先定义了一个变量 `x2` 存放平方 `x*x` 的值，不用在内部循环时每次都计算一遍，这个也使我们的程序快了 60%。"
   ]
  },
  {
   "cell_type": "code",
   "execution_count": 15,
   "id": "a145ebf6-6080-4e95-aa65-37e8ffbff3fd",
   "metadata": {},
   "outputs": [
    {
     "name": "stdout",
     "output_type": "stream",
     "text": [
      "30.6 s ± 227 ms per loop (mean ± std. dev. of 7 runs, 1 loop each)\n",
      "533 ms ± 52.4 ms per loop (mean ± std. dev. of 7 runs, 1 loop each)\n"
     ]
    }
   ],
   "source": [
    "%timeit pythagorean_triples_v1(1000)\n",
    "%timeit pythagorean_triples_v2(1000)"
   ]
  },
  {
   "cell_type": "markdown",
   "id": "1cc75a1e-7e59-41de-8e93-7937cf4120bc",
   "metadata": {},
   "source": [
    "`M == 1000` 时，第二个版本比第一个版本快了56倍！"
   ]
  }
 ],
 "metadata": {
  "kernelspec": {
   "display_name": "Python 3 (ipykernel)",
   "language": "python",
   "name": "python3"
  },
  "language_info": {
   "codemirror_mode": {
    "name": "ipython",
    "version": 3
   },
   "file_extension": ".py",
   "mimetype": "text/x-python",
   "name": "python",
   "nbconvert_exporter": "python",
   "pygments_lexer": "ipython3",
   "version": "3.9.7"
  }
 },
 "nbformat": 4,
 "nbformat_minor": 5
}
