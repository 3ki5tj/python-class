{
 "cells": [
  {
   "cell_type": "markdown",
   "id": "9c4b6543-0b52-4575-a4ea-b6d49eb122c6",
   "metadata": {},
   "source": [
    "今有兽，六首四足；禽，四首二足；上有七十六首，下有四十六足。\n",
    "\n",
    "问：禽、兽各几何？"
   ]
  },
  {
   "cell_type": "code",
   "execution_count": 2,
   "id": "5ea0882c-5aea-4163-bfb1-846a33189236",
   "metadata": {},
   "outputs": [
    {
     "name": "stdout",
     "output_type": "stream",
     "text": [
      "7 禽， 8 兽\n"
     ]
    }
   ],
   "source": [
    "# x 禽的数量\n",
    "# y 兽的数量\n",
    "for x in range(23):\n",
    "    for y in range(23):\n",
    "        if 4*x + 6*y == 76 and 2*x + 4*y == 46:\n",
    "            print(x, \"禽，\", y, \"兽\")"
   ]
  },
  {
   "cell_type": "code",
   "execution_count": null,
   "id": "3dc965d1-a2ac-4cdc-8bff-eed66542a989",
   "metadata": {},
   "outputs": [],
   "source": []
  }
 ],
 "metadata": {
  "kernelspec": {
   "display_name": "Python 3 (ipykernel)",
   "language": "python",
   "name": "python3"
  },
  "language_info": {
   "codemirror_mode": {
    "name": "ipython",
    "version": 3
   },
   "file_extension": ".py",
   "mimetype": "text/x-python",
   "name": "python",
   "nbconvert_exporter": "python",
   "pygments_lexer": "ipython3",
   "version": "3.9.7"
  }
 },
 "nbformat": 4,
 "nbformat_minor": 5
}
