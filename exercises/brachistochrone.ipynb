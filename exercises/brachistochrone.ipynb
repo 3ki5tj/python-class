{
 "cells": [
  {
   "cell_type": "markdown",
   "id": "04ce3806-3448-458d-99f1-ed179ec875a4",
   "metadata": {},
   "source": [
    "# 最速降线 （The Brachistochrone Curve）\n",
    "\n",
    "假设有一个弯曲的斜坡，连接着从地面上一点 A 到水平距离为 $l$ 深度为 $h$ 的另一点 B。\n",
    "\n",
    "这个斜坡的是光滑的，但它的形状各点的弯曲程度可以任意设计。\n",
    "\n",
    "现在把一个静止的小球从原点释放，请写一个程序设计一个能使这个小球到达 B 点时间最短的斜坡，并计算所需要的时间。\n",
    "\n",
    "方便起见，你可以假定我们采用的单位制里的重力加速度为1。\n",
    "\n",
    "## 提示\n",
    "\n",
    "这是一道很难的编程题！\n",
    "\n",
    "考虑用动态规划（Dynamic Programming）：沿着水平方向设点后，建立一个递推式来求解。\n",
    "\n",
    "![动态规划计算最速降线结果样本](https://i.niupic.com/images/2022/01/26/9UgW.png)\n",
    "\n",
    "## 参考阅读\n",
    "\n",
    "[最速降线](https://blog.csdn.net/zhouchangyu1221/article/details/104242324)"
   ]
  },
  {
   "cell_type": "code",
   "execution_count": null,
   "id": "3a6b9246-48bf-4e6a-aade-81b05db5572e",
   "metadata": {},
   "outputs": [],
   "source": [
    "gravity = 1 # instead of 9.8 m/s^2\n",
    "\n",
    "def shortest_time(h, l):\n",
    "    ''' 返回一个能使一个静止的小球到达离原点水平距离为 l，垂直距离为 h 的点的时间最短的斜坡，并计算所需要的时间 '''\n",
    "    return ramp, t"
   ]
  }
 ],
 "metadata": {
  "kernelspec": {
   "display_name": "Python 3 (ipykernel)",
   "language": "python",
   "name": "python3"
  },
  "language_info": {
   "codemirror_mode": {
    "name": "ipython",
    "version": 3
   },
   "file_extension": ".py",
   "mimetype": "text/x-python",
   "name": "python",
   "nbconvert_exporter": "python",
   "pygments_lexer": "ipython3",
   "version": "3.9.7"
  }
 },
 "nbformat": 4,
 "nbformat_minor": 5
}
