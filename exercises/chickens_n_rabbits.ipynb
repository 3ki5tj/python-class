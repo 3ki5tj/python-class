{
 "cells": [
  {
   "cell_type": "markdown",
   "id": "10fac0e1-e599-4db6-a0d0-4737e30b9d13",
   "metadata": {},
   "source": [
    "# 枚举法和鸡兔同笼问题\n",
    "\n",
    "在解“大衍求一数”时，我们最早是用“暴力破解法”也就是枚举法来算同余方程。虽然它的效率不是最高的，但是这种算法容易想到，也便于编程。因为现在的计算机很快，程序可以很快跑出结果，所以非常实用。"
   ]
  },
  {
   "cell_type": "markdown",
   "id": "b278898b-042b-4f5b-ac29-624d0d08deb0",
   "metadata": {
    "tags": []
   },
   "source": [
    "## 举例说明\n",
    "\n",
    "下面我们用同是《孙子算经》里的鸡兔同笼问题来说明。\n",
    "\n",
    "    今有雉、兔同笼，上有三十五头，下有九十四足。\n",
    "    问：雉、兔各几何？\n",
    "    \n",
    "翻译：\n",
    "\n",
    "    一个笼里关了一些鸡和兔子，一共有35个头，94只脚。\n",
    "    问：笼子里有几只鸡和几只兔子？\n",
    "\n",
    "我们可以用双重循环逐个枚举鸡 $x$ 和兔子 $y$ 的数量。看看是否可以满足\n",
    "* 总头数是 35\n",
    "* 总脚数是 94"
   ]
  },
  {
   "cell_type": "code",
   "execution_count": 11,
   "id": "2152d9fe-5a4c-40cf-898d-9af8b44be3aa",
   "metadata": {},
   "outputs": [],
   "source": [
    "# x 鸡的数量\n",
    "# y 兔子的数量\n",
    "for x in range(1, 36):\n",
    "    for y in range(1, 36):\n",
    "        if x + y == 35 and 2*x + 4*y == 94:\n",
    "            print(x, \"只鸡，\", y, \"只兔子\")"
   ]
  },
  {
   "cell_type": "markdown",
   "id": "076fa10d-eb82-478e-8853-deafb2dd5af7",
   "metadata": {},
   "source": [
    "## 编程练习\n",
    "\n",
    "《孙子算经》下卷还有一题：\n",
    "\n",
    "    今有兽，六首四足，禽，四首二足，\n",
    "    上有七十六首，下有四十六足。\n",
    "    问：禽、兽各几何？\n",
    "    \n",
    "请仿照《鸡兔同笼》问题中的枚举法编程解决这个问题。"
   ]
  },
  {
   "cell_type": "code",
   "execution_count": null,
   "id": "f8066dbf-6fa7-4402-b46b-c1387350ab27",
   "metadata": {},
   "outputs": [],
   "source": []
  }
 ],
 "metadata": {
  "kernelspec": {
   "display_name": "Python 3 (ipykernel)",
   "language": "python",
   "name": "python3"
  },
  "language_info": {
   "codemirror_mode": {
    "name": "ipython",
    "version": 3
   },
   "file_extension": ".py",
   "mimetype": "text/x-python",
   "name": "python",
   "nbconvert_exporter": "python",
   "pygments_lexer": "ipython3",
   "version": "3.9.7"
  }
 },
 "nbformat": 4,
 "nbformat_minor": 5
}
