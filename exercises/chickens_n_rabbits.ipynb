{
 "cells": [
  {
   "cell_type": "markdown",
   "id": "10fac0e1-e599-4db6-a0d0-4737e30b9d13",
   "metadata": {},
   "source": [
    "# 枚举法和鸡兔同笼问题\n",
    "\n",
    "在解“大衍求一数”时，我们最早是用“暴力破解法”也就是枚举法来算同余方程。\n",
    "\n",
    "**枚举法的优点：**\n",
    "\n",
    "1. 虽然一般它的效率不高，但是这种算法**容易想到**，也**便于编程**，不容易写错。\n",
    "因为现在的计算机很快，一般的算法能很快跑出结果。\n",
    "\n",
    "2. 简单的算法**容易被别人看懂**。工程上，一个简单易懂的算法往往更加**容易维护**。\n",
    "\n",
    "3. 枚举法的程序简单，往往可以启发后续优化的思路。"
   ]
  },
  {
   "cell_type": "markdown",
   "id": "b278898b-042b-4f5b-ac29-624d0d08deb0",
   "metadata": {
    "tags": []
   },
   "source": [
    "## 举例说明\n",
    "\n",
    "下面我们用同是《孙子算经》里的鸡兔同笼问题来说明。\n",
    "\n",
    "    今有雉、兔同笼，上有三十五头，下有九十四足。\n",
    "    问：雉、兔各几何？\n",
    "    \n",
    "翻译：\n",
    "\n",
    "    一个笼里关了一些鸡和兔子，一共有35个头，94只脚。\n",
    "    问：笼子里有几只鸡和几只兔子？\n",
    "\n",
    "我们可以用双重循环逐个枚举鸡 $x$ 和兔子 $y$ 的数量。看看是否可以满足\n",
    "* 总头数是 35\n",
    "* 总脚数是 94"
   ]
  },
  {
   "cell_type": "code",
   "execution_count": 2,
   "id": "2152d9fe-5a4c-40cf-898d-9af8b44be3aa",
   "metadata": {},
   "outputs": [
    {
     "name": "stdout",
     "output_type": "stream",
     "text": [
      "23 只鸡， 12 只兔子\n"
     ]
    }
   ],
   "source": [
    "# x 鸡的数量\n",
    "# y 兔子的数量\n",
    "for x in range(1, 36):\n",
    "    for y in range(1, 36):\n",
    "        if x + y == 35 and 2*x + 4*y == 94:\n",
    "            print(x, \"只鸡，\", y, \"只兔子\")"
   ]
  },
  {
   "cell_type": "markdown",
   "id": "076fa10d-eb82-478e-8853-deafb2dd5af7",
   "metadata": {},
   "source": [
    "## 编程练习1\n",
    "\n",
    "《孙子算经》下卷还有一题：\n",
    "\n",
    "    今有兽，六首四足，禽，四首二足，\n",
    "    上有七十六首，下有四十六足。\n",
    "    问：禽、兽各几何？\n",
    "    \n",
    "1. 请仿照《鸡兔同笼》问题中的枚举法编程解决这个问题。\n",
    "2. **算法优化**：如果你的程序使用了两重循环，可否只用一重循环或不用循环？"
   ]
  },
  {
   "cell_type": "markdown",
   "id": "6704438c-e417-4c13-9e9c-6c2f1bcc5ec2",
   "metadata": {},
   "source": [
    "## 编程练习2\n",
    "\n",
    "请用枚举法罗列出 100 以内所有的勾股数。\n",
    "\n",
    "**说明：**\n",
    "一组勾股数指的是三个**正整数** $x \\le y < z$，使得\n",
    "\n",
    "\\begin{aligned}\n",
    "x^2 + y^2 = z^2\n",
    "\\end{aligned}\n",
    "\n",
    "能够成立。"
   ]
  },
  {
   "cell_type": "markdown",
   "id": "01cb833c-38c5-44f3-b742-e80d47b99ac3",
   "metadata": {},
   "source": [
    "**提示：**\n",
    "1. 由于这个问题里有三个变量，可以用三重循环来枚举。\n",
    "\n",
    "2. **算法优化：** 如果要效率高些，想想可否用二重循环而不是三重循环来解决这个问题？\n",
    "\n",
    "3. 如果只用二重循环，一个关键是要能测试一个正整数 `w` 是否是平方数。\n",
    "一个办法是把 `w` 开根后取整：`r = round(w**0.5)`，\n",
    "然后再测试 `w` 是否等于 `r` 的平方。\n",
    "\n",
    "比如，\n",
    "* 5开根后取整为 `round(5**0.5) == 2`，而 `5 != 2*2`，所以 5 不是平方数。\n",
    "* 4开根后取整为 `round(4**0.5) == 2`，而 `4 == 2*2`，所以 4 是平方数。"
   ]
  }
 ],
 "metadata": {
  "kernelspec": {
   "display_name": "Python 3 (ipykernel)",
   "language": "python",
   "name": "python3"
  },
  "language_info": {
   "codemirror_mode": {
    "name": "ipython",
    "version": 3
   },
   "file_extension": ".py",
   "mimetype": "text/x-python",
   "name": "python",
   "nbconvert_exporter": "python",
   "pygments_lexer": "ipython3",
   "version": "3.9.7"
  }
 },
 "nbformat": 4,
 "nbformat_minor": 5
}
