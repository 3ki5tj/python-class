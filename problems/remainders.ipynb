{
 "cells": [
  {
   "cell_type": "markdown",
   "id": "3ec27dd4",
   "metadata": {},
   "source": [
    "## 大衍求一术\n",
    "\n",
    "大衍问题源于《孙子算经》中的“物不知数”问题：\n",
    "“今有物，不知其数，三三数之剩二，五五数之剩三，七七数之剩二，问物几何？”\n",
    "\n",
    "参考：\n",
    "\n",
    "https://baike.baidu.com/item/%E5%A4%A7%E8%A1%8D%E6%B1%82%E4%B8%80%E6%9C%AF/5523066"
   ]
  },
  {
   "cell_type": "code",
   "execution_count": 3,
   "id": "b4443f4b",
   "metadata": {},
   "outputs": [
    {
     "data": {
      "text/plain": [
       "(1, 1, 1)"
      ]
     },
     "execution_count": 3,
     "metadata": {},
     "output_type": "execute_result"
    }
   ],
   "source": [
    "def gcd(a, b):\n",
    "    if a == 0:\n",
    "        return b\n",
    "    if a < b:\n",
    "        return gcd(b % a, a)\n",
    "    else:\n",
    "        return gcd(b, a)\n",
    "gcd(101, 1001), gcd(101, 10001), gcd(1001, 10001)"
   ]
  },
  {
   "cell_type": "markdown",
   "id": "5478bb88",
   "metadata": {},
   "source": [
    "We want to use this example to show you the process of gradual refinement in algorithm design:\n",
    "\n",
    "We will start with a crude algorithm, then improve it bit by bit, and finally reach something blazing fast.\n",
    "\n",
    "In this process, we may develop some useful mathematical theorems, but it is quite fun.\n",
    "\n",
    "Let us start with simple version."
   ]
  },
  {
   "cell_type": "code",
   "execution_count": 1,
   "id": "0727c63d",
   "metadata": {},
   "outputs": [
    {
     "name": "stdout",
     "output_type": "stream",
     "text": [
      "found x 23\n"
     ]
    }
   ],
   "source": [
    "for x in range(1, 200):\n",
    "    if (x % 3 == 2) and (x % 5 == 3) and (x % 7 == 2):\n",
    "        print(\"found x\", x)\n",
    "        break"
   ]
  },
  {
   "cell_type": "markdown",
   "id": "2627189b",
   "metadata": {},
   "source": [
    "## Generalizing the problem\n",
    "\n",
    "We wish to find x such that\n",
    "* `x % d1 == m1`  (In the original problem, d1 == 3, and m1 == 2)\n",
    "* `x % d2 == m2`  (In the original problem, d2 == 5, and m2 == 3)\n",
    "* `x % d3 == m3`  (In the original problem, d3 == 7, and m3 == 2)\n",
    "\n",
    "### Analyzing the problem\n",
    "\n",
    "We can borrow our solution for the special case.  Here is one question:\n",
    "\n",
    "#### How many x's do we have to go through?\n",
    "\n",
    "We don't want to miss a solution, but we don't want to check too many integers neither.\n",
    "After a little thought, we can conclude\n",
    "\n",
    "    If $x$ is a solution, so is `y = x + d1 d2 d3`.\n",
    "\n",
    "    (You can check for yourself `y % d1 = x % d1`, and the same for `d2` and `d3`)\n",
    "\n",
    "This fact is very useful.\n",
    "It means that we only need to search `0, 1, ..., d1 d2 d3 - 1`, but no more.\n",
    "\n",
    "So our solution can be summarized as the following function:"
   ]
  },
  {
   "cell_type": "code",
   "execution_count": 2,
   "id": "03eb36ea",
   "metadata": {},
   "outputs": [
    {
     "data": {
      "text/plain": [
       "23"
      ]
     },
     "execution_count": 2,
     "metadata": {},
     "output_type": "execute_result"
    }
   ],
   "source": [
    "def remainder_solver_3var(d1, m1, d2, m2, d3, m3):\n",
    "    ''' return x such that\n",
    "        x % d1 == m1\n",
    "        x % d2 == m2\n",
    "        x % d3 == m3\n",
    "    '''\n",
    "    \n",
    "    for x in range(d1*d2*d3):\n",
    "        if (x % d1 == m1) and (x % d2 == m2) and (x % d3 == m3):\n",
    "            return x\n",
    "    return -1\n",
    "\n",
    "remainder_solver_3var(3, 2, 5, 3, 7, 2)"
   ]
  },
  {
   "cell_type": "markdown",
   "id": "a114fd1b",
   "metadata": {},
   "source": [
    "On average this algorithm will search $d_1 d_2 d_3 / 2$ times before it hits the right answer.\n",
    "\n",
    "It is not bad, but can we do better?\n",
    "\n",
    "For this, let us consider some simpler problems.\n",
    "\n",
    "### One-variable problem\n",
    "\n",
    "First, let us try the one variable problem:\n",
    "\n",
    "    Find $x$ such that `x % d1 == m1`.\n",
    "\n",
    "Well, the answer is just `m1`.\n",
    "\n",
    "### Two-variable problem\n",
    "\n",
    "Now, let's try two variables\n",
    "\n",
    "    Find $x$ such that `x % d1 == m1` and `x % d2 == m2`\n",
    "\n",
    "Or, with concrete numbers\n",
    "\n",
    "    Find $x$ such that `x % 3 == 2` and `x % 5 == 3`\n",
    "\n",
    "Well this isn't too hard neither, we can borrow our solution for three variables."
   ]
  },
  {
   "cell_type": "code",
   "execution_count": 3,
   "id": "5eeca07f",
   "metadata": {},
   "outputs": [
    {
     "data": {
      "text/plain": [
       "8"
      ]
     },
     "execution_count": 3,
     "metadata": {},
     "output_type": "execute_result"
    }
   ],
   "source": [
    "def remainder_solver_2var(d1, m1, d2, m2):\n",
    "    ''' return x such that\n",
    "        x % d1 == m1\n",
    "        x % d2 == m2\n",
    "    '''\n",
    "    \n",
    "    for x in range(d1*d2):\n",
    "        if (x % d1 == m1) and (x % d2 == m2):\n",
    "            return x\n",
    "    return -1\n",
    "\n",
    "remainder_solver_2var(3, 2, 5, 3)"
   ]
  },
  {
   "cell_type": "markdown",
   "id": "9a97d94f",
   "metadata": {},
   "source": [
    "## Smarter way of solving the two-variable problem\n",
    "\n",
    "On average, the loop will go over `d1*d2/2` times before it hits the right answer.\n",
    "\n",
    "But we can certainly do a bit better.\n",
    "\n",
    "We can start with `m1`, because it is the first number that satisfy `x % d1 == m1`.\n",
    "\n",
    "The next number to try would be `m1 + d1`, for it is next number that satisfy `x % d1 == m1`.\n",
    "\n",
    "And the next would be `m1 + d1*2`, the next `m1 + d1*3`\n",
    "\n",
    "...\n",
    "\n",
    "In this way, we can dramatically reduce the numbers to search.\n",
    "\n",
    "Also note that in the searching process, we can be sure that the first condition `x % d1 == m1` is always satisfied.  So in the loop, we only need to check the second condition.\n"
   ]
  },
  {
   "cell_type": "code",
   "execution_count": 4,
   "id": "30dddcc6",
   "metadata": {},
   "outputs": [
    {
     "data": {
      "text/plain": [
       "8"
      ]
     },
     "execution_count": 4,
     "metadata": {},
     "output_type": "execute_result"
    }
   ],
   "source": [
    "def remainder_solver_2var_v2(d1, m1, d2, m2):\n",
    "    ''' return x such that\n",
    "        x % d1 == m1\n",
    "        x % d2 == m2\n",
    "    '''\n",
    "    \n",
    "    for x in range(m1, d1*d2, d1):\n",
    "        if x % d2 == m2:\n",
    "            return x\n",
    "    return -1\n",
    "\n",
    "remainder_solver_2var_v2(3, 2, 5, 3)"
   ]
  },
  {
   "cell_type": "markdown",
   "id": "32e501b9",
   "metadata": {},
   "source": [
    "## An even smarter way of solving the two-variable problem\n",
    "\n",
    "This loop on average will go through `d2/2` numbers, which is much better than the `d1*d2/2` in the previous example.\n",
    "\n",
    "But we can still do a bit better.\n",
    "\n",
    "If `d1 < d2` we can swap `(d1, m1)` and `(d2, m2)`, then the loop will go through `d1/2` times."
   ]
  },
  {
   "cell_type": "code",
   "execution_count": 5,
   "id": "d57cf63d",
   "metadata": {},
   "outputs": [
    {
     "data": {
      "text/plain": [
       "8"
      ]
     },
     "execution_count": 5,
     "metadata": {},
     "output_type": "execute_result"
    }
   ],
   "source": [
    "def remainder_solver_2var_v3(d1, m1, d2, m2):\n",
    "    ''' return x such that\n",
    "        x % d1 == m1\n",
    "        x % d2 == m2\n",
    "    '''\n",
    "    \n",
    "    if d1 < d2: # swap (d1, m1) and (d2, m2)\n",
    "        d1, m1, d2, m2 = d2, m2, d1, m1\n",
    "    \n",
    "    for x in range(m1, d1*d2, d1):\n",
    "        if x % d2 == m2:\n",
    "            return x\n",
    "    return -1\n",
    "\n",
    "remainder_solver_2var_v3(3, 2, 5, 3)"
   ]
  },
  {
   "cell_type": "markdown",
   "id": "1c108cfc",
   "metadata": {},
   "source": [
    "## Three-variable problem\n",
    "\n",
    "Now let us go back to the three-variable problem.\n",
    "\n",
    "Here is the brilliant idea.\n",
    "\n",
    "If we have solved the two-variable problem for `(d1, m1)` and `(d2, m2)` and the solution is `x1_2`, the solution can be reduced a new condition that\n",
    "\n",
    "    `x % (d1*d2) == x1_2`\n",
    "    \n",
    "Then the three-variable problem is reduced to a new two variable problem of\n",
    "\n",
    "    `x % (d1*d2) == x1_2`\n",
    "    `x % d3 == m3`\n",
    "    \n",
    "So, the three-variable problem is reduced two two-variable problems!"
   ]
  },
  {
   "cell_type": "code",
   "execution_count": 6,
   "id": "58ebc98f",
   "metadata": {},
   "outputs": [
    {
     "data": {
      "text/plain": [
       "23"
      ]
     },
     "execution_count": 6,
     "metadata": {},
     "output_type": "execute_result"
    }
   ],
   "source": [
    "def remainder_solver_3var_v2(d1, m1, d2, m2, d3, m3):\n",
    "    ''' return x such that\n",
    "        x % d1 == m1\n",
    "        x % d2 == m2\n",
    "        x % d3 == m3\n",
    "    '''\n",
    "    \n",
    "    x1_2 = remainder_solver_2var_v3(d1, m1, d2, m2)\n",
    "    \n",
    "    return remainder_solver_2var_v3(d1*d2, x1_2, d3, m3)\n",
    "\n",
    "remainder_solver_3var_v2(3, 2, 5, 3, 7, 2)"
   ]
  },
  {
   "cell_type": "markdown",
   "id": "5a9e1761",
   "metadata": {},
   "source": [
    "## Improvement on the solution of the three-variable problem\n",
    "\n",
    "We can actually do a bit better.\n",
    "\n",
    "The average number of loops is `min(d1, d2)/2 + d3/2`.\n",
    "\n",
    "But if `d3` is the largest of the three, we can swap `(d2, m2)` and `(d3, m3)`, and the number will be reduced to\n",
    "`(d1 + d2)/2`"
   ]
  },
  {
   "cell_type": "code",
   "execution_count": 7,
   "id": "cb36ef18",
   "metadata": {},
   "outputs": [
    {
     "data": {
      "text/plain": [
       "23"
      ]
     },
     "execution_count": 7,
     "metadata": {},
     "output_type": "execute_result"
    }
   ],
   "source": [
    "def remainder_solver_3var_v3(d1, m1, d2, m2, d3, m3):\n",
    "    ''' return x such that\n",
    "        x % d1 == m1\n",
    "        x % d2 == m2\n",
    "        x % d3 == m3\n",
    "    '''\n",
    "    dmax = max(d1, d2, d3)\n",
    "    if dmax == d3: # swap d2 and d3\n",
    "        d2, m2, d3, m3 = d3, m3, d2, m2\n",
    "\n",
    "    x1_2 = remainder_solver_2var_v3(d1, m1, d2, m2)\n",
    "    \n",
    "    return remainder_solver_2var_v3(d1*d2, x1_2, d3, m3)\n",
    "\n",
    "remainder_solver_3var_v3(3, 2, 5, 3, 7, 2)"
   ]
  },
  {
   "cell_type": "markdown",
   "id": "239bf5fe",
   "metadata": {},
   "source": [
    "## Performance test\n",
    "\n",
    "Let us switch to some large `d1, d2, d3` and see how well the algorithms do."
   ]
  },
  {
   "cell_type": "code",
   "execution_count": 8,
   "id": "8b68031a",
   "metadata": {},
   "outputs": [
    {
     "name": "stdout",
     "output_type": "stream",
     "text": [
      "228 ms ± 3.11 ms per loop (mean ± std. dev. of 7 runs, 1 loop each)\n"
     ]
    }
   ],
   "source": [
    "%timeit remainder_solver_3var(11, 2, 101, 3, 10001, 5)"
   ]
  },
  {
   "cell_type": "code",
   "execution_count": 9,
   "id": "02bc2117",
   "metadata": {},
   "outputs": [
    {
     "name": "stdout",
     "output_type": "stream",
     "text": [
      "24.4 µs ± 530 ns per loop (mean ± std. dev. of 7 runs, 10000 loops each)\n"
     ]
    }
   ],
   "source": [
    "%timeit remainder_solver_3var_v2(11, 2, 101, 3, 10001, 5)"
   ]
  },
  {
   "cell_type": "code",
   "execution_count": 10,
   "id": "9e6394e8",
   "metadata": {},
   "outputs": [
    {
     "name": "stdout",
     "output_type": "stream",
     "text": [
      "3.02 µs ± 192 ns per loop (mean ± std. dev. of 7 runs, 100000 loops each)\n"
     ]
    }
   ],
   "source": [
    "%timeit remainder_solver_3var_v3(11, 2, 101, 3, 10001, 5)"
   ]
  },
  {
   "cell_type": "markdown",
   "id": "6ac60373",
   "metadata": {},
   "source": [
    "Clearly `v3` is the fastest algorithm, about $10^5$ faster than the original"
   ]
  },
  {
   "cell_type": "markdown",
   "id": "1402ec57",
   "metadata": {},
   "source": [
    "## Performance test: a very hard problem"
   ]
  },
  {
   "cell_type": "code",
   "execution_count": 11,
   "id": "eb30d7cc",
   "metadata": {},
   "outputs": [
    {
     "data": {
      "text/plain": [
       "719681966"
      ]
     },
     "execution_count": 11,
     "metadata": {},
     "output_type": "execute_result"
    }
   ],
   "source": [
    "remainder_solver_3var(101, 2, 1001, 3, 10001, 5)"
   ]
  },
  {
   "cell_type": "code",
   "execution_count": 12,
   "id": "98460385",
   "metadata": {},
   "outputs": [
    {
     "data": {
      "text/plain": [
       "719681966"
      ]
     },
     "execution_count": 12,
     "metadata": {},
     "output_type": "execute_result"
    }
   ],
   "source": [
    "remainder_solver_3var_v2(101, 2, 1001, 3, 10001, 5)"
   ]
  },
  {
   "cell_type": "code",
   "execution_count": 13,
   "id": "5cbd30c2",
   "metadata": {},
   "outputs": [
    {
     "data": {
      "text/plain": [
       "719681966"
      ]
     },
     "execution_count": 13,
     "metadata": {},
     "output_type": "execute_result"
    }
   ],
   "source": [
    "remainder_solver_3var_v2(101, 2, 10001, 5, 1001, 3)"
   ]
  },
  {
   "cell_type": "markdown",
   "id": "311bbbfa",
   "metadata": {},
   "source": [
    "## 4-variable problem\n",
    "\n",
    "Homework"
   ]
  },
  {
   "cell_type": "code",
   "execution_count": null,
   "id": "55d21afb",
   "metadata": {},
   "outputs": [],
   "source": []
  }
 ],
 "metadata": {
  "kernelspec": {
   "display_name": "Python 3 (ipykernel)",
   "language": "python",
   "name": "python3"
  },
  "language_info": {
   "codemirror_mode": {
    "name": "ipython",
    "version": 3
   },
   "file_extension": ".py",
   "mimetype": "text/x-python",
   "name": "python",
   "nbconvert_exporter": "python",
   "pygments_lexer": "ipython3",
   "version": "3.9.7"
  }
 },
 "nbformat": 4,
 "nbformat_minor": 5
}
