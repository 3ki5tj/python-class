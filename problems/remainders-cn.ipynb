{
 "cells": [
  {
   "cell_type": "markdown",
   "id": "8303eb43",
   "metadata": {},
   "source": [
    "# 大衍求一术：从一道古老的数学题学编程算法\n",
    "\n",
    "精通编程的关键在于练习。而选择练习题也是有诀窍的。太小儿科的题目很快会让你感到没劲，题目太难就容易放弃。选择适当难度的题目会帮助你在巩固基础知识的同时也逐步培养算法设计的直觉和经验。所以我们经常会用一些有趣的数学问题来帮助我们学习编程。\n",
    "\n",
    "以下这道题关于同余方程题出自中国古代的算经，可以说代表了当时数学的最高成就。不过我们不需要知道太多里面的数学史；这里我们只是会把它当成一个 Python 编程的练习来做。\n",
    "我们会从中开发出一种高效的算法来解决这类问题。\n",
    "这个过程中，我们会抽象和泛化问题、设计和优化算法、推导和运用一些数学定理等等。\n",
    "虽然这些步骤听上去很吓人，但一步一步走下来你会发现其实并不太难。\n",
    "而且计算机会帮我们把复杂的运算做掉，我们只需要想办法让我们的程序跑得更快就行。\n",
    "\n",
    "希望你做完这题后会非常有成就感，因为你会发现你最终的算法在一些很难问题上比最初的版本快了不止上千倍！\n",
    "\n",
    "那我们就开始啦。\n",
    "\n",
    "我们今天的问题是这样的："
   ]
  },
  {
   "cell_type": "markdown",
   "id": "3ec27dd4",
   "metadata": {},
   "source": [
    "## 大衍求一术\n",
    "\n",
    "《孙子算经》中有“物不知数”的问题：\n",
    "\n",
    "    “今有物，不知其数，三三数之剩二，五五数之剩三，七七数之剩二，问物几何？”\n",
    "    \n",
    "### 翻译\n",
    "\n",
    "    有一个数 x，除以 3 余 2 ，除以 5 余 3 ，除以 7 余 2 ，请问 x 是多少？\n",
    "\n",
    "这类问题叫**同余方程**。它的解法被总结成**中国剩余定理**。不过我们不需要知道那么多，我们可以用编程的方法从头给出一个解法。\n",
    "\n",
    "关于这个问题的渊源，我们可以参考百度百科：\n",
    "\n",
    "https://baike.baidu.com/item/%E5%A4%A7%E8%A1%8D%E6%B1%82%E4%B8%80%E6%9C%AF/5523066"
   ]
  },
  {
   "cell_type": "markdown",
   "id": "5478bb88",
   "metadata": {},
   "source": [
    "##  枚举法暴力破解\n",
    "\n",
    "我们可以用枚举法来暴力破解这个问题"
   ]
  },
  {
   "cell_type": "code",
   "execution_count": 6,
   "id": "0727c63d",
   "metadata": {},
   "outputs": [
    {
     "name": "stdout",
     "output_type": "stream",
     "text": [
      "x = 23\n"
     ]
    }
   ],
   "source": [
    "for x in range(200):\n",
    "    if (x % 3 == 2) and (x % 5 == 3) and (x % 7 == 2):\n",
    "        print(\"x =\", x)\n",
    "        break"
   ]
  },
  {
   "cell_type": "markdown",
   "id": "2627189b",
   "metadata": {},
   "source": [
    "## 推广一下问题\n",
    "\n",
    "我们要找到这样一个 `x` 使得\n",
    "* 它除以 `d1` 的余数是 `m1`，即 `x % d1 == m1`  (原题中，除数 `d1 == 3`, 余数 `m1 == 2`)\n",
    "* 它除以 `d2` 的余数是 `m2`，即 `x % d2 == m2`  (原题中，除数 `d2 == 5`, 余数 `m2 == 3`)\n",
    "* 它除以 `d3` 的余数是 `m3`，即 `x % d3 == m3`  (原题中，除数 `d3 == 7`, 余数 `m3 == 2`)\n",
    "\n",
    "推广后，我们可以把我们的算法写成一个函数。"
   ]
  },
  {
   "cell_type": "code",
   "execution_count": 10,
   "id": "2122312b",
   "metadata": {},
   "outputs": [
    {
     "data": {
      "text/plain": [
       "23"
      ]
     },
     "execution_count": 10,
     "metadata": {},
     "output_type": "execute_result"
    }
   ],
   "source": [
    "def remainder_solver_brute_force(d1, m1, d2, m2, d3, m3):\n",
    "    for x in range(200):\n",
    "        if (x % d1 == m1) and (x % d2 == m2) and (x % d3 == m3):\n",
    "            return x # 找到了\n",
    "\n",
    "    return None # 无解\n",
    "\n",
    "remainder_solver_brute_force(3, 2, 5, 3, 7, 2)"
   ]
  },
  {
   "cell_type": "markdown",
   "id": "dc3c55f6",
   "metadata": {},
   "source": [
    "## 更难的问题\n",
    "\n",
    "好，让我们试着把这个程序用在大一点除数和余数上。比如我们要解的问题是\n",
    "\n",
    "* `d1 == 101`, `m1 == 2`\n",
    "* `d2 == 1001`, `m2 == 3`\n",
    "* `d3 == 10001`, `m3 == 5`\n",
    "\n",
    "试试结果会怎样呢？"
   ]
  },
  {
   "cell_type": "code",
   "execution_count": 5,
   "id": "6586740e",
   "metadata": {},
   "outputs": [
    {
     "name": "stdout",
     "output_type": "stream",
     "text": [
      "None\n"
     ]
    }
   ],
   "source": [
    "x = remainder_solver_brute_force(101, 2, 1001, 3, 10001, 5)\n",
    "print(x)"
   ]
  },
  {
   "cell_type": "markdown",
   "id": "54894a02",
   "metadata": {},
   "source": [
    "居然无解。那问题出在哪里呢？\n",
    "\n",
    "## 枚举的数量\n",
    "\n",
    "原因是我们第二行那里 `for x in range(200)` 里的 200 数值太小了。其实换成 1000 或 10000 也是不够的。一般来说，我们要找到这三个除数 `d1, d2, d3` 的最小公倍数 `lcm(d1, d2, d3)` 才行。如果最小公倍数不好算，没关系，我们可以用三个除数的乘积来代替（三个除数两两互质的情形）。\n",
    "\n",
    "在原题里，除数 3、5、7 的最小公倍数是 105，所以 200 没问题。而在后来那个难题里，101、1001、10001 的最小公倍数则是 $101 \\times 1001 \\times 10001 \\approx 10^9$，自然 200 远远不够了。\n",
    "\n",
    "不过好在呢，我们可以证明，如果**最多**只需要搜索最小公倍数个 $x$ 就够了。我们可以证明这个结论：\n",
    "\n",
    "    如果 `x` 是一个解，`y = x + lcm(d1, d2, d3)` 也是解。\n",
    "\n",
    "原因很简单，`d1` 可以整除 `lcm(d1, d2, d3)`，所以 `x`, `y` 自然对于 `d1` 是同余的。（`d2`, `d3` 也是一样）。\n",
    "\n",
    "这个结论很有用，它是说我们不需要枚举超过 `lcm(d1, d2, d3)` 的数字 `x`，因为对这种数字，它和 `x' = x - lcm(d1, d2, d3)` 是一样的，而 `x'` 我们之前已经枚举过（假定我们是从小到大枚举 `x` 的话）。 \n",
    "\n",
    "所以，有了这个结论，我们就可以放心大胆地写出一个通用的程序。"
   ]
  },
  {
   "cell_type": "code",
   "execution_count": 6,
   "id": "03eb36ea",
   "metadata": {},
   "outputs": [
    {
     "data": {
      "text/plain": [
       "23"
      ]
     },
     "execution_count": 6,
     "metadata": {},
     "output_type": "execute_result"
    }
   ],
   "source": [
    "def remainder_solver_3var(d1, m1, d2, m2, d3, m3):\n",
    "    ''' return x such that\n",
    "        x % d1 == m1\n",
    "        x % d2 == m2\n",
    "        x % d3 == m3\n",
    "    '''\n",
    "    \n",
    "    for x in range(d1*d2*d3):\n",
    "        if (x % d1 == m1) and (x % d2 == m2) and (x % d3 == m3):\n",
    "            return x\n",
    "    return None\n",
    "\n",
    "remainder_solver_3var(3, 2, 5, 3, 7, 2)"
   ]
  },
  {
   "cell_type": "markdown",
   "id": "30269b7d",
   "metadata": {},
   "source": [
    "**大功告成！**"
   ]
  },
  {
   "cell_type": "markdown",
   "id": "770e935c",
   "metadata": {},
   "source": [
    "别急，对于大的除数，我们发现这个程序非常慢。"
   ]
  },
  {
   "cell_type": "code",
   "execution_count": 18,
   "id": "79e5bbf3",
   "metadata": {},
   "outputs": [
    {
     "data": {
      "text/plain": [
       "719681966"
      ]
     },
     "execution_count": 18,
     "metadata": {},
     "output_type": "execute_result"
    }
   ],
   "source": [
    "remainder_solver_3var(101, 2, 1001, 3, 10001, 5)"
   ]
  },
  {
   "cell_type": "markdown",
   "id": "a114fd1b",
   "metadata": {},
   "source": [
    "在我的机器上，它跑了大概20秒。\n",
    "\n",
    "如果余数是随机的，可以估计我们平均下来我们要计算大概 `d1*d2*d3/2` 次才能算出正确结果，所以如果 `d1`、`d2`、`d3` 一大，程序就慢了。\n",
    "下面我们着手来优化这个算法。\n",
    "\n",
    "首先我们来考虑一些简单点的问题。以求得到一些启发。"
   ]
  },
  {
   "cell_type": "markdown",
   "id": "1d76b71d",
   "metadata": {},
   "source": [
    "## 单余数的问题\n",
    "\n",
    "首先我们考虑一个除数的问题：\n",
    "\n",
    "    找到 `x` 使得 `x` 除以 `d1` 的余数是 `m1`，即 `x % d1 == m1`.\n",
    "\n",
    "结果很简单，就是 `x == m1`。\n",
    "\n",
    "但是注意到，我们这里一下子就把答案说出来了，**没有**用刚才那个循环。如果把那个循环写出来，是这样子的："
   ]
  },
  {
   "cell_type": "code",
   "execution_count": 4,
   "id": "b39f6eb4",
   "metadata": {},
   "outputs": [],
   "source": [
    "def remainder_solver_1var(d1, m1):\n",
    "    ''' return x such that\n",
    "        x % d1 == m1\n",
    "    '''\n",
    "    \n",
    "    for x in range(d1):\n",
    "        if x % d1 == m1:\n",
    "            return x\n",
    "    return None\n",
    "\n",
    "remainder_solver_1var(1, 2)"
   ]
  },
  {
   "cell_type": "markdown",
   "id": "8cd2a6eb",
   "metadata": {},
   "source": [
    "如果假定 m1 在0.. d1-1 之间均匀分布，这个循环平均来说要花大概 `d1/2` 此运算，比我们一下说出结果要费事很多。\n",
    "\n",
    "这说明在一个余数的情况下，我们可以大幅优化机械循环的算法。\n",
    "\n",
    "那么能否把这个思路推广到二余数和三余数的问题上呢？"
   ]
  },
  {
   "cell_type": "markdown",
   "id": "bbf874e5",
   "metadata": {},
   "source": [
    "## 二余数的问题\n",
    "\n",
    "    找到 `x` 使得 `x` 除以 `d1` 的余数是 `m1`，除以 `d2` 的余数是 `m2`\n",
    "    \n",
    "作为一个初始算法，我们先把三余数的算法搬过来。把 `d3` 和 `m3` 的部分删去就是了。"
   ]
  },
  {
   "cell_type": "code",
   "execution_count": 3,
   "id": "5eeca07f",
   "metadata": {},
   "outputs": [
    {
     "data": {
      "text/plain": [
       "8"
      ]
     },
     "execution_count": 3,
     "metadata": {},
     "output_type": "execute_result"
    }
   ],
   "source": [
    "def remainder_solver_2var(d1, m1, d2, m2):\n",
    "    ''' return x such that\n",
    "        x % d1 == m1\n",
    "        x % d2 == m2\n",
    "    '''\n",
    "    \n",
    "    for x in range(d1*d2):\n",
    "        if (x % d1 == m1) and (x % d2 == m2):\n",
    "            return x\n",
    "    return -1\n",
    "\n",
    "remainder_solver_2var(3, 2, 5, 3)"
   ]
  },
  {
   "cell_type": "markdown",
   "id": "9a97d94f",
   "metadata": {},
   "source": [
    "### 改进二余数问题的算法\n",
    "\n",
    "这个算法在现在平均要走 `d1*d2/2` 次才能找到正确答案。\n",
    "\n",
    "我们现在来想想怎么改进它。我们要同时满足两个方程\n",
    "\n",
    " * `x % d1 == m1`\n",
    " * `x % d2 == m2`\n",
    "\n",
    "第一个方程的解就是单余数方程的解，这些解是有公式的：就是\n",
    "\n",
    "   `x = m1 + d1*p`，其中 `p = 0, 1, 2, ...` \n",
    "\n",
    "如果我们从这些解中筛选第二个方程的解，就会比从全部整数中筛选要有效。\n",
    "\n",
    "具体说，\n",
    "\n",
    " 0. 我们可以从 `x = m1` 开始试， 因为它肯定满足第一个方程 `x % d1 == m1`，\n",
    "我们只要测试它是否满足第二个方程 `x % d2 == m2` 。\n",
    "\n",
    " 1. 试完之后，我们可以试 `x = m1 + d1`，因为它也满足第一个方程 `x % d1 == m1`，\n",
    "\n",
    " 2. 再下来，我们可以试 `x = m1 + d1*2`，\n",
    "\n",
    " 3. 再下来，`x = m1 + d1*3`，\n",
    "\n",
    " 4. ……\n",
    "\n",
    "这种试法有两个好处：\n",
    "\n",
    " * 需要试的数字少，每次跳 `d1` 个数字\n",
    " * 试的时候，循环内部只需要测试一个条件，就是第二个方程 `x % d2 == m2` 是否满足。第一个方程满足与否在构造这个算法时我们已经能保证了。\n",
    "\n",
    "这种做法实际上是**先构造第一个方程的解的集合，然后从中挑一个第二个方程的解**。\n",
    "\n",
    "让我们把这个改进版写下来："
   ]
  },
  {
   "cell_type": "code",
   "execution_count": 8,
   "id": "30dddcc6",
   "metadata": {},
   "outputs": [
    {
     "data": {
      "text/plain": [
       "8"
      ]
     },
     "execution_count": 8,
     "metadata": {},
     "output_type": "execute_result"
    }
   ],
   "source": [
    "def remainder_solver_2var_v2(d1, m1, d2, m2):\n",
    "    ''' return x such that\n",
    "        x % d1 == m1\n",
    "        x % d2 == m2\n",
    "    '''\n",
    "    \n",
    "    for x in range(m1, d1*d2, d1):\n",
    "        if x % d2 == m2:\n",
    "            return x\n",
    "    return None\n",
    "\n",
    "remainder_solver_2var_v2(3, 2, 5, 3)"
   ]
  },
  {
   "cell_type": "markdown",
   "id": "6422b8ba",
   "metadata": {},
   "source": [
    "注意第7行里，`range(m1, d1*d2, d1)` 从 `m1` 开始，每次递进 `d1`\n",
    "\n",
    "所以这个循环最多跑 `d1*d2/d1 = d2` 次，平均一下的话是跑 `d2/2` 次，比起未优化的 `d1*d2/2` 次可好多了。"
   ]
  },
  {
   "cell_type": "markdown",
   "id": "32e501b9",
   "metadata": {},
   "source": [
    "### 二余数问题的进一步改进\n",
    "\n",
    "其实我们对这个算法还可以改进一下。\n",
    "如果 `d1` 比 `d2` 小的话，我们可以把 `(d1, m1)` 和 `(d2, m2)` 互换一下，这样这个循环就只需要跑 `d1/2` 次了。"
   ]
  },
  {
   "cell_type": "code",
   "execution_count": 9,
   "id": "d57cf63d",
   "metadata": {},
   "outputs": [
    {
     "data": {
      "text/plain": [
       "8"
      ]
     },
     "execution_count": 9,
     "metadata": {},
     "output_type": "execute_result"
    }
   ],
   "source": [
    "def remainder_solver_2var_v3(d1, m1, d2, m2):\n",
    "    ''' return x such that\n",
    "        x % d1 == m1\n",
    "        x % d2 == m2\n",
    "    '''\n",
    "    \n",
    "    if d1 < d2: # swap (d1, m1) and (d2, m2)\n",
    "        d1, m1, d2, m2 = d2, m2, d1, m1\n",
    "    \n",
    "    for x in range(m1, d1*d2, d1):\n",
    "        if x % d2 == m2:\n",
    "            return x\n",
    "    return None\n",
    "\n",
    "remainder_solver_2var_v3(3, 2, 5, 3)"
   ]
  },
  {
   "cell_type": "markdown",
   "id": "1c108cfc",
   "metadata": {},
   "source": [
    "## 三余数问题\n",
    "\n",
    "我们终于可以回来解决三余数问题了。\n",
    "\n",
    "回顾一下解二余数问题时，我们是先把第一个方程的所有解用公式写出来，然后循环这些解，从中挑一个第二个方程的解。\n",
    "\n",
    "那么我们现在也可以依样画葫芦，**先把所有前两个方程的解给列出来，然后从中筛选哪个是满足第三个方程的。**"
   ]
  },
  {
   "cell_type": "markdown",
   "id": "05dcb6c3",
   "metadata": {},
   "source": [
    "好，现在让我们把具体步骤梳理一下。假定我们已经解出了前两个方程的解，也就是 `x % d1 == m1` 和 `x % d2 == m2` 的解，假定这个解是`x1_2`，那么**所有**前两个方程的解就是\n",
    "\n",
    " 0. `x1_2`\n",
    " 1. `x1_2 + d1*d2`\n",
    " 2. `x1_2 + d1*d2*2`\n",
    " 3. `x1_2 + d1*d2*3`\n",
    " 4. `……`\n",
    "\n",
    "这些解满足这个新的方程\n",
    "\n",
    " * `x % (d1*d2) == x1_2`\n",
    "    \n",
    "这样三余数问题也可以被归结为解以下两个方程：\n",
    "\n",
    " * `x % (d1*d2) == x1_2`\n",
    " * `x % d3 == m3`\n",
    "    \n",
    "而这个问题又是一个二余数问题。所以又可以套用我们对二余数问题的解！（给自己一点时间，想想是不是这么回事）\n",
    "\n",
    "#### 小结\n",
    "\n",
    "所以，三余数问题可以被阶段性地分为两个二余数问题\n",
    "\n",
    " * 求 `(d1, m1)` 和 `(d2, m2)` 的解 `(d1*d2, x1_2)`\n",
    " * 求 `(d1*d2, x1_2)` 和 `(d3, m3)` 的解\n",
    " \n",
    "所以我们就有了以下这个算法"
   ]
  },
  {
   "cell_type": "code",
   "execution_count": 14,
   "id": "58ebc98f",
   "metadata": {},
   "outputs": [
    {
     "data": {
      "text/plain": [
       "23"
      ]
     },
     "execution_count": 14,
     "metadata": {},
     "output_type": "execute_result"
    }
   ],
   "source": [
    "def remainder_solver_3var_v2(d1, m1, d2, m2, d3, m3):\n",
    "    ''' return x such that\n",
    "        x % d1 == m1\n",
    "        x % d2 == m2\n",
    "        x % d3 == m3\n",
    "    '''\n",
    "    \n",
    "    x1_2 = remainder_solver_2var_v3(d1, m1, d2, m2)\n",
    "    \n",
    "    return remainder_solver_2var_v3(d1*d2, x1_2, d3, m3)\n",
    "\n",
    "remainder_solver_3var_v2(3, 2, 5, 3, 7, 2)"
   ]
  },
  {
   "cell_type": "markdown",
   "id": "5b7d1d95",
   "metadata": {},
   "source": [
    "### 复杂度\n",
    "\n",
    "让我们来计算一下这个算法需要循环多少步。\n",
    "\n",
    "* 对于第一个子问题：\n",
    "\n",
    "    `(d1, m1)` 和 `(d2, m2)` 的解\n",
    "\n",
    "它平均要循环 `min(d1, d2)/2` 步。\n",
    "\n",
    "* 对于第二个子问题：\n",
    "\n",
    "    `(d1*d2, x1_2)` 和 `(d3, m3)` 的解\n",
    "\n",
    "它平均要走 `min(d1*d2, d3)/2` 步，假定 `d3` 比 `d1*d2` 小，那么就是 `d3/2` 步。\n",
    "\n",
    "总共的平均步数就是 `min(d1, d2)/2 + d3/2`。"
   ]
  },
  {
   "cell_type": "markdown",
   "id": "360caf4c",
   "metadata": {},
   "source": [
    "### 又一改进\n",
    "\n",
    "这里又有一个优化的机会。\n",
    "\n",
    "如果我们 `d3` 是三个除数里最大的那个，那么我们可以把它和 `d1` 或 `d2` 交换。\n",
    "这样算法的平均循环步数就会被降到 `(d1 + d2)/2`。\n",
    "\n",
    "这样我们就有一个新版本。"
   ]
  },
  {
   "cell_type": "code",
   "execution_count": 15,
   "id": "cb36ef18",
   "metadata": {},
   "outputs": [
    {
     "data": {
      "text/plain": [
       "23"
      ]
     },
     "execution_count": 15,
     "metadata": {},
     "output_type": "execute_result"
    }
   ],
   "source": [
    "def remainder_solver_3var_v3(d1, m1, d2, m2, d3, m3):\n",
    "    ''' return x such that\n",
    "        x % d1 == m1\n",
    "        x % d2 == m2\n",
    "        x % d3 == m3\n",
    "    '''\n",
    "    dmax = max(d1, d2, d3)\n",
    "    if dmax == d3: # swap d2 and d3\n",
    "        d2, m2, d3, m3 = d3, m3, d2, m2\n",
    "\n",
    "    x1_2 = remainder_solver_2var_v3(d1, m1, d2, m2)\n",
    "    \n",
    "    return remainder_solver_2var_v3(d1*d2, x1_2, d3, m3)\n",
    "\n",
    "remainder_solver_3var_v3(3, 2, 5, 3, 7, 2)"
   ]
  },
  {
   "cell_type": "markdown",
   "id": "239bf5fe",
   "metadata": {},
   "source": [
    "## 速度测试\n",
    "\n",
    "我们来测试一组比较大的 `d1, d2, d3` （不是一开头那个难问题）\n",
    " * `d1 == 11, m1 == 2`\n",
    " * `d2 == l01, m2 == 3`\n",
    " * `d3 == 10001, m3 == 5`"
   ]
  },
  {
   "cell_type": "code",
   "execution_count": 16,
   "id": "8b68031a",
   "metadata": {},
   "outputs": [
    {
     "name": "stdout",
     "output_type": "stream",
     "text": [
      "963 ms ± 17.8 ms per loop (mean ± std. dev. of 7 runs, 1 loop each)\n"
     ]
    }
   ],
   "source": [
    "# 未优化\n",
    "%timeit remainder_solver_3var(11, 2, 101, 3, 10001, 5)"
   ]
  },
  {
   "cell_type": "code",
   "execution_count": 17,
   "id": "02bc2117",
   "metadata": {},
   "outputs": [
    {
     "name": "stdout",
     "output_type": "stream",
     "text": [
      "102 µs ± 4.74 µs per loop (mean ± std. dev. of 7 runs, 10000 loops each)\n"
     ]
    }
   ],
   "source": [
    "# 版本2\n",
    "%timeit remainder_solver_3var_v2(11, 2, 101, 3, 10001, 5)"
   ]
  },
  {
   "cell_type": "code",
   "execution_count": 18,
   "id": "9e6394e8",
   "metadata": {},
   "outputs": [
    {
     "name": "stdout",
     "output_type": "stream",
     "text": [
      "11.6 µs ± 790 ns per loop (mean ± std. dev. of 7 runs, 100000 loops each)\n"
     ]
    }
   ],
   "source": [
    "# 版本3\n",
    "%timeit remainder_solver_3var_v3(11, 2, 101, 3, 10001, 5)"
   ]
  },
  {
   "cell_type": "markdown",
   "id": "6ac60373",
   "metadata": {},
   "source": [
    "这里是以此运行的结果\n",
    "\n",
    "版本   | 速度\n",
    "------|------------------\n",
    "未优化 | 963 ms ± 17.8 ms\n",
    "版本2 v2 | 102 µs ± 4.74 µs\n",
    "版本3 v3 | 11.6 µs ± 790 ns\n",
    "\n",
    "我们不要只看数字，看一下单位，未优化的版本是 ms 量级的，版本2和3是 µs 量级的，本身差了三个量级！\n",
    "所以版本3 `v3` 是最快的，而且在这个问题上要比未优化的问题快了近 $10^5$ 倍。"
   ]
  },
  {
   "cell_type": "markdown",
   "id": "1402ec57",
   "metadata": {},
   "source": [
    "### 那个最难的问题\n",
    "\n",
    "让我们回到一开头那个最难的问题："
   ]
  },
  {
   "cell_type": "code",
   "execution_count": 11,
   "id": "eb30d7cc",
   "metadata": {},
   "outputs": [
    {
     "data": {
      "text/plain": [
       "719681966"
      ]
     },
     "execution_count": 11,
     "metadata": {},
     "output_type": "execute_result"
    }
   ],
   "source": [
    "# 未优化\n",
    "remainder_solver_3var(101, 2, 1001, 3, 10001, 5)"
   ]
  },
  {
   "cell_type": "code",
   "execution_count": 20,
   "id": "98460385",
   "metadata": {},
   "outputs": [
    {
     "data": {
      "text/plain": [
       "719681966"
      ]
     },
     "execution_count": 20,
     "metadata": {},
     "output_type": "execute_result"
    }
   ],
   "source": [
    "# 版本2\n",
    "remainder_solver_3var_v2(101, 2, 1001, 3, 10001, 5)"
   ]
  },
  {
   "cell_type": "code",
   "execution_count": 19,
   "id": "5cbd30c2",
   "metadata": {},
   "outputs": [
    {
     "data": {
      "text/plain": [
       "719681966"
      ]
     },
     "execution_count": 19,
     "metadata": {},
     "output_type": "execute_result"
    }
   ],
   "source": [
    "# 版本3\n",
    "remainder_solver_3var_v2(101, 2, 10001, 5, 1001, 3)"
   ]
  },
  {
   "cell_type": "markdown",
   "id": "89be4c7f",
   "metadata": {},
   "source": [
    "最后两个版本瞬间出结果，但未优化版本用了20秒。"
   ]
  },
  {
   "cell_type": "markdown",
   "id": "311bbbfa",
   "metadata": {},
   "source": [
    "## 总结\n",
    "\n",
    "我们这个例子里可以看到一些简单的优化可以让一个程序快几个数量级。所以我们可以理解为什么许多计算机学家对设计算法痴迷。\n",
    "\n",
    "当然我们的例子里还有很多可以改进的地方，比如我们都是用乘积来代替最小公倍数等。\n",
    "\n",
    "作为一个练习，可以思考一下如何用这个算法解决四余数问题和 $n$ 余数的问题。\n",
    "\n",
    "研究计算机算法是一件非常烧脑又非常令人着迷的事，通过做题也会使你的编程和算法水平迅速提高。\n",
    "\n",
    "如果你对类似的问题感兴趣，可以在以下网站找到更多的练习和学习资源：\n",
    "\n",
    " * 力扣 （编程题为主）\n",
    " https://leetcode-cn.com/problemset/all/\n",
    " \n",
    " 做题时可以从难度较低和通过率较高的题目开始。\n",
    " 如果做不出，也没关系，每道题的 “题解” 和 “评论” 页面里有很多有用的信息和别人的代码可以参考学习。\n",
    "\n",
    " \n",
    " * Project Euler （数学题为主）\n",
    " https://projecteuler.net/archives\n",
    " \n",
    " \n",
    " 祝大家学习愉快！"
   ]
  },
  {
   "cell_type": "code",
   "execution_count": null,
   "id": "f9561081",
   "metadata": {},
   "outputs": [],
   "source": []
  }
 ],
 "metadata": {
  "kernelspec": {
   "display_name": "Python 3 (ipykernel)",
   "language": "python",
   "name": "python3"
  },
  "language_info": {
   "codemirror_mode": {
    "name": "ipython",
    "version": 3
   },
   "file_extension": ".py",
   "mimetype": "text/x-python",
   "name": "python",
   "nbconvert_exporter": "python",
   "pygments_lexer": "ipython3",
   "version": "3.9.7"
  }
 },
 "nbformat": 4,
 "nbformat_minor": 5
}
