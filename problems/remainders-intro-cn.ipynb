{
 "cells": [
  {
   "cell_type": "markdown",
   "id": "42229e2b",
   "metadata": {},
   "source": [
    "## 预习：大衍求一术：从一道古老的数学题学编程算法\n",
    "\n",
    "我们这里将通过一个例子来学习如何**设计和改进算法**。相信大家都听说过许多程序员对“算法”和“优化”这类字眼如痴如醉。那么为什么算法这么有吸引力呢？相信做完这道题你也会一些类似的感觉。\n",
    "\n",
    "这道题关于同余方程题出自中国古代的算经，可以说代表了当时数学的最高成就。不过我们不需要知道太多里面的数学史；这里我们只是会把它当成一个 Python 编程的练习来做。我们会从中开发出一种高效的算法来解决这类问题。\n",
    "\n",
    "不过在此之前，希望大家抽空思考一下这道题的解法，以及如何让你的程序跑得更快。\n",
    "\n",
    "好了，题目来了。"
   ]
  },
  {
   "cell_type": "markdown",
   "id": "24498ed2",
   "metadata": {},
   "source": [
    "## 大衍求一术\n",
    "\n",
    "《孙子算经》中有“物不知数”的问题：\n",
    "\n",
    "    “今有物，不知其数，三三数之剩二，五五数之剩三，七七数之剩二，问物几何？”\n",
    "\n",
    "关于这个问题的渊源，可以参考百度百科：\n",
    "\n",
    "https://baike.baidu.com/item/%E5%A4%A7%E8%A1%8D%E6%B1%82%E4%B8%80%E6%9C%AF/5523066\n",
    "\n",
    "### 翻译\n",
    "\n",
    "    有一个数 x，除以 3 余 2 ，除以 5 余 3 ，除以 7 余 2 ，请问 x 是多少？\n",
    "\n",
    "当然我们这里是用编程来解决这个问题。"
   ]
  },
  {
   "cell_type": "code",
   "execution_count": 21,
   "id": "c5432c3c",
   "metadata": {},
   "outputs": [
    {
     "name": "stdout",
     "output_type": "stream",
     "text": [
      "23\n"
     ]
    }
   ],
   "source": [
    "for x in range(200):\n",
    "    # I want to write code\n",
    "    #print(\"for step started\", x)\n",
    "    if (x % 3 == 2):\n",
    "        if (x % 5 == 3):\n",
    "            if (x % 7 == 2):\n",
    "                print(x)\n",
    "                break\n",
    "    #print(\"for step ended\", x)"
   ]
  },
  {
   "cell_type": "code",
   "execution_count": 30,
   "id": "b1935aab",
   "metadata": {},
   "outputs": [
    {
     "data": {
      "text/plain": [
       "105"
      ]
     },
     "execution_count": 30,
     "metadata": {},
     "output_type": "execute_result"
    }
   ],
   "source": [
    "3*5*7"
   ]
  },
  {
   "cell_type": "markdown",
   "id": "de88cb65",
   "metadata": {},
   "source": [
    "### 推广\n",
    "\n",
    "如果你的程序解决了这个问题，请写一个函数来解决它推广的问题。\n",
    "已知 `x`，\n",
    " * 它除以 `d1` 的余数是 `m1`，\n",
    " * 它除以 `d2` 的余数是 `m2`，\n",
    " * 它除以 `d3` 的余数是 `m3`，\n",
    "函数要求返回 `x` 的值。\n",
    "\n",
    "你需要写的函数长这个样子：\n",
    "\n",
    "```\n",
    "def remainder_solver(d1, m1, d2, m2, d3, m3):\n",
    "    x = ...\n",
    "    return x\n",
    "```"
   ]
  },
  {
   "cell_type": "code",
   "execution_count": 27,
   "id": "e4fe67ac",
   "metadata": {},
   "outputs": [
    {
     "name": "stdout",
     "output_type": "stream",
     "text": [
      "23\n"
     ]
    }
   ],
   "source": [
    "def remainder_solver(d1, m1, d2, m2, d3, m3):\n",
    "    for x in range(d1*d2*d3):\n",
    "        if (x % d1 == m1) and (x % d2 == m2) and (x % d3 == m3):\n",
    "            return x\n",
    "    return None\n",
    "\n",
    "x = remainder_solver(3, 2, 5, 3, 7, 2)\n",
    "print(x)"
   ]
  },
  {
   "cell_type": "markdown",
   "id": "8db4a029",
   "metadata": {},
   "source": [
    "如果 `x` 是一个解，那么 `x + d1*d2*d3` 也是一个解"
   ]
  },
  {
   "cell_type": "markdown",
   "id": "de04bbec",
   "metadata": {},
   "source": [
    "### 优化\n",
    "\n",
    "如果你完成了前两步，最后一步就是优化算法。\n",
    "\n",
    "如果给输入的除数很大，你的函数是否还能很快得出结果呢？\n",
    "\n",
    "请试试这个例子\n",
    "\n",
    " * `d1 == 101, m1 == 2`\n",
    " * `d2 == 1001, m2 == 3`\n",
    " * `d3 == 10001, m3 == 5`\n",
    " \n",
    "调用一下你刚写的函数，看看是否能在1秒钟内跑出结果？\n",
    "\n",
    "```\n",
    "x = remainder_solver(101, 2, 1001, 3, 10001, 5)\n",
    "print(x)\n",
    "```"
   ]
  },
  {
   "cell_type": "code",
   "execution_count": 34,
   "id": "972a2537",
   "metadata": {},
   "outputs": [
    {
     "data": {
      "text/plain": [
       "1000000000"
      ]
     },
     "execution_count": 34,
     "metadata": {},
     "output_type": "execute_result"
    }
   ],
   "source": [
    "101*1001*10001/1e9\n",
    "\n",
    "1*10**9"
   ]
  },
  {
   "cell_type": "code",
   "execution_count": 28,
   "id": "764ee7c4",
   "metadata": {
    "scrolled": true
   },
   "outputs": [
    {
     "name": "stdout",
     "output_type": "stream",
     "text": [
      "719681966\n"
     ]
    }
   ],
   "source": [
    "x = remainder_solver(101, 2, 1001, 3, 10001, 5)\n",
    "print(x)"
   ]
  },
  {
   "cell_type": "code",
   "execution_count": null,
   "id": "619c6126",
   "metadata": {},
   "outputs": [],
   "source": [
    "719681966"
   ]
  },
  {
   "cell_type": "code",
   "execution_count": 29,
   "id": "884ba8ef",
   "metadata": {},
   "outputs": [
    {
     "name": "stdout",
     "output_type": "stream",
     "text": [
      "2 3 5\n"
     ]
    }
   ],
   "source": [
    "print(x%101, x%1001, x%10001)"
   ]
  },
  {
   "cell_type": "code",
   "execution_count": 19,
   "id": "4ab96fea",
   "metadata": {},
   "outputs": [
    {
     "name": "stdout",
     "output_type": "stream",
     "text": [
      "2 1\n"
     ]
    }
   ],
   "source": [
    "x = 10\n",
    "x, y = 1, 2\n",
    "x, y = y, x\n",
    "print(x, y)"
   ]
  },
  {
   "cell_type": "code",
   "execution_count": null,
   "id": "01409cfd",
   "metadata": {},
   "outputs": [],
   "source": [
    "def remainder_solver(d1, m1, d2, m2, d3, m3):\n",
    "    for x in range(d1*d2*d3):\n",
    "        if (x % d1 == m1) and (x % d2 == m2) and (x % d3 == m3):\n",
    "            return x\n",
    "    return None\n",
    "\n",
    "x = remainder_solver(3, 2, 5, 3, 7, 2)\n",
    "print(x)"
   ]
  },
  {
   "cell_type": "markdown",
   "id": "b2bf1fdc",
   "metadata": {},
   "source": [
    " * `d1 == 101, m1 == 2`\n",
    " * `d2 == 1001, m2 == 3`"
   ]
  },
  {
   "cell_type": "markdown",
   "id": "4fea06e7",
   "metadata": {},
   "source": [
    "列出第一个条件的所有解，去看它们中哪个是满足第二个条件的\n",
    "\n",
    "* 2\n",
    "* 2 + 101\n",
    "* 2 + 101*2\n",
    "* 2 + 101*3\n",
    "* ...\n",
    "\n"
   ]
  },
  {
   "cell_type": "code",
   "execution_count": 47,
   "id": "43f2c2a8",
   "metadata": {},
   "outputs": [
    {
     "name": "stdout",
     "output_type": "stream",
     "text": [
      "45048\n"
     ]
    }
   ],
   "source": [
    "for x in range(2, 101*1001, 101):\n",
    "    if x % 1001 == 3:\n",
    "        print(x)\n",
    "        break"
   ]
  },
  {
   "cell_type": "code",
   "execution_count": 56,
   "id": "a4e41c94",
   "metadata": {},
   "outputs": [
    {
     "name": "stdout",
     "output_type": "stream",
     "text": [
      "45048\n"
     ]
    }
   ],
   "source": [
    "def remainder_solver_2var(d1, m1, d2, m2):\n",
    "    if d1 < d2:\n",
    "        d1, m1, d2, m2 = d2, m2, d1, m1\n",
    "        \n",
    "    for x in range(m1, d1*d2, d1):\n",
    "        if x % d2 == m2:\n",
    "            return x\n",
    "       \n",
    "x = remainder_solver_2var(101, 2, 1001, 3)\n",
    "print(x)"
   ]
  },
  {
   "cell_type": "markdown",
   "id": "86d0dbd4",
   "metadata": {},
   "source": [
    " * `d1 == 3, m1 == 2`\n",
    " * `d2 == 5, m2 == 3`\n",
    " * `d3 == 7, m3 == 2`"
   ]
  },
  {
   "cell_type": "markdown",
   "id": "6711a937",
   "metadata": {},
   "source": [
    "有一个数 x，除以 3 余 2 ，除以 5 余 3 ，除以 7 余 2 ，请问 x 是多少？"
   ]
  },
  {
   "cell_type": "code",
   "execution_count": 49,
   "id": "21a47119",
   "metadata": {},
   "outputs": [
    {
     "data": {
      "text/plain": [
       "8"
      ]
     },
     "execution_count": 49,
     "metadata": {},
     "output_type": "execute_result"
    }
   ],
   "source": [
    "remainder_solver_2var(3, 2, 5, 3)"
   ]
  },
  {
   "cell_type": "markdown",
   "id": "032b60c5",
   "metadata": {},
   "source": [
    " * 8\n",
    " * 8 + 15\n",
    " * 8 + 15*2\n",
    " * 8 + 15*3\n",
    " * 8 + 15*4\n",
    " * ...\n"
   ]
  },
  {
   "cell_type": "markdown",
   "id": "1f8b3ae2",
   "metadata": {},
   "source": [
    "d1_2 == 15, m1_2 == 8 "
   ]
  },
  {
   "cell_type": "markdown",
   "id": "cac0565a",
   "metadata": {},
   "source": [
    " * `d1_2 == 15, m1_2 == 8`\n",
    " * `d3 == 7, m3 == 2`"
   ]
  },
  {
   "cell_type": "code",
   "execution_count": 52,
   "id": "95fc1caa",
   "metadata": {},
   "outputs": [
    {
     "data": {
      "text/plain": [
       "23"
      ]
     },
     "execution_count": 52,
     "metadata": {},
     "output_type": "execute_result"
    }
   ],
   "source": [
    "remainder_solver_2var(15, 8, 7, 2)"
   ]
  },
  {
   "cell_type": "code",
   "execution_count": 57,
   "id": "9e3d9969",
   "metadata": {},
   "outputs": [
    {
     "data": {
      "text/plain": [
       "719681966"
      ]
     },
     "execution_count": 57,
     "metadata": {},
     "output_type": "execute_result"
    }
   ],
   "source": [
    "remainder_solver_2var(101*1001, 45048, 10001, 5)"
   ]
  },
  {
   "cell_type": "code",
   "execution_count": 58,
   "id": "f090852f",
   "metadata": {},
   "outputs": [
    {
     "data": {
      "text/plain": [
       "719681966"
      ]
     },
     "execution_count": 58,
     "metadata": {},
     "output_type": "execute_result"
    }
   ],
   "source": [
    "def remainder_solver_3var(d1, m1, d2, m2, d3, m3):\n",
    "    m1_2 = remainder_solver_2var(d1, m1, d2, m2)\n",
    "    x = remainder_solver_2var(d1*d2, m1_2, d3, m3)\n",
    "    return x\n",
    "\n",
    "remainder_solver_3var(101, 2, 1001, 3, 10001, 5)\n",
    "#remainder_solver_3var(101, 2, 10001, 5, 1001, 3)\n",
    "remainder_solver_3var(10001, 5, 1001, 3, 101, 2)"
   ]
  },
  {
   "cell_type": "code",
   "execution_count": 62,
   "id": "e20cf3d3",
   "metadata": {},
   "outputs": [],
   "source": [
    "def remainder_solver_3var_best(d1, m1, d2, m2, d3, m3):\n",
    "    if max(d1, d2, d3) == d3:\n",
    "        d2, m2, d3, m3 = d3, m3, d2, m2\n",
    "    m1_2 = remainder_solver_2var(d1, m1, d2, m2)\n",
    "    x = remainder_solver_2var(d1*d2, m1_2, d3, m3)\n",
    "    return x"
   ]
  },
  {
   "cell_type": "code",
   "execution_count": 60,
   "id": "4f775ceb",
   "metadata": {},
   "outputs": [
    {
     "name": "stdout",
     "output_type": "stream",
     "text": [
      "1.04 s ± 45.8 ms per loop (mean ± std. dev. of 7 runs, 1 loop each)\n"
     ]
    }
   ],
   "source": [
    "%timeit remainder_solver(11, 2, 101, 3, 10001, 5)"
   ]
  },
  {
   "cell_type": "code",
   "execution_count": 61,
   "id": "6d00657f",
   "metadata": {},
   "outputs": [
    {
     "name": "stdout",
     "output_type": "stream",
     "text": [
      "103 µs ± 3.8 µs per loop (mean ± std. dev. of 7 runs, 10000 loops each)\n"
     ]
    }
   ],
   "source": [
    "%timeit remainder_solver_3var(11, 2, 101, 3, 10001, 5)"
   ]
  },
  {
   "cell_type": "code",
   "execution_count": 63,
   "id": "193759d0",
   "metadata": {},
   "outputs": [
    {
     "name": "stdout",
     "output_type": "stream",
     "text": [
      "12.2 µs ± 254 ns per loop (mean ± std. dev. of 7 runs, 100000 loops each)\n"
     ]
    }
   ],
   "source": [
    "%timeit remainder_solver_3var_best(11, 2, 101, 3, 10001, 5)"
   ]
  },
  {
   "cell_type": "code",
   "execution_count": null,
   "id": "6d904187",
   "metadata": {},
   "outputs": [],
   "source": []
  }
 ],
 "metadata": {
  "kernelspec": {
   "display_name": "Python 3 (ipykernel)",
   "language": "python",
   "name": "python3"
  },
  "language_info": {
   "codemirror_mode": {
    "name": "ipython",
    "version": 3
   },
   "file_extension": ".py",
   "mimetype": "text/x-python",
   "name": "python",
   "nbconvert_exporter": "python",
   "pygments_lexer": "ipython3",
   "version": "3.9.7"
  }
 },
 "nbformat": 4,
 "nbformat_minor": 5
}
