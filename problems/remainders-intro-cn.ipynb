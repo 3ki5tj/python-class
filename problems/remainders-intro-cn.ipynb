{
 "cells": [
  {
   "cell_type": "markdown",
   "id": "42229e2b",
   "metadata": {},
   "source": [
    "## 预习：大衍求一术：从一道古老的数学题学编程算法\n",
    "\n",
    "我们这里将通过一个例子来学习如何**设计和改进算法**。相信大家都听说过许多程序员对“算法”和“优化”这类字眼如痴如醉。那么为什么算法这么有吸引力呢？相信做完这道题你也会一些类似的感觉。\n",
    "\n",
    "这道题关于同余方程题出自中国古代的算经，可以说代表了当时数学的最高成就。不过我们不需要知道太多里面的数学史；这里我们只是会把它当成一个 Python 编程的练习来做。我们会从中开发出一种高效的算法来解决这类问题。\n",
    "\n",
    "不过在此之前，希望大家抽空思考一下这道题的解法，以及如何让你的程序跑得更快。\n",
    "\n",
    "好了，题目来了。"
   ]
  },
  {
   "cell_type": "markdown",
   "id": "24498ed2",
   "metadata": {},
   "source": [
    "## 大衍求一术\n",
    "\n",
    "《孙子算经》中有“物不知数”的问题：\n",
    "\n",
    "    “今有物，不知其数，\n",
    "    三三数之剩二，\n",
    "    五五数之剩三，\n",
    "    七七数之剩二，\n",
    "    问物几何？”\n",
    "\n",
    "关于这个问题的渊源，可以参考百度百科上的介绍：\n",
    "\n",
    "[【百度百科：大衍求一术】](https://baike.baidu.com/item/%E5%A4%A7%E8%A1%8D%E6%B1%82%E4%B8%80%E6%9C%AF/5523066)\n",
    "\n",
    "### 翻译\n",
    "\n",
    "    有一个数 x，\n",
    "    除以 3 余 2 ，\n",
    "    除以 5 余 3 ，\n",
    "    除以 7 余 2 ，\n",
    "    请问 x 是多少？\n",
    "\n",
    "当然我们这里是用编程来解决这个问题。"
   ]
  },
  {
   "cell_type": "code",
   "execution_count": 2,
   "id": "c5432c3c",
   "metadata": {},
   "outputs": [
    {
     "name": "stdout",
     "output_type": "stream",
     "text": [
      "23\n"
     ]
    }
   ],
   "source": [
    "for x in range(200):\n",
    "    # I want to write code\n",
    "    #print(\"for step started\", x)\n",
    "    if (x % 3 == 2):\n",
    "        if (x % 5 == 3):\n",
    "            if (x % 7 == 2):\n",
    "                print(x)\n",
    "                break\n",
    "    #print(\"for step ended\", x)"
   ]
  },
  {
   "cell_type": "markdown",
   "id": "de88cb65",
   "metadata": {},
   "source": [
    "### 推广\n",
    "\n",
    "如果你的程序解决了这个问题，请写一个函数来解决它推广的问题。\n",
    "已知 `x`，\n",
    " * 它除以 `d1` 的余数是 `m1`，\n",
    " * 它除以 `d2` 的余数是 `m2`，\n",
    " * 它除以 `d3` 的余数是 `m3`，\n",
    "函数要求返回 `x` 的值。\n",
    "\n",
    "你需要写的函数会像这个样子：\n",
    "\n",
    "```\n",
    "def remainder_solver(d1, m1, d2, m2, d3, m3):\n",
    "    x = ...\n",
    "    return x\n",
    "```"
   ]
  },
  {
   "cell_type": "code",
   "execution_count": 1,
   "id": "e4fe67ac",
   "metadata": {},
   "outputs": [
    {
     "name": "stdout",
     "output_type": "stream",
     "text": [
      "23\n"
     ]
    }
   ],
   "source": [
    "def remainder_solver(d1, m1, d2, m2, d3, m3):\n",
    "    for x in range(d1*d2*d3):\n",
    "        if (x % d1 == m1) and (x % d2 == m2) and (x % d3 == m3):\n",
    "            return x\n",
    "    return None\n",
    "\n",
    "x = remainder_solver(3, 2, 5, 3, 7, 2)\n",
    "print(x)"
   ]
  },
  {
   "cell_type": "markdown",
   "id": "8db4a029",
   "metadata": {},
   "source": [
    "注意：如果 $x$ 是一个解，那么 $x + d_1 d_2 d_3$ 也是一个解，所以我们循环的时候，把上限设在 $d_1 d_2 d_3$。\n",
    "\n",
    "```\n",
    "for x in range(d1*d2*d3):\n",
    "    ...\n",
    "```"
   ]
  },
  {
   "cell_type": "markdown",
   "id": "de04bbec",
   "metadata": {},
   "source": [
    "### 优化\n",
    "\n",
    "下面我们来优化这个算法算法。\n",
    "\n",
    "如果给输入的除数很大，你的函数是否还能很快得出结果呢？\n",
    "\n",
    "请试试这个例子\n",
    "\n",
    " * `d1 == 101, m1 == 2`\n",
    " * `d2 == 1001, m2 == 3`\n",
    " * `d3 == 10001, m3 == 5`\n",
    " \n",
    "调用一下你刚写的函数，看看是否能在1秒钟内跑出结果？\n",
    "\n",
    "```\n",
    "x = remainder_solver(101, 2, 1001, 3, 10001, 5)\n",
    "print(x)\n",
    "```"
   ]
  }
 ],
 "metadata": {
  "kernelspec": {
   "display_name": "Python 3 (ipykernel)",
   "language": "python",
   "name": "python3"
  },
  "language_info": {
   "codemirror_mode": {
    "name": "ipython",
    "version": 3
   },
   "file_extension": ".py",
   "mimetype": "text/x-python",
   "name": "python",
   "nbconvert_exporter": "python",
   "pygments_lexer": "ipython3",
   "version": "3.9.7"
  }
 },
 "nbformat": 4,
 "nbformat_minor": 5
}
