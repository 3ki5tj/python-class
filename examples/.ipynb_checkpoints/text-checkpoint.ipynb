{
 "cells": [
  {
   "cell_type": "markdown",
   "id": "ac417635",
   "metadata": {},
   "source": [
    "## 文件大小"
   ]
  },
  {
   "cell_type": "code",
   "execution_count": 6,
   "id": "8f42acf8",
   "metadata": {},
   "outputs": [
    {
     "data": {
      "text/plain": [
       "1120"
      ]
     },
     "execution_count": 6,
     "metadata": {},
     "output_type": "execute_result"
    }
   ],
   "source": [
    "def filesize(fn):\n",
    "    return len(open(fn, \"rb\").read())\n",
    "\n",
    "filesize(\"text.ipynb\")"
   ]
  },
  {
   "cell_type": "markdown",
   "id": "38df95a8",
   "metadata": {},
   "source": [
    "## 转换文本文件为网页文件"
   ]
  },
  {
   "cell_type": "code",
   "execution_count": 7,
   "id": "98ab44da",
   "metadata": {},
   "outputs": [
    {
     "ename": "SyntaxError",
     "evalue": "invalid syntax (Temp/ipykernel_21384/202104862.py, line 16)",
     "output_type": "error",
     "traceback": [
      "\u001b[1;36m  File \u001b[1;32m\"C:\\Users\\cheng\\AppData\\Local\\Temp/ipykernel_21384/202104862.py\"\u001b[1;36m, line \u001b[1;32m16\u001b[0m\n\u001b[1;33m    shtml = templ.replace(\"{title}\", title).(\"{body}\", body)\u001b[0m\n\u001b[1;37m                                            ^\u001b[0m\n\u001b[1;31mSyntaxError\u001b[0m\u001b[1;31m:\u001b[0m invalid syntax\n"
     ]
    }
   ],
   "source": [
    "def text2html(fntext, fnhtml):\n",
    "    lines = open(fn).readlines()\n",
    "    title = lines[0].strip()\n",
    "    body = ''.join(lines[1:])\n",
    "\n",
    "    templ = '''<!DOCTYPE>\n",
    "<html><head>\n",
    "<title>{title}</title>\n",
    "</head>\n",
    "<body>\n",
    "<h1>{title}</h1>\n",
    "{body}\n",
    "</body>\n",
    "</html>\n",
    "'''\n",
    "    shtml = templ.replace(\"{title}\", title).replace(\"{body}\", body)\n",
    "    open(fnhtml, \"w\").write(shtml)\n",
    "\n",
    "text2html(\"testtext.txt\", \"testtext.html\")"
   ]
  },
  {
   "cell_type": "code",
   "execution_count": null,
   "id": "de0db61b",
   "metadata": {},
   "outputs": [],
   "source": []
  }
 ],
 "metadata": {
  "kernelspec": {
   "display_name": "Python 3 (ipykernel)",
   "language": "python",
   "name": "python3"
  },
  "language_info": {
   "codemirror_mode": {
    "name": "ipython",
    "version": 3
   },
   "file_extension": ".py",
   "mimetype": "text/x-python",
   "name": "python",
   "nbconvert_exporter": "python",
   "pygments_lexer": "ipython3",
   "version": "3.9.7"
  }
 },
 "nbformat": 4,
 "nbformat_minor": 5
}
