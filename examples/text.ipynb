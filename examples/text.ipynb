{
 "cells": [
  {
   "cell_type": "markdown",
   "id": "f3df4044",
   "metadata": {},
   "source": [
    "## 文件大小"
   ]
  },
  {
   "cell_type": "code",
   "execution_count": 6,
   "id": "649f7d06",
   "metadata": {},
   "outputs": [
    {
     "data": {
      "text/plain": [
       "1120"
      ]
     },
     "execution_count": 6,
     "metadata": {},
     "output_type": "execute_result"
    }
   ],
   "source": [
    "def filesize(fn):\n",
    "    return len(open(fn, \"rb\").read())\n",
    "\n",
    "filesize(\"text.ipynb\")"
   ]
  },
  {
   "cell_type": "markdown",
   "id": "d2c23115",
   "metadata": {},
   "source": [
    "## 转换文本文件为网页文件"
   ]
  },
  {
   "cell_type": "code",
   "execution_count": 13,
   "id": "67a257e6",
   "metadata": {},
   "outputs": [
    {
     "name": "stdout",
     "output_type": "stream",
     "text": [
      "<!DOCTYPE>\n",
      "<html><head>\n",
      "<title>标题</title>\n",
      "</head>\n",
      "<body>\n",
      "<h1>标题</h1>\n",
      "<p></p>\n",
      "<p>正文第一行。</p>\n",
      "<p></p>\n",
      "<p>正文第二行。</p>\n",
      "\n",
      "</body>\n",
      "</html>\n",
      "\n",
      "content saved to testtext.html\n"
     ]
    }
   ],
   "source": [
    "def text2html(fntext, fnhtml):\n",
    "    lines = open(fntext, encoding=\"utf-8\").readlines()\n",
    "    title = lines[0].strip()\n",
    "    body = ''.join(['<p>' + x.strip() + '</p>\\n' for x in lines[1:]])\n",
    "\n",
    "    templ = '''<!DOCTYPE>\n",
    "<html><head>\n",
    "<title>{title}</title>\n",
    "</head>\n",
    "<body>\n",
    "<h1>{title}</h1>\n",
    "{body}\n",
    "</body>\n",
    "</html>\n",
    "'''\n",
    "    shtml = templ.replace(\"{title}\", title).replace(\"{body}\", body)\n",
    "    print(shtml)\n",
    "    open(fnhtml, \"w\", encoding=\"utf-8\").write(shtml)\n",
    "    print(\"content saved to\", fnhtml)\n",
    "\n",
    "text2html(\"testtext.txt\", \"testtext.html\")"
   ]
  },
  {
   "cell_type": "code",
   "execution_count": null,
   "id": "45258925",
   "metadata": {},
   "outputs": [],
   "source": []
  }
 ],
 "metadata": {
  "kernelspec": {
   "display_name": "Python 3 (ipykernel)",
   "language": "python",
   "name": "python3"
  },
  "language_info": {
   "codemirror_mode": {
    "name": "ipython",
    "version": 3
   },
   "file_extension": ".py",
   "mimetype": "text/x-python",
   "name": "python",
   "nbconvert_exporter": "python",
   "pygments_lexer": "ipython3",
   "version": "3.9.7"
  }
 },
 "nbformat": 4,
 "nbformat_minor": 5
}
