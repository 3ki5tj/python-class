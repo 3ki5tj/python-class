{
 "cells": [
  {
   "cell_type": "markdown",
   "id": "5229a713",
   "metadata": {},
   "source": [
    "## 直角三角形的斜边\n",
    "\n",
    "已知直角三角形的两条直角边，求斜边。"
   ]
  },
  {
   "cell_type": "code",
   "execution_count": 1,
   "id": "737b5d22",
   "metadata": {},
   "outputs": [
    {
     "data": {
      "text/plain": [
       "5.0"
      ]
     },
     "execution_count": 1,
     "metadata": {},
     "output_type": "execute_result"
    }
   ],
   "source": [
    "def hypot(x, y):\n",
    "    return (x**2 + y**2)**0.5\n",
    "\n",
    "hypot(3, 4)"
   ]
  },
  {
   "cell_type": "markdown",
   "id": "aab5c857",
   "metadata": {},
   "source": [
    "## 复利公式\n",
    "\n",
    "本金是 a, 年利率是 r ，求 n 年以后的会回报（连本带利）\n",
    "\n",
    "$x = a (1 + r)^n$"
   ]
  },
  {
   "cell_type": "code",
   "execution_count": 5,
   "id": "c697db08",
   "metadata": {},
   "outputs": [
    {
     "data": {
      "text/plain": [
       "162.8894626777442"
      ]
     },
     "execution_count": 5,
     "metadata": {},
     "output_type": "execute_result"
    }
   ],
   "source": [
    "def compound_return(a, r, n):\n",
    "    return a*(1+r)**n\n",
    "\n",
    "compound_return(100, 0.05, 10)"
   ]
  },
  {
   "cell_type": "markdown",
   "id": "52efc334",
   "metadata": {},
   "source": [
    "## 从斐波那契数列计算黄金分割率\n",
    "\n",
    "斐波那契数列是这样定义的\n",
    "\n",
    "$a_0 = 0$, $a_1 = 1$, 对于 $n >= 2$, 我们有 $a_{n} = a_{n-1} + a_{n-2}$\n",
    "\n",
    "$r_n \\equiv a_{n-1}/a_n$ 会趋向于黄金分割率 $\\phi = \\frac{\\sqrt 5 - 1}{2}$。\n",
    "\n",
    "请问 $n$ 至少是几，这个比例 $r_n$ 和 $\\phi$ 的误差才会小于$10^{-10}$？"
   ]
  },
  {
   "cell_type": "code",
   "execution_count": 2,
   "id": "86c2857c",
   "metadata": {},
   "outputs": [
    {
     "name": "stdout",
     "output_type": "stream",
     "text": [
      "2 : 1 1 1.0 0.3819660112501051\n",
      "3 : 1 2 0.5 0.1180339887498949\n",
      "4 : 2 3 0.6666666666666666 0.04863267791677173\n",
      "5 : 3 5 0.6 0.018033988749894925\n",
      "6 : 5 8 0.625 0.0069660112501050975\n",
      "7 : 8 13 0.6153846153846154 0.0026493733652794837\n",
      "8 : 13 21 0.6190476190476191 0.0010136302977241662\n",
      "9 : 21 34 0.6176470588235294 0.00038692992636546464\n",
      "10 : 34 55 0.6181818181818182 0.00014782943192326314\n",
      "11 : 55 89 0.6179775280898876 5.6460660007306984e-05\n",
      "12 : 89 144 0.6180555555555556 2.15668056606777e-05\n",
      "13 : 144 233 0.6180257510729614 8.237676933475768e-06\n",
      "14 : 233 377 0.6180371352785146 3.1465286196574738e-06\n",
      "15 : 377 610 0.6180327868852459 1.201864649025275e-06\n",
      "16 : 610 987 0.6180344478216818 4.590717869179528e-07\n",
      "17 : 987 1597 0.6180338134001252 1.7534976970434712e-07\n",
      "18 : 1597 2584 0.6180340557275542 6.697765930763211e-08\n",
      "19 : 2584 4181 0.6180339631667066 2.5583188345557062e-08\n",
      "20 : 4181 6765 0.6180339985218034 9.771908504596638e-09\n",
      "21 : 6765 10946 0.618033985017358 3.732536946188247e-09\n",
      "22 : 10946 17711 0.6180339901755971 1.4257022229458016e-09\n",
      "23 : 17711 28657 0.6180339882053251 5.445698336714599e-10\n",
      "24 : 28657 46368 0.618033988957902 2.080070560239733e-10\n",
      "25 : 46368 75025 0.6180339886704432 7.945166746736732e-11\n",
      "25\n"
     ]
    }
   ],
   "source": [
    "phi = (5**0.5 - 1)*0.5\n",
    "x, y = 0, 1\n",
    "for n in range(2, 1000):\n",
    "    x, y = y, x + y\n",
    "    r = x/y\n",
    "    print(n, \":\", x, y, x/y, abs(x/y-phi))\n",
    "    if abs(r - phi) < 1e-10:\n",
    "        print(n)\n",
    "        break"
   ]
  },
  {
   "cell_type": "markdown",
   "id": "4b6a3754",
   "metadata": {},
   "source": [
    "## 一元二次方程的根\n",
    "\n",
    "$x_{1,2} = \\frac{-b \\pm \\sqrt{b^2 - 4ac}}{2a}$"
   ]
  },
  {
   "cell_type": "code",
   "execution_count": 3,
   "id": "8a47cc37",
   "metadata": {},
   "outputs": [
    {
     "name": "stdout",
     "output_type": "stream",
     "text": [
      "(2.0, 1.0)\n",
      "((1+2j), (1-2j))\n",
      "(1.0, 1.0)\n",
      "(2j, -2j)\n"
     ]
    }
   ],
   "source": [
    "def quadratic(a, b, c, tol=1e-14):\n",
    "    delta = b*b - 4*a*c\n",
    "    if delta > tol:\n",
    "        r = delta**0.5\n",
    "        return (-b+r)/(2*a), (-b-r)/(2*a)\n",
    "    elif delta < -tol: # complex roots\n",
    "        r = (-delta)**0.5 * 1j\n",
    "        return (-b+r)/(2*a), (-b-r)/(2*a)\n",
    "    else:\n",
    "        return -b/(2*a), -b/(2*a)\n",
    "    \n",
    "print(quadratic(1, -3, 2)) # x^2 - 3 x + 2 = 0\n",
    "print(quadratic(1, -2, 5)) # x^2 - 2 x + 5 = 0\n",
    "print(quadratic(1, -2, 1)) # x^2 - 2 x + 1 = 0\n",
    "print(quadratic(1, 0, 4)) # x^2 + 4 = 0"
   ]
  },
  {
   "cell_type": "markdown",
   "id": "35255505",
   "metadata": {},
   "source": [
    "## 求平方根\n",
    "\n",
    "求 $\\sqrt z$ 一个巧办法。如果存在一个离$z$ 很近的平方数$a^2$，我们可以写作 $z = a^2 + d$，那么$z$的平方根可以用以下递推式求得：\n",
    "\n",
    "$x_{n+1} = a + \\frac{d}{a + x_n}$\n",
    "\n",
    "观察误差如何随迭代减少。\n",
    "\n",
    "例子，$z = 150, a = 12, d = 6$。"
   ]
  },
  {
   "cell_type": "code",
   "execution_count": 8,
   "id": "b2349c49",
   "metadata": {},
   "outputs": [
    {
     "name": "stdout",
     "output_type": "stream",
     "text": [
      "12 12.25 12.24744871391589\n",
      "12.25 12.24742268041237 12.24744871391589\n",
      "12.24742268041237 12.247448979591837 12.24744871391589\n"
     ]
    }
   ],
   "source": [
    "z = 150\n",
    "a = 12\n",
    "d = 6\n",
    "x0 = 12\n",
    "x1 = a + d/(a + x0)\n",
    "print(x0, x1, z**0.5)\n",
    "x2 = a + d/(a + x1)\n",
    "print(x1, x2, z**0.5)\n",
    "x3 = a + d/(a + x2)\n",
    "print(x2, x3, z**0.5)"
   ]
  },
  {
   "cell_type": "code",
   "execution_count": 22,
   "id": "e230730f",
   "metadata": {},
   "outputs": [
    {
     "name": "stdout",
     "output_type": "stream",
     "text": [
      "0 12.25 0.002551286084109705\n",
      "1 12.24742268041237 2.6033503520039858e-05\n",
      "2 12.247448979591837 2.656759470198722e-07\n",
      "3 12.24744871120463 2.71126054940396e-09\n",
      "4 12.247448713943559 2.76685341304983e-11\n",
      "5 12.247448713915608 2.824407374646398e-13\n",
      "6 12.247448713915894 3.552713678800501e-15\n"
     ]
    }
   ],
   "source": [
    "def my_sqrt(z, a, tol=1e-14):\n",
    "    d = z - a*a\n",
    "    r = z**0.5 # correct answer\n",
    "    x = a\n",
    "    for i in range(1000):\n",
    "        xp = x\n",
    "        x = a + d/(a+x)\n",
    "        if abs(x - xp) < tol:\n",
    "            break\n",
    "        print(i, x, abs(x - r))\n",
    "\n",
    "my_sqrt(150, 12)"
   ]
  },
  {
   "cell_type": "markdown",
   "id": "7ced401d",
   "metadata": {},
   "source": [
    "$x = a + \\frac{d}{a + x}$\n",
    "\n",
    "$x -a = \\frac{d}{x + a}$\n",
    "\n",
    "$(x -a)(x+a) = d$\n",
    "\n",
    "$x^2 - a^2 = d$\n",
    "\n",
    "$x^2 = a^2 + d = z$"
   ]
  }
 ],
 "metadata": {
  "kernelspec": {
   "display_name": "Python 3 (ipykernel)",
   "language": "python",
   "name": "python3"
  },
  "language_info": {
   "codemirror_mode": {
    "name": "ipython",
    "version": 3
   },
   "file_extension": ".py",
   "mimetype": "text/x-python",
   "name": "python",
   "nbconvert_exporter": "python",
   "pygments_lexer": "ipython3",
   "version": "3.9.7"
  }
 },
 "nbformat": 4,
 "nbformat_minor": 5
}
