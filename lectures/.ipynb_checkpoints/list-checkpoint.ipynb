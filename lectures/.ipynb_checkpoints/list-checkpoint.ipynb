{
 "cells": [
  {
   "cell_type": "markdown",
   "id": "4157f511-620a-4b41-a858-f1ea1b9de15f",
   "metadata": {},
   "source": [
    "# 列表"
   ]
  },
  {
   "cell_type": "code",
   "execution_count": null,
   "id": "e76c7550-2f1b-4a55-8d14-13f89ed0599b",
   "metadata": {},
   "outputs": [],
   "source": [
    "ls = [1, 8, 27, 64, 125]"
   ]
  },
  {
   "cell_type": "markdown",
   "id": "4a12a503-d224-4b63-8574-667c7edda577",
   "metadata": {},
   "source": [
    "## 基本操作"
   ]
  },
  {
   "cell_type": "markdown",
   "id": "29b85e35-2bcd-4188-843c-cae5e58e6d03",
   "metadata": {},
   "source": [
    "### 列表长度"
   ]
  },
  {
   "cell_type": "code",
   "execution_count": 4,
   "id": "119f452e-beec-4f15-88be-a8c4fd1b6986",
   "metadata": {},
   "outputs": [
    {
     "data": {
      "text/plain": [
       "5"
      ]
     },
     "execution_count": 4,
     "metadata": {},
     "output_type": "execute_result"
    }
   ],
   "source": [
    "len(ls)"
   ]
  },
  {
   "cell_type": "markdown",
   "id": "211f6511-423e-4af1-aca0-d48317ee2bcf",
   "metadata": {},
   "source": [
    "### 列表项目\n",
    "\n",
    "序号从 0 开始"
   ]
  },
  {
   "cell_type": "code",
   "execution_count": 7,
   "id": "aa37adb2-a1b0-4b8a-b476-e53c0bdf7181",
   "metadata": {},
   "outputs": [
    {
     "name": "stdout",
     "output_type": "stream",
     "text": [
      "1 64\n"
     ]
    }
   ],
   "source": [
    "print(ls[0], ls[3])"
   ]
  },
  {
   "cell_type": "code",
   "execution_count": 13,
   "id": "b7494051-459d-44cc-8adc-1df1d1094788",
   "metadata": {},
   "outputs": [
    {
     "name": "stdout",
     "output_type": "stream",
     "text": [
      "[1, 8, 111, 64, 125]\n"
     ]
    }
   ],
   "source": [
    "ls[2] = 111\n",
    "print(ls)"
   ]
  },
  {
   "cell_type": "markdown",
   "id": "1c7ba172-d7eb-43c5-bc4d-991f5d2009f4",
   "metadata": {},
   "source": [
    "列表的元素不一定要数字"
   ]
  },
  {
   "cell_type": "code",
   "execution_count": 11,
   "id": "d012cfa8-a6b7-4067-9f93-ed9f24a67a4e",
   "metadata": {},
   "outputs": [],
   "source": [
    "lt = [\"Cat\", \"Dog\", \"Rabbit\"]"
   ]
  },
  {
   "cell_type": "markdown",
   "id": "fd228fd6-2736-42ab-b95a-1c7b5ff90747",
   "metadata": {},
   "source": [
    "### 添加一个元素"
   ]
  },
  {
   "cell_type": "markdown",
   "id": "910cb132-d598-4271-9e63-83feac766e88",
   "metadata": {},
   "source": [
    "方法1："
   ]
  },
  {
   "cell_type": "code",
   "execution_count": 14,
   "id": "8f8252a8-4e56-4733-97b5-4202dbb2a45a",
   "metadata": {},
   "outputs": [
    {
     "name": "stdout",
     "output_type": "stream",
     "text": [
      "[1, 8, 111, 64, 125, 32]\n"
     ]
    }
   ],
   "source": [
    "ls += [32]\n",
    "print(ls)"
   ]
  },
  {
   "cell_type": "markdown",
   "id": "8bad0b93-aebc-4621-9734-5d2470f6d1d5",
   "metadata": {},
   "source": [
    "方法2："
   ]
  },
  {
   "cell_type": "code",
   "execution_count": 15,
   "id": "52fe4017-9944-4d22-b3f7-8a58cc7c78c9",
   "metadata": {},
   "outputs": [
    {
     "name": "stdout",
     "output_type": "stream",
     "text": [
      "[1, 8, 111, 64, 125, 32, 2]\n"
     ]
    }
   ],
   "source": [
    "ls.append(2)\n",
    "print(ls)"
   ]
  },
  {
   "cell_type": "markdown",
   "id": "6f39c065-c4a3-4f09-a615-8bde33030228",
   "metadata": {},
   "source": [
    "### 拼接两个列表"
   ]
  },
  {
   "cell_type": "markdown",
   "id": "73dc550b-626a-4fd0-ab0d-f2a14c9aa1b1",
   "metadata": {},
   "source": [
    "方法1："
   ]
  },
  {
   "cell_type": "code",
   "execution_count": 19,
   "id": "045b474b-2dea-4263-a53f-8c4064908fba",
   "metadata": {},
   "outputs": [],
   "source": [
    "ls2 = [216, 343]\n",
    "ls3 = ls + ls2"
   ]
  },
  {
   "cell_type": "markdown",
   "id": "aecaf997-eec2-40bb-b8f9-a14703293f93",
   "metadata": {},
   "source": [
    "方法2："
   ]
  },
  {
   "cell_type": "code",
   "execution_count": 20,
   "id": "16dfa175-4650-40c7-be99-8b2d8b8c82d5",
   "metadata": {},
   "outputs": [
    {
     "name": "stdout",
     "output_type": "stream",
     "text": [
      "[1, 8, 111, 64, 125, 32, 2, 216, 343]\n"
     ]
    }
   ],
   "source": [
    "ls.extend(ls2)\n",
    "print(ls)"
   ]
  },
  {
   "cell_type": "markdown",
   "id": "4e7c1b0d-3923-49e8-ade0-7fa0c3696fe5",
   "metadata": {},
   "source": [
    "### 用于循环"
   ]
  },
  {
   "cell_type": "code",
   "execution_count": 3,
   "id": "c89eb0b3-d41b-4fb7-905b-c3e8e7da2c06",
   "metadata": {},
   "outputs": [
    {
     "name": "stdout",
     "output_type": "stream",
     "text": [
      "1\n",
      "8\n",
      "27\n",
      "64\n",
      "125\n"
     ]
    }
   ],
   "source": [
    "for x in ls:\n",
    "    print(x)"
   ]
  },
  {
   "cell_type": "markdown",
   "id": "3bb4fba7-484a-4400-9b53-eb5484f71562",
   "metadata": {},
   "source": [
    "## 高级操作"
   ]
  },
  {
   "cell_type": "markdown",
   "id": "f6b4def4-44d7-4b16-9cc0-67820bf3ee40",
   "metadata": {},
   "source": [
    "### 排序"
   ]
  },
  {
   "cell_type": "markdown",
   "id": "bb847999-4ca3-4cea-b295-09cf819fb27a",
   "metadata": {},
   "source": [
    "**方法1**\n",
    "\n",
    "就地排序：对原列表变量排序"
   ]
  },
  {
   "cell_type": "code",
   "execution_count": 23,
   "id": "d9d8cf90-4b9a-409b-b8bb-d5ddd796a3f3",
   "metadata": {},
   "outputs": [
    {
     "name": "stdout",
     "output_type": "stream",
     "text": [
      "[1, 2, 3, 4, 5]\n"
     ]
    }
   ],
   "source": [
    "ls1 = [5, 2, 3, 4, 1]\n",
    "ls1.sort()\n",
    "print(ls1)"
   ]
  },
  {
   "cell_type": "markdown",
   "id": "79f7b542-502e-4e4a-82ad-88b61aee5e11",
   "metadata": {},
   "source": [
    "**方法2**\n",
    "\n",
    "不改变列表变量本身，创建一个新的列表用于存放排序完的列表"
   ]
  },
  {
   "cell_type": "code",
   "execution_count": 27,
   "id": "6cfcbf95-e893-4cff-9854-ae321e6dd73b",
   "metadata": {},
   "outputs": [
    {
     "name": "stdout",
     "output_type": "stream",
     "text": [
      "[5, 2, 3, 4, 1]\n",
      "[1, 2, 3, 4, 5]\n"
     ]
    }
   ],
   "source": [
    "ls1 = [5, 2, 3, 4, 1]\n",
    "ls2 = sorted(ls1)\n",
    "print(ls1)\n",
    "print(ls2)"
   ]
  },
  {
   "cell_type": "markdown",
   "id": "2da150ab-b706-423b-9b41-0bfe386225c2",
   "metadata": {},
   "source": [
    "### 翻转列表"
   ]
  },
  {
   "cell_type": "markdown",
   "id": "e8a6aeeb-d166-410a-b422-1083131a3fab",
   "metadata": {},
   "source": [
    "**方法1**\n",
    "\n",
    "就地翻转：对原列表变量翻转"
   ]
  },
  {
   "cell_type": "code",
   "execution_count": 37,
   "id": "85becd18-878d-4d0e-ad3e-9f36dc93f273",
   "metadata": {},
   "outputs": [
    {
     "name": "stdout",
     "output_type": "stream",
     "text": [
      "[1, 2, 3, 4, 5]\n",
      "[5, 4, 3, 2, 1]\n"
     ]
    }
   ],
   "source": [
    "ls1 = [1, 2, 3, 4, 5]\n",
    "print(ls1)\n",
    "ls1.reverse()\n",
    "print(ls1)"
   ]
  },
  {
   "cell_type": "markdown",
   "id": "af9e6657-b40f-47a4-9f0b-aff7cda7799c",
   "metadata": {},
   "source": [
    "**方法2**\n",
    "\n",
    "不改变原列表变量，创建一个新的列表用于存放翻转的列表"
   ]
  },
  {
   "cell_type": "code",
   "execution_count": 36,
   "id": "42f50131-cacd-43d8-8d31-fe1f2e6a0383",
   "metadata": {},
   "outputs": [
    {
     "name": "stdout",
     "output_type": "stream",
     "text": [
      "[1, 2, 3, 4, 5]\n",
      "[5, 4, 3, 2, 1]\n"
     ]
    }
   ],
   "source": [
    "ls1 = [1, 2, 3, 4, 5]\n",
    "ls2 = list(reversed(ls1))\n",
    "print(ls1)\n",
    "print(ls2)"
   ]
  },
  {
   "cell_type": "markdown",
   "id": "34a6edb7-991b-4353-8d94-389e2e31b1c8",
   "metadata": {},
   "source": [
    "### 删除元素"
   ]
  },
  {
   "cell_type": "code",
   "execution_count": 44,
   "id": "8704b446-e778-4a0f-a960-e90a9c9b12de",
   "metadata": {},
   "outputs": [
    {
     "data": {
      "text/plain": [
       "[1, 3, 4, 5]"
      ]
     },
     "execution_count": 44,
     "metadata": {},
     "output_type": "execute_result"
    }
   ],
   "source": [
    "ls1 = [1, 2, 3, 4, 5]\n",
    "ls1.remove(2)\n",
    "ls1"
   ]
  },
  {
   "cell_type": "markdown",
   "id": "d7eb441c-df35-4ad5-afb8-b45bc8d7d814",
   "metadata": {},
   "source": [
    "### 插入元素"
   ]
  },
  {
   "cell_type": "code",
   "execution_count": 52,
   "id": "b35b3455-85f4-4487-b779-7405da66cb5d",
   "metadata": {},
   "outputs": [
    {
     "data": {
      "text/plain": [
       "[1, 2, 3, 'Cat', 4, 5]"
      ]
     },
     "execution_count": 52,
     "metadata": {},
     "output_type": "execute_result"
    }
   ],
   "source": [
    "ls1 = [1, 2, 3, 4, 5]\n",
    "ls1.insert(3, \"Cat\")\n",
    "ls1"
   ]
  },
  {
   "cell_type": "code",
   "execution_count": null,
   "id": "c6180ccc-3657-4832-9b86-9ee3d02df4f5",
   "metadata": {},
   "outputs": [],
   "source": []
  }
 ],
 "metadata": {
  "kernelspec": {
   "display_name": "Python 3 (ipykernel)",
   "language": "python",
   "name": "python3"
  },
  "language_info": {
   "codemirror_mode": {
    "name": "ipython",
    "version": 3
   },
   "file_extension": ".py",
   "mimetype": "text/x-python",
   "name": "python",
   "nbconvert_exporter": "python",
   "pygments_lexer": "ipython3",
   "version": "3.9.7"
  }
 },
 "nbformat": 4,
 "nbformat_minor": 5
}
