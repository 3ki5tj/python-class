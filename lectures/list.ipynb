{
 "cells": [
  {
   "cell_type": "markdown",
   "id": "4157f511-620a-4b41-a858-f1ea1b9de15f",
   "metadata": {},
   "source": [
    "# 列表"
   ]
  },
  {
   "cell_type": "markdown",
   "id": "4a12a503-d224-4b63-8574-667c7edda577",
   "metadata": {},
   "source": [
    "## 基本操作"
   ]
  },
  {
   "cell_type": "markdown",
   "id": "2af77957-8e22-4a37-8ddb-260494839dfe",
   "metadata": {},
   "source": [
    "### 创建列表"
   ]
  },
  {
   "cell_type": "code",
   "execution_count": 1,
   "id": "e76c7550-2f1b-4a55-8d14-13f89ed0599b",
   "metadata": {},
   "outputs": [],
   "source": [
    "ls = [1, 2, 3, 4, 5]"
   ]
  },
  {
   "cell_type": "markdown",
   "id": "c66e9a52-dbfd-4cc9-8129-664d78f58bf9",
   "metadata": {},
   "source": [
    "用乘积 `*` 创建列表"
   ]
  },
  {
   "cell_type": "code",
   "execution_count": 2,
   "id": "13bf59a2-9a12-483c-98ee-1e7f387dab3d",
   "metadata": {},
   "outputs": [
    {
     "data": {
      "text/plain": [
       "[0, 0, 0, 0, 0, 0, 0, 0, 0, 0]"
      ]
     },
     "execution_count": 2,
     "metadata": {},
     "output_type": "execute_result"
    }
   ],
   "source": [
    "ls = [0]*10\n",
    "ls"
   ]
  },
  {
   "cell_type": "code",
   "execution_count": 3,
   "id": "fc9a7e04-3c0f-4dc4-a2e5-7005a1b8db47",
   "metadata": {},
   "outputs": [
    {
     "data": {
      "text/plain": [
       "[1, 2, 3, 1, 2, 3]"
      ]
     },
     "execution_count": 3,
     "metadata": {},
     "output_type": "execute_result"
    }
   ],
   "source": [
    "ls = [1, 2, 3]*2\n",
    "ls"
   ]
  },
  {
   "cell_type": "markdown",
   "id": "965cbc3a-71dc-4200-8d87-bf4bce908717",
   "metadata": {},
   "source": [
    "用 `range()` 函数创建列表"
   ]
  },
  {
   "cell_type": "code",
   "execution_count": 4,
   "id": "16097d78-6c98-43cb-b574-60bcd5291f6a",
   "metadata": {},
   "outputs": [
    {
     "name": "stdout",
     "output_type": "stream",
     "text": [
      "[2, 4, 6, 8, 10]\n"
     ]
    }
   ],
   "source": [
    "ls = list(range(2, 11, 2))\n",
    "print(ls)"
   ]
  },
  {
   "cell_type": "markdown",
   "id": "29b85e35-2bcd-4188-843c-cae5e58e6d03",
   "metadata": {},
   "source": [
    "### 列表长度"
   ]
  },
  {
   "cell_type": "code",
   "execution_count": 5,
   "id": "119f452e-beec-4f15-88be-a8c4fd1b6986",
   "metadata": {},
   "outputs": [
    {
     "data": {
      "text/plain": [
       "5"
      ]
     },
     "execution_count": 5,
     "metadata": {},
     "output_type": "execute_result"
    }
   ],
   "source": [
    "len(ls)"
   ]
  },
  {
   "cell_type": "markdown",
   "id": "211f6511-423e-4af1-aca0-d48317ee2bcf",
   "metadata": {},
   "source": [
    "### 列表项目\n",
    "\n",
    "* 序号从 `0` 开始\n",
    "* 序号 `-1` 代表最后一个，等价于 `n-1` （这里 `n` 是列表的长度）\n",
    "* 序号 `-2` 等价于 `n-2`，以此类推"
   ]
  },
  {
   "cell_type": "code",
   "execution_count": 6,
   "id": "aa37adb2-a1b0-4b8a-b476-e53c0bdf7181",
   "metadata": {},
   "outputs": [
    {
     "name": "stdout",
     "output_type": "stream",
     "text": [
      "2 8\n",
      "10\n"
     ]
    }
   ],
   "source": [
    "print(ls[0], ls[3])\n",
    "print(ls[-1])"
   ]
  },
  {
   "cell_type": "code",
   "execution_count": 7,
   "id": "b7494051-459d-44cc-8adc-1df1d1094788",
   "metadata": {},
   "outputs": [
    {
     "name": "stdout",
     "output_type": "stream",
     "text": [
      "[2, 4, 111, 8, 10]\n"
     ]
    }
   ],
   "source": [
    "# 改变某项\n",
    "ls[2] = 111\n",
    "print(ls)"
   ]
  },
  {
   "cell_type": "markdown",
   "id": "1c7ba172-d7eb-43c5-bc4d-991f5d2009f4",
   "metadata": {},
   "source": [
    "列表的元素不一定要数字"
   ]
  },
  {
   "cell_type": "code",
   "execution_count": 8,
   "id": "d012cfa8-a6b7-4067-9f93-ed9f24a67a4e",
   "metadata": {},
   "outputs": [],
   "source": [
    "lt = [\"Cat\", \"Dog\", \"Rabbit\"]"
   ]
  },
  {
   "cell_type": "code",
   "execution_count": 9,
   "id": "897f9cd7-1573-4252-acd7-290759f08c4c",
   "metadata": {},
   "outputs": [
    {
     "data": {
      "text/plain": [
       "[2, 'Hello', 111, 8, 10]"
      ]
     },
     "execution_count": 9,
     "metadata": {},
     "output_type": "execute_result"
    }
   ],
   "source": [
    "ls[1] = \"Hello\"\n",
    "ls"
   ]
  },
  {
   "cell_type": "markdown",
   "id": "fd228fd6-2736-42ab-b95a-1c7b5ff90747",
   "metadata": {},
   "source": [
    "### 在列表最后添加一个元素"
   ]
  },
  {
   "cell_type": "markdown",
   "id": "910cb132-d598-4271-9e63-83feac766e88",
   "metadata": {},
   "source": [
    "方法1："
   ]
  },
  {
   "cell_type": "code",
   "execution_count": 10,
   "id": "8f8252a8-4e56-4733-97b5-4202dbb2a45a",
   "metadata": {},
   "outputs": [
    {
     "name": "stdout",
     "output_type": "stream",
     "text": [
      "[2, 'Hello', 111, 8, 10, 32]\n"
     ]
    }
   ],
   "source": [
    "ls += [32]\n",
    "print(ls)"
   ]
  },
  {
   "cell_type": "markdown",
   "id": "8bad0b93-aebc-4621-9734-5d2470f6d1d5",
   "metadata": {},
   "source": [
    "方法2："
   ]
  },
  {
   "cell_type": "code",
   "execution_count": 11,
   "id": "52fe4017-9944-4d22-b3f7-8a58cc7c78c9",
   "metadata": {},
   "outputs": [
    {
     "name": "stdout",
     "output_type": "stream",
     "text": [
      "[2, 'Hello', 111, 8, 10, 32, 2]\n"
     ]
    }
   ],
   "source": [
    "ls.append(2)\n",
    "print(ls)"
   ]
  },
  {
   "cell_type": "markdown",
   "id": "6f39c065-c4a3-4f09-a615-8bde33030228",
   "metadata": {},
   "source": [
    "### 拼接两个列表"
   ]
  },
  {
   "cell_type": "markdown",
   "id": "73dc550b-626a-4fd0-ab0d-f2a14c9aa1b1",
   "metadata": {},
   "source": [
    "方法1："
   ]
  },
  {
   "cell_type": "code",
   "execution_count": 12,
   "id": "045b474b-2dea-4263-a53f-8c4064908fba",
   "metadata": {},
   "outputs": [],
   "source": [
    "ls2 = [216, 343]\n",
    "ls3 = ls + ls2"
   ]
  },
  {
   "cell_type": "markdown",
   "id": "aecaf997-eec2-40bb-b8f9-a14703293f93",
   "metadata": {},
   "source": [
    "方法2："
   ]
  },
  {
   "cell_type": "code",
   "execution_count": 13,
   "id": "16dfa175-4650-40c7-be99-8b2d8b8c82d5",
   "metadata": {},
   "outputs": [
    {
     "name": "stdout",
     "output_type": "stream",
     "text": [
      "[2, 'Hello', 111, 8, 10, 32, 2, 216, 343]\n"
     ]
    }
   ],
   "source": [
    "ls.extend(ls2)\n",
    "print(ls)"
   ]
  },
  {
   "cell_type": "markdown",
   "id": "4e7c1b0d-3923-49e8-ade0-7fa0c3696fe5",
   "metadata": {},
   "source": [
    "### 枚举列表的元素"
   ]
  },
  {
   "cell_type": "code",
   "execution_count": 14,
   "id": "c89eb0b3-d41b-4fb7-905b-c3e8e7da2c06",
   "metadata": {},
   "outputs": [
    {
     "name": "stdout",
     "output_type": "stream",
     "text": [
      "2\n",
      "4\n",
      "6\n",
      "8\n",
      "10\n"
     ]
    }
   ],
   "source": [
    "ls = [2, 4, 6, 8, 10]\n",
    "for x in ls:\n",
    "    print(x)"
   ]
  },
  {
   "cell_type": "markdown",
   "id": "8819d3a0-30bb-4f4b-84ce-01048595f028",
   "metadata": {},
   "source": [
    "带序号枚举列表"
   ]
  },
  {
   "cell_type": "code",
   "execution_count": 15,
   "id": "503a3650-d77e-436b-bba4-036b02994aa1",
   "metadata": {},
   "outputs": [
    {
     "name": "stdout",
     "output_type": "stream",
     "text": [
      "0 2\n",
      "1 4\n",
      "2 6\n",
      "3 8\n",
      "4 10\n"
     ]
    }
   ],
   "source": [
    "for i, x in enumerate(ls):\n",
    "    print(i, x)"
   ]
  },
  {
   "cell_type": "markdown",
   "id": "51f3bec5-a9be-4efd-a193-2b3f115faef7",
   "metadata": {},
   "source": [
    "倒序枚举（见生成子列表）"
   ]
  },
  {
   "cell_type": "code",
   "execution_count": 16,
   "id": "75c179fb-cd0b-46fc-8f67-8155490d066a",
   "metadata": {},
   "outputs": [
    {
     "name": "stdout",
     "output_type": "stream",
     "text": [
      "5\n",
      "4\n",
      "3\n",
      "2\n",
      "1\n"
     ]
    }
   ],
   "source": [
    "ls = [1, 2, 3, 4, 5]\n",
    "for x in ls[::-1]:\n",
    "    print(x)"
   ]
  },
  {
   "cell_type": "markdown",
   "id": "3bb4fba7-484a-4400-9b53-eb5484f71562",
   "metadata": {},
   "source": [
    "## 高级操作"
   ]
  },
  {
   "cell_type": "markdown",
   "id": "7367c6cf-d71d-4c79-909c-ac38c5300c92",
   "metadata": {
    "tags": []
   },
   "source": [
    "### 复制列表\n",
    "\n",
    "类型       | 语法 | 注释\n",
    "----------|------------|-------------------------------\n",
    "引用型赋值 | `ls2 = ls1` | `ls2` 是 `ls1` 的一个别名，里面包含的内容相同；改变 `ls1` 的内容也改变 `ls2` 的内容，反之亦然\n",
    "克隆型赋值 | `ls2 = ls1[:]` | 把 `ls1` 里面包含的内容重新复制给了`ls2`；改变 `ls1` 的内容不改变 `ls2` 的内容，反之亦然"
   ]
  },
  {
   "cell_type": "code",
   "execution_count": 17,
   "id": "e3734c3e-4818-4017-a0c7-7c0299780805",
   "metadata": {
    "tags": []
   },
   "outputs": [
    {
     "name": "stdout",
     "output_type": "stream",
     "text": [
      "['Cat', 2, 3, 4, 5]\n",
      "True\n"
     ]
    }
   ],
   "source": [
    "ls1 = [1, 2, 3, 4, 5]\n",
    "ls2 = ls1 # 引用型赋值\n",
    "ls1[0] = \"Cat\" # 改变了原数组，ls2 也会随之改变\n",
    "print(ls2)\n",
    "print(ls2 is ls1)"
   ]
  },
  {
   "cell_type": "code",
   "execution_count": 18,
   "id": "b2c049a9-82f3-42b8-8730-757dd9f5e8bf",
   "metadata": {
    "tags": []
   },
   "outputs": [
    {
     "name": "stdout",
     "output_type": "stream",
     "text": [
      "[1, 2, 3, 4, 5]\n",
      "False\n"
     ]
    }
   ],
   "source": [
    "ls1 = [1, 2, 3, 4, 5]\n",
    "ls2 = ls1[:] # 克隆型赋值\n",
    "ls1[0] = \"Cat\" # 改变了原数组，ls2 不会因此改变\n",
    "print(ls2)\n",
    "print(ls2 is ls1)"
   ]
  },
  {
   "cell_type": "markdown",
   "id": "54d460b1-3ecb-43e0-a7da-09002a8aced6",
   "metadata": {
    "tags": []
   },
   "source": [
    "#### 深层复制\n",
    "\n",
    "如果列表的元素是一个列表，则需要用**深层**复制"
   ]
  },
  {
   "cell_type": "code",
   "execution_count": 19,
   "id": "fa1f92e5-126e-4f4e-8afa-55dbb7d05734",
   "metadata": {},
   "outputs": [
    {
     "name": "stdout",
     "output_type": "stream",
     "text": [
      "[['Cat', 2, 3], 'Dog', 5, 6]\n",
      "[['Cat', 2, 3], 4, 5, 6]\n"
     ]
    }
   ],
   "source": [
    "ls1 = [[1, 2, 3], 4, 5, 6]\n",
    "ls2 = ls1[:]\n",
    "ls1[0][0] = \"Cat\"  # 会影响 `ls2`\n",
    "ls1[1] = \"Dog\" # 不会影响 `ls2`\n",
    "print(ls1)\n",
    "print(ls2)"
   ]
  },
  {
   "cell_type": "code",
   "execution_count": 20,
   "id": "f0feeffe-ab13-4195-a8e4-d3feb9026c3b",
   "metadata": {},
   "outputs": [
    {
     "name": "stdout",
     "output_type": "stream",
     "text": [
      "[['Cat', 2, 3], 'Dog', 5, 6]\n",
      "[[1, 2, 3], 4, 5, 6]\n"
     ]
    }
   ],
   "source": [
    "import copy\n",
    "ls1 = [[1, 2, 3], 4, 5, 6]\n",
    "ls2 = copy.deepcopy(ls1)\n",
    "ls1[0][0] = \"Cat\" # 不会影响 `ls2`\n",
    "ls1[1] = \"Dog\"  # 不会影响 `ls2`\n",
    "print(ls1)\n",
    "print(ls2)"
   ]
  },
  {
   "cell_type": "markdown",
   "id": "f6b4def4-44d7-4b16-9cc0-67820bf3ee40",
   "metadata": {
    "tags": []
   },
   "source": [
    "### 排序"
   ]
  },
  {
   "cell_type": "markdown",
   "id": "bb847999-4ca3-4cea-b295-09cf819fb27a",
   "metadata": {},
   "source": [
    "**方法1**\n",
    "\n",
    "就地排序：对原列表变量排序"
   ]
  },
  {
   "cell_type": "code",
   "execution_count": 21,
   "id": "d9d8cf90-4b9a-409b-b8bb-d5ddd796a3f3",
   "metadata": {},
   "outputs": [
    {
     "name": "stdout",
     "output_type": "stream",
     "text": [
      "[1, 2, 3, 4, 5]\n"
     ]
    }
   ],
   "source": [
    "ls1 = [5, 2, 3, 4, 1]\n",
    "ls1.sort()\n",
    "print(ls1)"
   ]
  },
  {
   "cell_type": "markdown",
   "id": "79f7b542-502e-4e4a-82ad-88b61aee5e11",
   "metadata": {},
   "source": [
    "**方法2**\n",
    "\n",
    "不改变列表变量本身，创建一个新的列表用于存放排序完的列表"
   ]
  },
  {
   "cell_type": "code",
   "execution_count": 22,
   "id": "6cfcbf95-e893-4cff-9854-ae321e6dd73b",
   "metadata": {},
   "outputs": [
    {
     "name": "stdout",
     "output_type": "stream",
     "text": [
      "[5, 2, 3, 4, 1]\n",
      "[1, 2, 3, 4, 5]\n"
     ]
    }
   ],
   "source": [
    "ls1 = [5, 2, 3, 4, 1]\n",
    "ls2 = sorted(ls1)\n",
    "print(ls1)\n",
    "print(ls2)"
   ]
  },
  {
   "cell_type": "markdown",
   "id": "3c3207fd-9658-4c04-a8d0-a551ce59b8cb",
   "metadata": {},
   "source": [
    "### 生成子列表 Slicing"
   ]
  },
  {
   "cell_type": "markdown",
   "id": "ed0b10b5-3a30-4de9-9f8f-da913b0e196f",
   "metadata": {},
   "source": [
    "一般语法\n",
    "\n",
    "```\n",
    "ls[起始元素:终止元素（不包括）:步长]\n",
    "```\n",
    "\n",
    "* 起始元素如果不写默认是 `0`\n",
    "* 终止元素如果不写默认是列表长度 `len(ls)`\n",
    "* 终止元素如果是 `-1` 代表 `len(ls)-1`\n",
    "* 步长如果不写，默认是 `1`\n",
    "* 如果不写步长，第二个 `:` 可以省略\n",
    "\n",
    "但是如果步长是负数：\n",
    "\n",
    "* 起始元素如果不写默认是最后一个元素，即 `-1`\n",
    "* 终止元素如果不写，则倒序循环到第一个元素\n"
   ]
  },
  {
   "cell_type": "code",
   "execution_count": 23,
   "id": "10572f8e-1c84-44b2-9c6f-6f99526b335f",
   "metadata": {},
   "outputs": [
    {
     "data": {
      "text/plain": [
       "[3, 6, 9, 12, 15, 18]"
      ]
     },
     "execution_count": 23,
     "metadata": {},
     "output_type": "execute_result"
    }
   ],
   "source": [
    "ls = list(range(100))\n",
    "ls[3:21:3] # 起始元素的序号是 3, 最后一个元素的序号是 21-1，每次序号加 3"
   ]
  },
  {
   "cell_type": "code",
   "execution_count": 24,
   "id": "6e25fac8-b4c3-48ca-a712-fb4cc0c1456c",
   "metadata": {},
   "outputs": [
    {
     "data": {
      "text/plain": [
       "[5, 4, 3, 2, 1]"
      ]
     },
     "execution_count": 24,
     "metadata": {},
     "output_type": "execute_result"
    }
   ],
   "source": [
    "ls1 = [1, 2, 3, 4, 5]\n",
    "ls1[::-1]"
   ]
  },
  {
   "cell_type": "markdown",
   "id": "2da150ab-b706-423b-9b41-0bfe386225c2",
   "metadata": {},
   "source": [
    "### 翻转列表"
   ]
  },
  {
   "cell_type": "markdown",
   "id": "e8a6aeeb-d166-410a-b422-1083131a3fab",
   "metadata": {},
   "source": [
    "**方法1**\n",
    "\n",
    "就地翻转：对原列表变量翻转"
   ]
  },
  {
   "cell_type": "code",
   "execution_count": 25,
   "id": "85becd18-878d-4d0e-ad3e-9f36dc93f273",
   "metadata": {},
   "outputs": [
    {
     "name": "stdout",
     "output_type": "stream",
     "text": [
      "[1, 2, 3, 4, 5]\n",
      "[5, 4, 3, 2, 1]\n"
     ]
    }
   ],
   "source": [
    "ls1 = [1, 2, 3, 4, 5]\n",
    "print(ls1)\n",
    "ls1.reverse()\n",
    "print(ls1)"
   ]
  },
  {
   "cell_type": "markdown",
   "id": "af9e6657-b40f-47a4-9f0b-aff7cda7799c",
   "metadata": {},
   "source": [
    "**方法2**\n",
    "\n",
    "不改变原列表变量，创建一个新的列表用于存放翻转的列表"
   ]
  },
  {
   "cell_type": "code",
   "execution_count": 26,
   "id": "42f50131-cacd-43d8-8d31-fe1f2e6a0383",
   "metadata": {},
   "outputs": [
    {
     "name": "stdout",
     "output_type": "stream",
     "text": [
      "[1, 2, 3, 4, 5]\n",
      "[5, 4, 3, 2, 1]\n"
     ]
    }
   ],
   "source": [
    "ls1 = [1, 2, 3, 4, 5]\n",
    "ls2 = list(reversed(ls1))\n",
    "print(ls1)\n",
    "print(ls2)"
   ]
  },
  {
   "cell_type": "markdown",
   "id": "db9b981c-b67d-4a6e-9787-2f7a866dde5b",
   "metadata": {},
   "source": [
    "**方法3**\n",
    "\n",
    "使用 `ls2 = ls1[::-1]` 语法。\n",
    "与方法 2 相同，这个方法会创建一个新的列表。"
   ]
  },
  {
   "cell_type": "code",
   "execution_count": 1,
   "id": "f9779683-bf3d-4ffb-8393-50009900c0d6",
   "metadata": {},
   "outputs": [
    {
     "name": "stdout",
     "output_type": "stream",
     "text": [
      "[1, 2, 3, 4, 5]\n",
      "[5, 4, 3, 2, 1]\n"
     ]
    }
   ],
   "source": [
    "ls1 = [1, 2, 3, 4, 5]\n",
    "ls2 = ls1[::-1]\n",
    "print(ls1)\n",
    "print(ls2)"
   ]
  },
  {
   "cell_type": "markdown",
   "id": "5d43e45f-d632-4145-8f20-77ad54caa74d",
   "metadata": {},
   "source": [
    "**方法3**\n",
    "\n",
    "用 Slicing 技术，创建一个新的翻转的列表"
   ]
  },
  {
   "cell_type": "code",
   "execution_count": 27,
   "id": "14084e8d-0e8a-4744-8c70-2037d96c0200",
   "metadata": {},
   "outputs": [
    {
     "name": "stdout",
     "output_type": "stream",
     "text": [
      "[5, 4, 3, 2, 1]\n"
     ]
    }
   ],
   "source": [
    "ls1 = [1, 2, 3, 4, 5]\n",
    "ls2 = ls1[::-1]\n",
    "print(ls2)"
   ]
  },
  {
   "cell_type": "markdown",
   "id": "34a6edb7-991b-4353-8d94-389e2e31b1c8",
   "metadata": {},
   "source": [
    "### 删除元素"
   ]
  },
  {
   "cell_type": "code",
   "execution_count": 28,
   "id": "8704b446-e778-4a0f-a960-e90a9c9b12de",
   "metadata": {},
   "outputs": [
    {
     "data": {
      "text/plain": [
       "[1, 3, 4, 5]"
      ]
     },
     "execution_count": 28,
     "metadata": {},
     "output_type": "execute_result"
    }
   ],
   "source": [
    "ls = [1, 2, 3, 4, 5]\n",
    "ls.remove(2)\n",
    "ls"
   ]
  },
  {
   "cell_type": "markdown",
   "id": "d7eb441c-df35-4ad5-afb8-b45bc8d7d814",
   "metadata": {},
   "source": [
    "### 插入元素"
   ]
  },
  {
   "cell_type": "code",
   "execution_count": 29,
   "id": "b35b3455-85f4-4487-b779-7405da66cb5d",
   "metadata": {},
   "outputs": [
    {
     "data": {
      "text/plain": [
       "[1, 2, 3, 'Cat', 4, 5]"
      ]
     },
     "execution_count": 29,
     "metadata": {},
     "output_type": "execute_result"
    }
   ],
   "source": [
    "ls = [1, 2, 3, 4, 5]\n",
    "ls.insert(3, \"Cat\")\n",
    "ls"
   ]
  }
 ],
 "metadata": {
  "kernelspec": {
   "display_name": "Python 3 (ipykernel)",
   "language": "python",
   "name": "python3"
  },
  "language_info": {
   "codemirror_mode": {
    "name": "ipython",
    "version": 3
   },
   "file_extension": ".py",
   "mimetype": "text/x-python",
   "name": "python",
   "nbconvert_exporter": "python",
   "pygments_lexer": "ipython3",
   "version": "3.9.7"
  }
 },
 "nbformat": 4,
 "nbformat_minor": 5
}
