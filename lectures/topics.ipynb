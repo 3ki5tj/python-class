{
 "cells": [
  {
   "cell_type": "markdown",
   "id": "6522e113-8157-40d2-a166-0afb328a7f30",
   "metadata": {},
   "source": [
    "## Topics to explore"
   ]
  },
  {
   "cell_type": "markdown",
   "id": "800c7672-310d-4dde-89b8-1f7d2ade418e",
   "metadata": {},
   "source": [
    "* Creating your own package and `import`\n",
    "* Converting among image formats\n",
    "* Load and save files\n",
    "* String operations, split, join\n",
    "* Bitwise operations"
   ]
  },
  {
   "cell_type": "markdown",
   "id": "de729cea-5feb-4d39-9693-eb695e147414",
   "metadata": {},
   "source": [
    "### Snippets"
   ]
  },
  {
   "cell_type": "markdown",
   "id": "eb1426f2-b21e-4320-a4c1-c26bb1c8ce38",
   "metadata": {},
   "source": [
    "判断一个数是否是2的指数"
   ]
  },
  {
   "cell_type": "code",
   "execution_count": 11,
   "id": "0ad0f638-8566-4126-a922-814b9adebc45",
   "metadata": {},
   "outputs": [
    {
     "data": {
      "text/plain": [
       "True"
      ]
     },
     "execution_count": 11,
     "metadata": {},
     "output_type": "execute_result"
    }
   ],
   "source": [
    "def is_power_of_2(n):\n",
    "    return n != 0 and (n & (n-1) == 0)\n",
    "\n",
    "is_power_of_2(8)"
   ]
  },
  {
   "cell_type": "code",
   "execution_count": null,
   "id": "6b69f896-2967-49be-afef-076a39c62847",
   "metadata": {},
   "outputs": [],
   "source": [
    "本福特定律"
   ]
  },
  {
   "cell_type": "markdown",
   "id": "d6d9ddfd-ff6a-499d-82ea-c037aa1d5a31",
   "metadata": {},
   "source": [
    "Random number generator"
   ]
  },
  {
   "cell_type": "markdown",
   "id": "0a2124e3-3796-4e39-b45d-59006e5cdb0b",
   "metadata": {},
   "source": [
    "Verifying Chinese identification number\n",
    "\n",
    "验证身份证号码\n"
   ]
  },
  {
   "cell_type": "code",
   "execution_count": 45,
   "id": "e144cf56-c5a9-432e-9146-9395b95ce382",
   "metadata": {},
   "outputs": [
    {
     "name": "stdout",
     "output_type": "stream",
     "text": [
      "10 1 10\n",
      "7 2 14\n",
      "0 4 0\n",
      "0 8 0\n",
      "1 16 16\n",
      "0 32 0\n",
      "1 64 64\n",
      "0 128 0\n",
      "6 256 1536\n",
      "9 512 4608\n",
      "9 1024 9216\n",
      "1 2048 2048\n",
      "3 4096 12288\n",
      "0 8192 0\n",
      "2 16384 32768\n",
      "0 32768 0\n",
      "1 65536 65536\n",
      "2 131072 262144\n",
      "390248 1\n"
     ]
    },
    {
     "data": {
      "text/plain": [
       "True"
      ]
     },
     "execution_count": 45,
     "metadata": {},
     "output_type": "execute_result"
    }
   ],
   "source": [
    "def verify_identification_number(s):\n",
    "    a = list(s) # break the string down to a list\n",
    "    if a[-1] == 'X':\n",
    "        a[-1] = 10\n",
    "    for i in range(len(a)): # convert the characters to integers\n",
    "        a[i] = int(a[i])\n",
    "\n",
    "    mul = 1\n",
    "    s = 0\n",
    "    for x in a[::-1]:\n",
    "        s += x*mul\n",
    "        print(x, mul, x*mul)\n",
    "        mul *= 2\n",
    "    print(s, s % 11)\n",
    "    if s % 11 == 1:\n",
    "        return True\n",
    "    else:\n",
    "        return False\n",
    "\n",
    "verify_identification_number(\"21020319960101007X\")"
   ]
  },
  {
   "cell_type": "code",
   "execution_count": null,
   "id": "bab42d57-8741-47b3-8e1a-4ae9e5922969",
   "metadata": {},
   "outputs": [],
   "source": []
  }
 ],
 "metadata": {
  "kernelspec": {
   "display_name": "Python 3 (ipykernel)",
   "language": "python",
   "name": "python3"
  },
  "language_info": {
   "codemirror_mode": {
    "name": "ipython",
    "version": 3
   },
   "file_extension": ".py",
   "mimetype": "text/x-python",
   "name": "python",
   "nbconvert_exporter": "python",
   "pygments_lexer": "ipython3",
   "version": "3.9.7"
  }
 },
 "nbformat": 4,
 "nbformat_minor": 5
}
