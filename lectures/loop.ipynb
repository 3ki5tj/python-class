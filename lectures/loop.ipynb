{
 "cells": [
  {
   "cell_type": "markdown",
   "id": "0dfea04d-4537-43f0-ac62-2b1423156da3",
   "metadata": {},
   "source": [
    "# 循环\n",
    "\n",
    "两种循环\n",
    "* `for` 循环\n",
    "* `while` 循环"
   ]
  },
  {
   "cell_type": "markdown",
   "id": "7ef13ccc-2e3c-4a50-bf0d-c5364aac81a4",
   "metadata": {},
   "source": [
    "## `for` 循环"
   ]
  },
  {
   "cell_type": "code",
   "execution_count": 1,
   "id": "e42e34e5-1766-4566-8566-84de47dead85",
   "metadata": {},
   "outputs": [
    {
     "name": "stdout",
     "output_type": "stream",
     "text": [
      "0\n",
      "1\n",
      "2\n",
      "3\n",
      "4\n"
     ]
    }
   ],
   "source": [
    "# 从 0 开始循环， 循环 5 次\n",
    "for i in range(5):\n",
    "    print(i)"
   ]
  },
  {
   "cell_type": "code",
   "execution_count": 2,
   "id": "56686cbf-080c-42d0-95a1-3c5d2dff2fa5",
   "metadata": {},
   "outputs": [
    {
     "name": "stdout",
     "output_type": "stream",
     "text": [
      "1\n",
      "2\n",
      "3\n",
      "4\n"
     ]
    }
   ],
   "source": [
    "# 从 1 开始循环，到 5 截止，不包含 5\n",
    "for i in range(1, 5):\n",
    "    print(i)"
   ]
  },
  {
   "cell_type": "code",
   "execution_count": 3,
   "id": "b5760d30-da64-4e41-bd1c-3a5cebafae3d",
   "metadata": {},
   "outputs": [
    {
     "name": "stdout",
     "output_type": "stream",
     "text": [
      "1\n",
      "3\n",
      "5\n",
      "7\n",
      "9\n"
     ]
    }
   ],
   "source": [
    "# 从 1 开始循环，到 11 截止，不包含 11，每次递增 2\n",
    "for i in range(1, 11, 2):\n",
    "    print(i)"
   ]
  },
  {
   "cell_type": "code",
   "execution_count": 4,
   "id": "3ba15950-4823-472d-b81b-b4291e74efa5",
   "metadata": {},
   "outputs": [
    {
     "name": "stdout",
     "output_type": "stream",
     "text": [
      "11\n",
      "9\n",
      "7\n",
      "5\n",
      "3\n"
     ]
    }
   ],
   "source": [
    "# 从 11 开始倒序循环，到 1 截止，不包含 1，每次递减 2\n",
    "for i in range(11, 1, -2):\n",
    "    print(i)"
   ]
  },
  {
   "cell_type": "markdown",
   "id": "5b417b62-2c72-4d2e-8947-dc6f0611782b",
   "metadata": {},
   "source": [
    "### 语法：\n",
    "\n",
    "```\n",
    "for 变量 in range(...):\n",
    "    每次做的事情\n",
    "```\n",
    "\n",
    "**第一行**\n",
    "* 先写 `for `\n",
    "* 再写循环的变量，比如 `i`\n",
    "* 再写 ` in `\n",
    "* 再写 ` range(...) ` 也可以是一个列表\n",
    "* 最后记得写 `:`\n",
    "\n",
    "**第二行开始：循环的内容**\n",
    "* 每行前面空 4 格\n",
    "* 每次循环都会执行相同的内容"
   ]
  },
  {
   "cell_type": "code",
   "execution_count": 5,
   "id": "dfca8185-dc75-4d4b-a53d-d9d5579c8041",
   "metadata": {},
   "outputs": [
    {
     "name": "stdout",
     "output_type": "stream",
     "text": [
      "1\n",
      "4\n",
      "9\n",
      "16\n",
      "25\n"
     ]
    }
   ],
   "source": [
    "# 循环一个列表\n",
    "ls = [1, 4, 9, 16, 25]\n",
    "\n",
    "for x in ls:\n",
    "    print(x)"
   ]
  },
  {
   "cell_type": "code",
   "execution_count": 6,
   "id": "73b8a1b7-92e3-45fe-a496-aff5955b590e",
   "metadata": {},
   "outputs": [
    {
     "name": "stdout",
     "output_type": "stream",
     "text": [
      "0 1\n",
      "1 4\n",
      "2 9\n",
      "3 16\n",
      "4 25\n"
     ]
    }
   ],
   "source": [
    "# 带上序号 i 循环一个列表\n",
    "for i, x in enumerate(ls):\n",
    "    print(i, x)"
   ]
  },
  {
   "cell_type": "markdown",
   "id": "eb854426-6ad3-48b6-a4e1-d521f06dab6e",
   "metadata": {},
   "source": [
    "* 可以用 break 终止循环\n",
    "* 可以用 continue 跳过这一循环，进入下一次循环"
   ]
  },
  {
   "cell_type": "code",
   "execution_count": 12,
   "id": "04054338-18d9-4bca-9bd2-a233460f71fc",
   "metadata": {},
   "outputs": [
    {
     "name": "stdout",
     "output_type": "stream",
     "text": [
      "0\n",
      "1\n",
      "2\n",
      "3\n",
      "4\n",
      "6\n"
     ]
    }
   ],
   "source": [
    "for i in range(10):\n",
    "    if i == 5:\n",
    "        # 跳过 i == 5\n",
    "        continue\n",
    "\n",
    "    if i >= 7:\n",
    "        # 7 以后停止\n",
    "        break\n",
    "\n",
    "    print(i)"
   ]
  },
  {
   "cell_type": "markdown",
   "id": "466a63b3-cc01-480c-8acc-7d318970a031",
   "metadata": {},
   "source": [
    "### 多重循环"
   ]
  },
  {
   "cell_type": "code",
   "execution_count": 11,
   "id": "464a052c-0a7d-4340-a7fd-33a086dd2b58",
   "metadata": {
    "collapsed": true,
    "jupyter": {
     "outputs_hidden": true
    },
    "tags": []
   },
   "outputs": [
    {
     "name": "stdout",
     "output_type": "stream",
     "text": [
      "1 * 1  =  1\n",
      "1 * 2  =  2\n",
      "1 * 3  =  3\n",
      "1 * 4  =  4\n",
      "1 * 5  =  5\n",
      "1 * 6  =  6\n",
      "1 * 7  =  7\n",
      "1 * 8  =  8\n",
      "1 * 9  =  9\n",
      "2 * 1  =  2\n",
      "2 * 2  =  4\n",
      "2 * 3  =  6\n",
      "2 * 4  =  8\n",
      "2 * 5  =  10\n",
      "2 * 6  =  12\n",
      "2 * 7  =  14\n",
      "2 * 8  =  16\n",
      "2 * 9  =  18\n",
      "3 * 1  =  3\n",
      "3 * 2  =  6\n",
      "3 * 3  =  9\n",
      "3 * 4  =  12\n",
      "3 * 5  =  15\n",
      "3 * 6  =  18\n",
      "3 * 7  =  21\n",
      "3 * 8  =  24\n",
      "3 * 9  =  27\n",
      "4 * 1  =  4\n",
      "4 * 2  =  8\n",
      "4 * 3  =  12\n",
      "4 * 4  =  16\n",
      "4 * 5  =  20\n",
      "4 * 6  =  24\n",
      "4 * 7  =  28\n",
      "4 * 8  =  32\n",
      "4 * 9  =  36\n",
      "5 * 1  =  5\n",
      "5 * 2  =  10\n",
      "5 * 3  =  15\n",
      "5 * 4  =  20\n",
      "5 * 5  =  25\n",
      "5 * 6  =  30\n",
      "5 * 7  =  35\n",
      "5 * 8  =  40\n",
      "5 * 9  =  45\n",
      "6 * 1  =  6\n",
      "6 * 2  =  12\n",
      "6 * 3  =  18\n",
      "6 * 4  =  24\n",
      "6 * 5  =  30\n",
      "6 * 6  =  36\n",
      "6 * 7  =  42\n",
      "6 * 8  =  48\n",
      "6 * 9  =  54\n",
      "7 * 1  =  7\n",
      "7 * 2  =  14\n",
      "7 * 3  =  21\n",
      "7 * 4  =  28\n",
      "7 * 5  =  35\n",
      "7 * 6  =  42\n",
      "7 * 7  =  49\n",
      "7 * 8  =  56\n",
      "7 * 9  =  63\n",
      "8 * 1  =  8\n",
      "8 * 2  =  16\n",
      "8 * 3  =  24\n",
      "8 * 4  =  32\n",
      "8 * 5  =  40\n",
      "8 * 6  =  48\n",
      "8 * 7  =  56\n",
      "8 * 8  =  64\n",
      "8 * 9  =  72\n",
      "9 * 1  =  9\n",
      "9 * 2  =  18\n",
      "9 * 3  =  27\n",
      "9 * 4  =  36\n",
      "9 * 5  =  45\n",
      "9 * 6  =  54\n",
      "9 * 7  =  63\n",
      "9 * 8  =  72\n",
      "9 * 9  =  81\n"
     ]
    }
   ],
   "source": [
    "# 打印乘法表\n",
    "for i in range(1, 10):\n",
    "    for j in range(1, 10):\n",
    "        print(i, \"*\", j, \" = \", i*j)"
   ]
  },
  {
   "cell_type": "markdown",
   "id": "1d1db508-72dd-4715-adaf-0a5a259dfee4",
   "metadata": {
    "tags": []
   },
   "source": [
    "## `while` 循环\n",
    "\n",
    "* 用于复杂的循环\n",
    "* 注意不要死循环\n",
    "* 循环内部也可以用 `continue` 跳过一次 或 `break` 终止循环"
   ]
  },
  {
   "cell_type": "code",
   "execution_count": 8,
   "id": "2079f2ff-8447-4cca-8802-9650807bc60f",
   "metadata": {},
   "outputs": [
    {
     "name": "stdout",
     "output_type": "stream",
     "text": [
      "1\n",
      "2\n",
      "3\n",
      "4\n",
      "5\n",
      "6\n",
      "7\n",
      "8\n",
      "9\n"
     ]
    }
   ],
   "source": [
    "i = 1\n",
    "while i < 10:\n",
    "    print(i)\n",
    "    i += 1"
   ]
  },
  {
   "cell_type": "markdown",
   "id": "4f3fa57e-c9a2-4ee4-b308-1252cff5101f",
   "metadata": {},
   "source": [
    "### 语法：\n",
    "\n",
    "```\n",
    "while 条件:\n",
    "    每次做的事情\n",
    "```\n",
    "\n",
    "**第一行**\n",
    "* 先写 `while `\n",
    "* 再写条件表达式\n",
    "* 最后记得写 `:`\n",
    "\n",
    "**第二行开始：循环的内容**\n",
    "* 每行前面空 4 格\n",
    "* 每次循环都会执行相同的内容"
   ]
  },
  {
   "cell_type": "code",
   "execution_count": null,
   "id": "240bfe2f-3ec5-4964-bf45-427ed857f92d",
   "metadata": {},
   "outputs": [],
   "source": []
  }
 ],
 "metadata": {
  "kernelspec": {
   "display_name": "Python 3 (ipykernel)",
   "language": "python",
   "name": "python3"
  },
  "language_info": {
   "codemirror_mode": {
    "name": "ipython",
    "version": 3
   },
   "file_extension": ".py",
   "mimetype": "text/x-python",
   "name": "python",
   "nbconvert_exporter": "python",
   "pygments_lexer": "ipython3",
   "version": "3.9.7"
  }
 },
 "nbformat": 4,
 "nbformat_minor": 5
}
