{
 "cells": [
  {
   "cell_type": "markdown",
   "id": "ddcbadbb",
   "metadata": {},
   "source": [
    "# 表达式和变量"
   ]
  },
  {
   "cell_type": "markdown",
   "id": "29ba909a-46de-4892-b50c-3cbb247d502d",
   "metadata": {},
   "source": [
    "## 表达式\n",
    "\n",
    "* 一般的数学表达式都可以用 Python 来计算\n",
    "\n",
    "* 可以把 Python 作为计算器使用"
   ]
  },
  {
   "cell_type": "code",
   "execution_count": 1,
   "id": "ce0e8e7c-54ae-4730-af5b-5ff2dcf1b6da",
   "metadata": {},
   "outputs": [
    {
     "data": {
      "text/plain": [
       "8"
      ]
     },
     "execution_count": 1,
     "metadata": {},
     "output_type": "execute_result"
    }
   ],
   "source": [
    "3+5"
   ]
  },
  {
   "cell_type": "code",
   "execution_count": 2,
   "id": "858e02a8-f69b-43db-b3fd-e1ff30d05c2f",
   "metadata": {},
   "outputs": [
    {
     "data": {
      "text/plain": [
       "7.0"
      ]
     },
     "execution_count": 2,
     "metadata": {},
     "output_type": "execute_result"
    }
   ],
   "source": [
    "(5+3*3)/(4-2)"
   ]
  },
  {
   "cell_type": "markdown",
   "id": "9effc857-7ff2-4872-bbae-02505cefda55",
   "metadata": {},
   "source": [
    "* 多个表达式之间可以用逗号隔开（但注意不要用中文逗号）"
   ]
  },
  {
   "cell_type": "code",
   "execution_count": 3,
   "id": "9398bacc-7bf1-4fd2-9292-d89ecaf2a0a2",
   "metadata": {},
   "outputs": [
    {
     "data": {
      "text/plain": [
       "(8, 30, 26)"
      ]
     },
     "execution_count": 3,
     "metadata": {},
     "output_type": "execute_result"
    }
   ],
   "source": [
    "3+5, 5*6, 31-5"
   ]
  },
  {
   "cell_type": "markdown",
   "id": "e00b8b91-2f64-43e8-92d8-e35baca924d2",
   "metadata": {},
   "source": [
    "* 多行打印多个表达式可以用 `print()`\n",
    "* Python 会按照行号顺序计算和打印内容"
   ]
  },
  {
   "cell_type": "code",
   "execution_count": 4,
   "id": "c1d463fd-09c4-4709-8bf7-d6e06a66daa1",
   "metadata": {},
   "outputs": [
    {
     "name": "stdout",
     "output_type": "stream",
     "text": [
      "8\n",
      "14\n",
      "3.0\n"
     ]
    }
   ],
   "source": [
    "print(5+3)\n",
    "print(7*2)\n",
    "print(9/3)"
   ]
  },
  {
   "cell_type": "markdown",
   "id": "007768d2-cba4-446c-9723-e443a46ba28b",
   "metadata": {},
   "source": [
    "## 运算符\n",
    "\n",
    "表达式 | 含义\n",
    "----------|------------------\n",
    "`x+y`, `x-y`, `x*y`  | 加法、减法、乘法\n",
    "`x/y`    | 一般除法，如，`11/4` 等于 `2.75`\n",
    "`x//y`    | 整数除法，返回整数的商，如，`11/4 == 2` （注意：`//`在Python里不是注释）\n",
    "`x%y`    | 整数除法，返回余数，如，`11%4 == 3`\n",
    "`x**y`    | 乘方 $x^y$，如，`2**3 == 8`，`3**0.5` 等于 $\\sqrt 3$，`2**(1/3)` 等于 $\\sqrt[3]{2}$"
   ]
  },
  {
   "cell_type": "code",
   "execution_count": 5,
   "id": "d2cdf0f5-ba65-4dce-b218-805578a5df4a",
   "metadata": {},
   "outputs": [
    {
     "data": {
      "text/plain": [
       "2.75"
      ]
     },
     "execution_count": 5,
     "metadata": {},
     "output_type": "execute_result"
    }
   ],
   "source": [
    "11/4"
   ]
  },
  {
   "cell_type": "code",
   "execution_count": 6,
   "id": "d267c4ad-f340-494e-9683-965a4442b143",
   "metadata": {},
   "outputs": [
    {
     "data": {
      "text/plain": [
       "17"
      ]
     },
     "execution_count": 6,
     "metadata": {},
     "output_type": "execute_result"
    }
   ],
   "source": [
    "3**2 + 2**3"
   ]
  },
  {
   "cell_type": "markdown",
   "id": "2427f1f4-2884-4dea-8882-d652c914f820",
   "metadata": {},
   "source": [
    "## 运算符的优先级\n",
    "\n",
    "* 先乘方，后乘除法\n",
    "* 先乘除法，后加减法"
   ]
  },
  {
   "cell_type": "code",
   "execution_count": 7,
   "id": "583aaecb",
   "metadata": {},
   "outputs": [
    {
     "data": {
      "text/plain": [
       "60"
      ]
     },
     "execution_count": 7,
     "metadata": {},
     "output_type": "execute_result"
    }
   ],
   "source": [
    "100-5*2**3"
   ]
  },
  {
   "cell_type": "markdown",
   "id": "3bb0f64d-025d-4e63-a683-b70f91b2cded",
   "metadata": {},
   "source": [
    "这个例子里，\n",
    "* 先计算 `2**3` 得到 `8`\n",
    "* 再计算 `5*8` 得到 `40`\n",
    "* 最后计算 `100-40` 得到 `60`"
   ]
  },
  {
   "cell_type": "markdown",
   "id": "23d51fca-7e31-44bd-9630-d270bf813d88",
   "metadata": {},
   "source": [
    "### 括号\n",
    "\n",
    "* 如要先计算优先级低的运算，可以用`()`\n",
    "\n",
    "* `()`可以嵌套，但不能写 `[]`，`{}`"
   ]
  },
  {
   "cell_type": "markdown",
   "id": "1b794256-7cad-4c4f-affb-e1c705866b32",
   "metadata": {},
   "source": [
    "比较以下两个表达式（一个有括号，一个没有括号）解释计算结果为何不同\n",
    "\n",
    "* `2+5*7-3**2*2`\n",
    "* `(2+5*(7-3)**2)*2`"
   ]
  },
  {
   "cell_type": "code",
   "execution_count": 8,
   "id": "8f01dc5e",
   "metadata": {},
   "outputs": [
    {
     "data": {
      "text/plain": [
       "19"
      ]
     },
     "execution_count": 8,
     "metadata": {},
     "output_type": "execute_result"
    }
   ],
   "source": [
    "2+5*7-3**2*2"
   ]
  },
  {
   "cell_type": "code",
   "execution_count": 9,
   "id": "637cb920",
   "metadata": {},
   "outputs": [
    {
     "data": {
      "text/plain": [
       "164"
      ]
     },
     "execution_count": 9,
     "metadata": {},
     "output_type": "execute_result"
    }
   ],
   "source": [
    "(2+5*(7-3)**2)*2"
   ]
  },
  {
   "cell_type": "markdown",
   "id": "3ee7ef7a-3888-4806-8ede-819688362e9b",
   "metadata": {},
   "source": [
    "## 空格\n",
    "\n",
    "* 表达式之间可以随意加空格，但不要在 `**`，`//` 间加空格 \n",
    "* 适当在运算符前后加上空格可以使表达式更容易读"
   ]
  },
  {
   "cell_type": "code",
   "execution_count": 10,
   "id": "20a3cb7b-0ad7-44c8-bf37-9fdb69edd363",
   "metadata": {},
   "outputs": [
    {
     "data": {
      "text/plain": [
       "36"
      ]
     },
     "execution_count": 10,
     "metadata": {},
     "output_type": "execute_result"
    }
   ],
   "source": [
    "3 + 2**5 + 5//3"
   ]
  },
  {
   "cell_type": "code",
   "execution_count": 11,
   "id": "f78944c6-bb70-4db9-a5bb-23acc5142a77",
   "metadata": {},
   "outputs": [
    {
     "ename": "SyntaxError",
     "evalue": "invalid syntax (Temp/ipykernel_23376/3879154571.py, line 1)",
     "output_type": "error",
     "traceback": [
      "\u001b[1;36m  File \u001b[1;32m\"C:\\Users\\cheng\\AppData\\Local\\Temp/ipykernel_23376/3879154571.py\"\u001b[1;36m, line \u001b[1;32m1\u001b[0m\n\u001b[1;33m    3* *5\u001b[0m\n\u001b[1;37m       ^\u001b[0m\n\u001b[1;31mSyntaxError\u001b[0m\u001b[1;31m:\u001b[0m invalid syntax\n"
     ]
    }
   ],
   "source": [
    "3* *5"
   ]
  },
  {
   "cell_type": "markdown",
   "id": "8bf36827-59ee-43ba-8236-894c9aab645e",
   "metadata": {},
   "source": [
    "## 变量\n",
    "\n",
    "变量帮助我们把计算的东西存起来，以便后续步骤使用。\n",
    "\n",
    "**公式**\n",
    "\n",
    "`变量名 = 表达式`\n",
    "\n",
    "**例子**\n",
    "\n",
    "`x = 3 + 5`\n",
    "\n",
    "* 等号右边是算术表达式，左边是变量名\n",
    "* `=` 等号代表赋值，不是“等于”的意思\n",
    "* 左右不能换：`3 = x` 是错误\n",
    "* 等号右边的表达式可以包含已有的变量"
   ]
  },
  {
   "cell_type": "code",
   "execution_count": 12,
   "id": "fda50e3a-b3e2-4c9f-8db8-f538dd7248bb",
   "metadata": {},
   "outputs": [
    {
     "data": {
      "text/plain": [
       "18"
      ]
     },
     "execution_count": 12,
     "metadata": {},
     "output_type": "execute_result"
    }
   ],
   "source": [
    "x = 2 + 3\n",
    "y = x + 5\n",
    "z = y + 8\n",
    "z"
   ]
  },
  {
   "cell_type": "markdown",
   "id": "eea41046-1da0-4137-b797-772ccdbfe158",
   "metadata": {},
   "source": [
    "### 赋值运算符 `+=`, `-=`, `*=`, `/=`\n",
    "\n",
    "`x = x + 1`\n",
    "\n",
    "等价于\n",
    "\n",
    "`x += 1`"
   ]
  },
  {
   "cell_type": "markdown",
   "id": "8101bf85-c086-48cf-8d6c-f2e7b818594c",
   "metadata": {},
   "source": [
    "## 注释"
   ]
  },
  {
   "cell_type": "code",
   "execution_count": null,
   "id": "f7da6f18-cbb9-42c2-ba90-3d3f76f06b81",
   "metadata": {},
   "outputs": [],
   "source": [
    "# 这是一个单行注释\n",
    "\n",
    "x = 3 # 可以对一句语句最后注释，“#” 后面的内容不会被执行\n",
    "\n",
    "# 下面这句不会打印 x, 因为 print(x) 被注释掉了\n",
    "# print(x)\n",
    "\n",
    "\"\"\" 这是一个多行字符串\n",
    "用三个双引号开始，\n",
    "三个双引号结束\n",
    "可以用作长的注释 \"\"\"\n",
    "\n",
    "''' 这是也一个多行字符串注释\n",
    "用三个单引号开始\n",
    "三个单引号结束 '''\n",
    "\n",
    "pass"
   ]
  },
  {
   "cell_type": "markdown",
   "id": "aeee6c99-2da2-457c-8bd5-af8c642a265c",
   "metadata": {},
   "source": [
    "## 数学函数"
   ]
  },
  {
   "cell_type": "markdown",
   "id": "0d3ec929-e352-4dca-87bf-bcd9fa966de5",
   "metadata": {},
   "source": [
    "### 标准函数\n",
    "\n",
    "表达式 | 含义\n",
    "--------------|-------------------\n",
    "`max(x, y, ...)` | 最大值，比如 `max(1, 2, 3)` 等于 `3`\n",
    "`min(x, y, ...)` | 最小值\n",
    "`abs(x)` | 绝对值，比如 `abs(-1.1)` 等于 `1.1`\n",
    "`sum([x,y,...])` | 求和，比如 `sum([1,2,3,4])` 等于 `10`\n",
    "`round(x)` | 四舍五入取整，比如 `round(3.14)` 等于 `3`"
   ]
  },
  {
   "cell_type": "code",
   "execution_count": 13,
   "id": "6f469050-7eed-48af-941a-c1384b7f70f6",
   "metadata": {},
   "outputs": [
    {
     "data": {
      "text/plain": [
       "5.6"
      ]
     },
     "execution_count": 13,
     "metadata": {},
     "output_type": "execute_result"
    }
   ],
   "source": [
    "sum([3.2, 2.4])"
   ]
  },
  {
   "cell_type": "code",
   "execution_count": 14,
   "id": "03301f9a-61f0-4c3e-b320-9fc58f49d41f",
   "metadata": {},
   "outputs": [
    {
     "data": {
      "text/plain": [
       "(3, -3)"
      ]
     },
     "execution_count": 14,
     "metadata": {},
     "output_type": "execute_result"
    }
   ],
   "source": [
    "round(3.2), round(-3.2)"
   ]
  },
  {
   "cell_type": "code",
   "execution_count": 15,
   "id": "8d96e61e-3a4a-4aab-b950-6b09d5049d1e",
   "metadata": {},
   "outputs": [
    {
     "data": {
      "text/plain": [
       "3.14"
      ]
     },
     "execution_count": 15,
     "metadata": {},
     "output_type": "execute_result"
    }
   ],
   "source": [
    "# 四舍五入保留小数点后2位\n",
    "round(3.1415926, 2)"
   ]
  },
  {
   "cell_type": "markdown",
   "id": "72a93a48-c0a1-4523-9f3f-aec7dedaf990",
   "metadata": {},
   "source": [
    "### `math` 库函数\n",
    "\n",
    "第一种使用库的方法\n",
    "\n",
    "```\n",
    "import math\n",
    "```\n",
    "\n",
    "* `import` 用于导入一个库\n",
    "* `math` 库里的变量和函数使用时都要加上 `math.` 前缀，比如 `math.pi`，`math.sin(x)`\n",
    "\n",
    "\n",
    "第二种使用库的方法\n",
    "\n",
    "```\n",
    "from math import sin, cos\n",
    "```\n",
    "* 这样导入的函数使用时不用加 `math.` 前缀，直接 `sin(x)` 或 `cos(x)`\n",
    "\n"
   ]
  },
  {
   "cell_type": "code",
   "execution_count": 16,
   "id": "fc1b2ea1",
   "metadata": {},
   "outputs": [
    {
     "data": {
      "text/plain": [
       "3.141592653589793"
      ]
     },
     "execution_count": 16,
     "metadata": {},
     "output_type": "execute_result"
    }
   ],
   "source": [
    "import math\n",
    "math.pi"
   ]
  },
  {
   "cell_type": "code",
   "execution_count": 17,
   "id": "9fae0625",
   "metadata": {},
   "outputs": [
    {
     "data": {
      "text/plain": [
       "0.5"
      ]
     },
     "execution_count": 17,
     "metadata": {},
     "output_type": "execute_result"
    }
   ],
   "source": [
    "x = math.sin(math.pi/6)\n",
    "\n",
    "# 数学库里的函数返回浮点数，有误差\n",
    "# 打印时保留小数点后10位\n",
    "round(x, 10)"
   ]
  },
  {
   "cell_type": "code",
   "execution_count": 18,
   "id": "32d3911e",
   "metadata": {},
   "outputs": [
    {
     "data": {
      "text/plain": [
       "1.23457"
      ]
     },
     "execution_count": 18,
     "metadata": {},
     "output_type": "execute_result"
    }
   ],
   "source": [
    "# 保留小数点后5位\n",
    "round(1.23456789, 5)"
   ]
  },
  {
   "cell_type": "code",
   "execution_count": 19,
   "id": "c58d3df9",
   "metadata": {},
   "outputs": [
    {
     "data": {
      "text/plain": [
       "2.718281828459045"
      ]
     },
     "execution_count": 19,
     "metadata": {},
     "output_type": "execute_result"
    }
   ],
   "source": [
    "math.exp(1)"
   ]
  },
  {
   "cell_type": "markdown",
   "id": "1c690088-0a9e-4d34-9da1-77717aa82462",
   "metadata": {},
   "source": [
    "#### 取整\n",
    "\n",
    "向下取整可以用 `math.floor(x)`\n",
    "\n",
    "注意对于负数，它和 `int(x)` 不一样。"
   ]
  },
  {
   "cell_type": "code",
   "execution_count": 20,
   "id": "d2e9cb34-dadc-4740-a3da-b3f7456ad51a",
   "metadata": {},
   "outputs": [
    {
     "name": "stdout",
     "output_type": "stream",
     "text": [
      "2 -2\n",
      "2 -3\n"
     ]
    }
   ],
   "source": [
    "import math\n",
    "x = 2.718\n",
    "print(int(x), int(-x))\n",
    "print(math.floor(x), math.floor(-x))"
   ]
  },
  {
   "cell_type": "markdown",
   "id": "c40f1ad9-4713-4116-afa1-fef0644d820a",
   "metadata": {},
   "source": [
    "## 自定义函数\n",
    "\n",
    "```\n",
    "def my_func(x1, x2, ...):\n",
    "    y = ...\n",
    "    return y\n",
    "```\n",
    "\n",
    "**第一行：函数声明**\n",
    "* `def my_func` 定义函数名\n",
    "* 函数名可以是字母、数字、或下划线（首字母不能是数字）\n",
    "* `(x1, x2, ...)` 输入参数列表\n",
    "* 声明完记得在最后加一个 `:`\n",
    "\n",
    "**第二行开始：函数内容**\n",
    "* 第二行开始每行开头空 4 格\n",
    "* 函数里面的语句不会立刻执行，只有被调用时才会执行\n",
    "* `return y`：把变量 `y` 的值输出"
   ]
  },
  {
   "cell_type": "code",
   "execution_count": 21,
   "id": "b0f827e7-cac6-4264-8a4b-a40b0ad36e77",
   "metadata": {},
   "outputs": [
    {
     "data": {
      "text/plain": [
       "12.25"
      ]
     },
     "execution_count": 21,
     "metadata": {},
     "output_type": "execute_result"
    }
   ],
   "source": [
    "# 定义函数\n",
    "def my_square(x):\n",
    "    return x*x\n",
    "\n",
    "# 调用函数\n",
    "my_square(3.5)"
   ]
  },
  {
   "cell_type": "markdown",
   "id": "0a7447c9-1260-41e8-93f0-333ed2d7e029",
   "metadata": {},
   "source": [
    "* 函数可以接受1个参数，2个参数，……\n",
    "* 函数可以不返回值，比如`print()`函数\n",
    "* 函数可以返回多个值，用逗号隔开即可"
   ]
  },
  {
   "cell_type": "code",
   "execution_count": 22,
   "id": "0d18ea2f-b2ab-4933-8870-c245fe60f408",
   "metadata": {},
   "outputs": [
    {
     "data": {
      "text/plain": [
       "5.0"
      ]
     },
     "execution_count": 22,
     "metadata": {},
     "output_type": "execute_result"
    }
   ],
   "source": [
    "# 定义一个接受两个参数的函数\n",
    "def hypot(x, y):\n",
    "    ''' 返回以x和y为直角边的直角三角形的斜边 '''\n",
    "    return (x*x + y*y)**0.5\n",
    "\n",
    "# 调用函数\n",
    "hypot(3, 4)"
   ]
  },
  {
   "cell_type": "code",
   "execution_count": 23,
   "id": "088b8512-e077-42fd-9640-03384bc4c5af",
   "metadata": {},
   "outputs": [
    {
     "name": "stdout",
     "output_type": "stream",
     "text": [
      "0.5000000000000001 0.8660254037844386\n"
     ]
    }
   ],
   "source": [
    "import math\n",
    "\n",
    "# 定义一个返回两个值的函数\n",
    "def cos_sin(x):\n",
    "    return math.cos(x), math.sin(x)\n",
    "\n",
    "# 调用函数\n",
    "c, s = cos_sin(math.pi/3)\n",
    "\n",
    "print(c, s)"
   ]
  },
  {
   "cell_type": "markdown",
   "id": "f29e63a8-52a5-4e70-853d-b41487ff1695",
   "metadata": {},
   "source": [
    "## 综合练习"
   ]
  },
  {
   "cell_type": "markdown",
   "id": "36008ba6",
   "metadata": {},
   "source": [
    "数学上，指数函数可以用极限来定义：\n",
    "\n",
    "\\begin{aligned}\n",
    "e^x =\\lim_{n\\rightarrow \\infty} \\left(1+\\frac{x}{n}\\right)^n\n",
    "\\end{aligned}\n",
    "\n",
    "试根据这个公式编写一个计算指数函数的函数 `my_exp`"
   ]
  },
  {
   "cell_type": "code",
   "execution_count": 24,
   "id": "4c730603",
   "metadata": {},
   "outputs": [
    {
     "data": {
      "text/plain": [
       "2.7182820532347876"
      ]
     },
     "execution_count": 24,
     "metadata": {},
     "output_type": "execute_result"
    }
   ],
   "source": [
    "def my_exp(x, n=1e10):\n",
    "    y = (1 + (x/n))**n\n",
    "    return y\n",
    "\n",
    "my_exp(1)"
   ]
  },
  {
   "cell_type": "code",
   "execution_count": null,
   "id": "192dcd8d",
   "metadata": {},
   "outputs": [],
   "source": []
  }
 ],
 "metadata": {
  "kernelspec": {
   "display_name": "Python 3 (ipykernel)",
   "language": "python",
   "name": "python3"
  },
  "language_info": {
   "codemirror_mode": {
    "name": "ipython",
    "version": 3
   },
   "file_extension": ".py",
   "mimetype": "text/x-python",
   "name": "python",
   "nbconvert_exporter": "python",
   "pygments_lexer": "ipython3",
   "version": "3.9.7"
  }
 },
 "nbformat": 4,
 "nbformat_minor": 5
}
