{
 "cells": [
  {
   "cell_type": "markdown",
   "id": "a307f51f-8bfa-4228-a2d7-83cb1852924f",
   "metadata": {},
   "source": [
    "# 第二课补充说明"
   ]
  },
  {
   "cell_type": "markdown",
   "id": "ab0178dc-3cc5-41a0-b974-41d931d3ada2",
   "metadata": {
    "tags": []
   },
   "source": [
    "运算符\n",
    "\n",
    "* `+,-,*`: $+,-,\\times$ \n",
    "* `/`: $/$, `3/2 = 1.5` "
   ]
  },
  {
   "cell_type": "markdown",
   "id": "1c45c887-2296-49c6-8ddf-58541885a48c",
   "metadata": {
    "tags": []
   },
   "source": [
    "## 用 Jupyter Lab 替代 Jupyter Notebook\n",
    "\n",
    "上几节课上，我们推荐使用的 Python 环境是 Jupyter Notebook 。现在我们可以用 Jupyter Lab \n",
    "\n",
    "1. 在 Windows 桌面的左下角搜索框里输入\n",
    "\n",
    "```\n",
    "powershell\n",
    "```\n",
    "\n",
    "或者 `cmd` 也可以。\n",
    "\n",
    "2. 然后 `cd` 到你的工作目录\n",
    "\n",
    "```\n",
    "cd Desktop/python_works\n",
    "```\n",
    "\n",
    "3. 启动 Jupyter Notebook\n",
    "\n",
    "```\n",
    "jupyter notebook\n",
    "```\n",
    "\n",
    "这一步，现在可以替换为功能更强大的 Jupyter Lab\n",
    "\n",
    "```\n",
    "jupyter lab\n",
    "```\n",
    "\n",
    "Jupyter Lab 的新增功能包括可以显示笔记本的目录结构、拖放代码块、设断点调试等功能。"
   ]
  },
  {
   "cell_type": "markdown",
   "id": "f677ac5a-66c9-4b24-b7d1-29847b626c22",
   "metadata": {},
   "source": [
    "## 同余问题中余数的选取"
   ]
  },
  {
   "cell_type": "markdown",
   "id": "a045230f-b550-44e3-84d8-a9b7a7c4f4c7",
   "metadata": {},
   "source": [
    "上文中，我们默认三个除数 `d1, d2, d3` 之间是两两互质。这种情况下，我们可以任意选取余数 `m1, m2, m3`。但是如果除数间不两两互质，则有些任意选取的 `m1, m2, m3` 会导致无解。\n",
    "\n",
    "比如，"
   ]
  },
  {
   "cell_type": "code",
   "execution_count": 29,
   "id": "e19b936e-369a-4d13-b0c8-eaa62d5d022f",
   "metadata": {},
   "outputs": [
    {
     "name": "stdout",
     "output_type": "stream",
     "text": [
      "None\n"
     ]
    }
   ],
   "source": [
    "x = remainder_solver_3var_v3(101, 2, 1001, 3, 100001, 2)\n",
    "print(x)"
   ]
  },
  {
   "cell_type": "markdown",
   "id": "1cb5f5aa-ff58-4f73-bf6f-ba47f8b9f060",
   "metadata": {},
   "source": [
    "这个并不是我们的程序出了问题，而是因为这组除数中 `1001 = 11*91` 和 `100001 = 11*9091` 并不互质，所以，这时我们不能随意设置余数。"
   ]
  },
  {
   "cell_type": "markdown",
   "id": "656f91fb-82af-430d-9ef1-36c75d7d6135",
   "metadata": {},
   "source": [
    "为什么除数不互质的时候不能随意设置余数呢？我们举个简单的例子来说明。\n",
    "\n",
    "比如，考虑两个除数 `d1 == 5, d2 == 15` 的情况，`d1` 和 `d2` 并不互质。如果`x % d1 == x % 5 == 3`，那么 `x % d2 == x % 15` 的余数的值只可能是 `3, 8, 13`，其余的值则必然无解。\n",
    "\n",
    "所以以下这组方程是无解的：\n",
    "\n",
    "    `x % 5 == 3`\n",
    "    `x % 15 == 5`\n",
    "\n"
   ]
  },
  {
   "cell_type": "markdown",
   "id": "8dd5f920-1240-4a08-afc4-3dde0a4a420e",
   "metadata": {},
   "source": [
    "附：求解三个数之间的两两最大公约数；如果互质，返回值为 1。"
   ]
  },
  {
   "cell_type": "code",
   "execution_count": 3,
   "id": "5124fb49-fa42-4f42-805d-929ee389f309",
   "metadata": {},
   "outputs": [
    {
     "name": "stdout",
     "output_type": "stream",
     "text": [
      "gcd(101, 1001) = 1\n",
      "gcd(101, 100001) = 1\n",
      "gcd(1001, 100001) = 11\n",
      "91 9091\n"
     ]
    }
   ],
   "source": [
    "def gcd(a, b):\n",
    "    ''' 返回 a 与 b 的最大公约数 '''\n",
    "    if a == 0:\n",
    "        return b\n",
    "    elif a > b: # 如果 a 比 b 大， 交换 a, b\n",
    "        a, b = b, a\n",
    "\n",
    "     # 递归求解 b%a 于 a 的最大公约数\n",
    "    return gcd(b%a, a)\n",
    "\n",
    "\n",
    "def mutual_gcd(a, b, c):\n",
    "    ''' 打印 a, b, c 两两之间的最大公约数 '''\n",
    "    gcd_ab = gcd(a, b)\n",
    "    gcd_ac = gcd(a, c)\n",
    "    gcd_bc = gcd(b, c)\n",
    "    print(f\"gcd({a}, {b}) = {gcd_ab}\")\n",
    "    print(f\"gcd({a}, {c}) = {gcd_ac}\")\n",
    "    print(f\"gcd({b}, {c}) = {gcd_bc}\")\n",
    "\n",
    "\n",
    "mutual_gcd(101, 1001, 100001)\n",
    "\n",
    "print(1001//11, 100001//11)"
   ]
  },
  {
   "cell_type": "code",
   "execution_count": null,
   "id": "1738c26f-1ee8-4b43-8391-f57feff0bb20",
   "metadata": {
    "slideshow": {
     "slide_type": "slide"
    },
    "tags": []
   },
   "outputs": [],
   "source": []
  }
 ],
 "metadata": {
  "kernelspec": {
   "display_name": "Python 3 (ipykernel)",
   "language": "python",
   "name": "python3"
  },
  "language_info": {
   "codemirror_mode": {
    "name": "ipython",
    "version": 3
   },
   "file_extension": ".py",
   "mimetype": "text/x-python",
   "name": "python",
   "nbconvert_exporter": "python",
   "pygments_lexer": "ipython3",
   "version": "3.9.7"
  },
  "toc-autonumbering": false
 },
 "nbformat": 4,
 "nbformat_minor": 5
}
