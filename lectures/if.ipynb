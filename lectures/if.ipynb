{
 "cells": [
  {
   "cell_type": "markdown",
   "id": "7d8b83a7-91b8-4fa5-b3ad-f057b56ad2d5",
   "metadata": {},
   "source": [
    "# 条件判断"
   ]
  },
  {
   "cell_type": "markdown",
   "id": "de5a9f45-1cfe-4723-b31c-6df7a7d5400a",
   "metadata": {},
   "source": [
    "例子："
   ]
  },
  {
   "cell_type": "code",
   "execution_count": 19,
   "id": "74d3afe1-f8e0-48e5-8783-811fe2e598b4",
   "metadata": {},
   "outputs": [
    {
     "name": "stdout",
     "output_type": "stream",
     "text": [
      "3 是奇数\n"
     ]
    }
   ],
   "source": [
    "x = 3\n",
    "\n",
    "if x % 2 == 0:\n",
    "    print(x, \"是偶数\")\n",
    "else:\n",
    "    print(x, \"是奇数\")"
   ]
  },
  {
   "cell_type": "markdown",
   "id": "8e7d3468-ea1e-4ba3-9e6e-0e8cd3801756",
   "metadata": {},
   "source": [
    "### 语法：\n",
    "\n",
    "```\n",
    "if 条件表达式:\n",
    "    条件成立时做的事\n",
    "```\n",
    "\n",
    "第一行\n",
    "* `if` 后跟条件表达式\n",
    "* 最后有`:`\n",
    "\n",
    "第二行开始：\n",
    "* 这个条件成立才做的事\n",
    "* 每行前面空四格\n",
    "\n",
    "条件结束后：\n",
    "* 恢复原来的行首缩进\n"
   ]
  },
  {
   "cell_type": "code",
   "execution_count": 26,
   "id": "44321785-d373-45c2-a5d7-6002070231b7",
   "metadata": {},
   "outputs": [
    {
     "name": "stdout",
     "output_type": "stream",
     "text": [
      "不管 x 是否小于 0.5，都会执行这句打印语句\n"
     ]
    }
   ],
   "source": [
    "import random\n",
    "\n",
    "x = random.random() # 产生一个0到1之间的随机数\n",
    "\n",
    "if x < 0.5:\n",
    "    print(\"随机数\", x, \"小于 0.5\")\n",
    "\n",
    "# 条件判断结束了\n",
    "print(\"不管 x 是否小于 0.5，都会执行这句打印语句\")"
   ]
  },
  {
   "cell_type": "markdown",
   "id": "331dbf7f-f0b9-4861-b7e9-5a838c2f9bcf",
   "metadata": {},
   "source": [
    "### 一般情况的语法：\n",
    "\n",
    "```\n",
    "if 条件表达式1:\n",
    "    条件1成立时做的事\n",
    "elif 条件表达式2:\n",
    "    条件1不成立，但条件2成立时做的事\n",
    "elif 条件表达式3:\n",
    "    条件1、2不成立，但条件3成立时做的事\n",
    "else:\n",
    "    所有表达式都不成立时做的事\n",
    "```\n",
    "\n",
    "**注意点：**\n",
    "\n",
    "* `elif` 或 `else` 的行首缩进和 `if` 相同\n",
    "* `elif` 或 `else` 的那行最后要加 `:`\n",
    "* 下一行开始，行首缩进加 4 个空格\n"
   ]
  },
  {
   "cell_type": "markdown",
   "id": "7172ae53-dfd8-4b8f-9635-4daded47a1be",
   "metadata": {},
   "source": [
    "#### 例子：\n",
    "\n",
    "打印今天星期几的程序"
   ]
  },
  {
   "cell_type": "code",
   "execution_count": 17,
   "id": "19a72b2b-41f8-40b6-9f76-af0857097e9c",
   "metadata": {},
   "outputs": [
    {
     "name": "stdout",
     "output_type": "stream",
     "text": [
      "今天星期日\n"
     ]
    }
   ],
   "source": [
    "# 导入时间日期库\n",
    "from datetime import datetime\n",
    "\n",
    "x = datetime.today() # 今天的日期\n",
    "wd = x.weekday() # 星期几：0代表星期一，……，6代表星期日\n",
    "\n",
    "if wd == 0:\n",
    "    print(\"今天星期一\")\n",
    "elif wd == 1:\n",
    "    print(\"今天星期二\")\n",
    "elif wd == 2:\n",
    "    print(\"今天星期三\")\n",
    "elif wd == 3:\n",
    "    print(\"今天星期四\")\n",
    "elif wd == 4:\n",
    "    print(\"今天星期五\")\n",
    "elif wd == 5:\n",
    "    print(\"今天星期六\")\n",
    "else:\n",
    "    print(\"今天星期日\")\n"
   ]
  },
  {
   "cell_type": "markdown",
   "id": "61deabd1-f88f-4ce3-a826-cda2c3aee2ef",
   "metadata": {},
   "source": [
    "## 条件表达式\n",
    "\n",
    "**条件表达式：** 值只能是 True 或 False\n",
    "\n",
    "可以把条件表达式赋值给一个变量"
   ]
  },
  {
   "cell_type": "code",
   "execution_count": 27,
   "id": "b7c1c8e4-18f9-48e7-9430-a59ecc3ecde5",
   "metadata": {},
   "outputs": [
    {
     "name": "stdout",
     "output_type": "stream",
     "text": [
      "True\n"
     ]
    }
   ],
   "source": [
    "x = (3 < 5 and 5 < 7)\n",
    "print(x)"
   ]
  },
  {
   "cell_type": "markdown",
   "id": "e0bf0061-8316-4500-bfc9-9c07971ecf6d",
   "metadata": {},
   "source": [
    "## 比较运算符\n",
    "\n",
    "表达式 | 含义\n",
    "----------|------------------\n",
    "`x < y`, `y > x`  |  小于、大于\n",
    "`x <= y`, `y >= x`   | 小于等于、大于等于\n",
    "`x == y`    | 相等\n",
    "`x != y`    | 不等于"
   ]
  },
  {
   "cell_type": "code",
   "execution_count": 3,
   "id": "cf7d0fde-ba2f-4322-bf21-81b4c721d1a7",
   "metadata": {},
   "outputs": [
    {
     "name": "stdout",
     "output_type": "stream",
     "text": [
      "True\n",
      "True\n",
      "True\n"
     ]
    }
   ],
   "source": [
    "print(3+3 == 4+2)\n",
    "x = 2\n",
    "print(x != 3)\n",
    "print(x <= 3)"
   ]
  },
  {
   "cell_type": "markdown",
   "id": "03142006-9aff-4f7d-a357-15edbd28bbb0",
   "metadata": {},
   "source": [
    "## 逻辑运算符（条件组合运算符）\n",
    "\n",
    "表达式 | 含义\n",
    "----------|------------------\n",
    "`cond1 and cond2`  | “而且”：两个条件都对才是对，如 `5>3 and 7>5` 等于 `True`\n",
    "`cond1 or cond2`   | “或”：两个条件中有一个对就是对，如 `5>3 or 5<3` 等于 `True`\n",
    "`not cond1`        | “不”：把条件取反，如 `not 5<3` 等于 `True`"
   ]
  },
  {
   "cell_type": "code",
   "execution_count": 7,
   "id": "4a911379-ac6f-4c39-8cef-24c55c40d31e",
   "metadata": {},
   "outputs": [
    {
     "data": {
      "text/plain": [
       "True"
      ]
     },
     "execution_count": 7,
     "metadata": {},
     "output_type": "execute_result"
    }
   ],
   "source": [
    "x = 5\n",
    "x>=3 and x<7"
   ]
  },
  {
   "cell_type": "code",
   "execution_count": 6,
   "id": "bdaa1780-7bea-466a-9d8b-90eb31c00337",
   "metadata": {},
   "outputs": [
    {
     "data": {
      "text/plain": [
       "True"
      ]
     },
     "execution_count": 6,
     "metadata": {},
     "output_type": "execute_result"
    }
   ],
   "source": [
    "not 5<4"
   ]
  },
  {
   "cell_type": "code",
   "execution_count": null,
   "id": "1e5161cd-136b-42a8-927c-127002272723",
   "metadata": {},
   "outputs": [],
   "source": []
  }
 ],
 "metadata": {
  "kernelspec": {
   "display_name": "Python 3 (ipykernel)",
   "language": "python",
   "name": "python3"
  },
  "language_info": {
   "codemirror_mode": {
    "name": "ipython",
    "version": 3
   },
   "file_extension": ".py",
   "mimetype": "text/x-python",
   "name": "python",
   "nbconvert_exporter": "python",
   "pygments_lexer": "ipython3",
   "version": "3.9.7"
  }
 },
 "nbformat": 4,
 "nbformat_minor": 5
}
