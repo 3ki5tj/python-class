{
 "cells": [
  {
   "cell_type": "markdown",
   "id": "ddcbadbb",
   "metadata": {},
   "source": [
    "## 表达式和变量"
   ]
  },
  {
   "cell_type": "markdown",
   "id": "29ba909a-46de-4892-b50c-3cbb247d502d",
   "metadata": {},
   "source": [
    "任何的表达式都可以作为"
   ]
  },
  {
   "cell_type": "code",
   "execution_count": 2,
   "id": "6b5c58ba-818a-4ba8-8703-184b9ac4455b",
   "metadata": {},
   "outputs": [
    {
     "data": {
      "text/plain": [
       "8"
      ]
     },
     "execution_count": 2,
     "metadata": {},
     "output_type": "execute_result"
    }
   ],
   "source": [
    "3+5"
   ]
  },
  {
   "cell_type": "code",
   "execution_count": 1,
   "id": "637cb920",
   "metadata": {},
   "outputs": [
    {
     "data": {
      "text/plain": [
       "60"
      ]
     },
     "execution_count": 1,
     "metadata": {},
     "output_type": "execute_result"
    }
   ],
   "source": [
    "(2 + (3 +    7)) * 5"
   ]
  },
  {
   "cell_type": "code",
   "execution_count": 19,
   "id": "cf3620e4",
   "metadata": {},
   "outputs": [
    {
     "data": {
      "text/plain": [
       "True"
      ]
     },
     "execution_count": 19,
     "metadata": {},
     "output_type": "execute_result"
    }
   ],
   "source": [
    "(x != 100)"
   ]
  },
  {
   "cell_type": "markdown",
   "id": "f61f5402",
   "metadata": {},
   "source": [
    " * `<=`  $\\le$"
   ]
  },
  {
   "cell_type": "code",
   "execution_count": 20,
   "id": "583aaecb",
   "metadata": {},
   "outputs": [
    {
     "data": {
      "text/plain": [
       "1.5"
      ]
     },
     "execution_count": 20,
     "metadata": {},
     "output_type": "execute_result"
    }
   ],
   "source": [
    "3/2"
   ]
  },
  {
   "cell_type": "code",
   "execution_count": 21,
   "id": "0dab2635",
   "metadata": {},
   "outputs": [
    {
     "data": {
      "text/plain": [
       "1"
      ]
     },
     "execution_count": 21,
     "metadata": {},
     "output_type": "execute_result"
    }
   ],
   "source": [
    "3 // 2"
   ]
  },
  {
   "cell_type": "code",
   "execution_count": 24,
   "id": "8f01dc5e",
   "metadata": {},
   "outputs": [
    {
     "data": {
      "text/plain": [
       "1.4142135623730951"
      ]
     },
     "execution_count": 24,
     "metadata": {},
     "output_type": "execute_result"
    }
   ],
   "source": [
    "2**0.5"
   ]
  },
  {
   "cell_type": "code",
   "execution_count": 25,
   "id": "5de7b6e0",
   "metadata": {},
   "outputs": [],
   "source": [
    "import math"
   ]
  },
  {
   "cell_type": "code",
   "execution_count": 26,
   "id": "fc1b2ea1",
   "metadata": {},
   "outputs": [
    {
     "data": {
      "text/plain": [
       "3.141592653589793"
      ]
     },
     "execution_count": 26,
     "metadata": {},
     "output_type": "execute_result"
    }
   ],
   "source": [
    "math.pi"
   ]
  },
  {
   "cell_type": "code",
   "execution_count": 30,
   "id": "9fae0625",
   "metadata": {},
   "outputs": [
    {
     "data": {
      "text/plain": [
       "0.5"
      ]
     },
     "execution_count": 30,
     "metadata": {},
     "output_type": "execute_result"
    }
   ],
   "source": [
    "x = math.sin(math.pi/6)\n",
    "round(x, 10)"
   ]
  },
  {
   "cell_type": "code",
   "execution_count": 34,
   "id": "32d3911e",
   "metadata": {},
   "outputs": [
    {
     "data": {
      "text/plain": [
       "1.23457"
      ]
     },
     "execution_count": 34,
     "metadata": {},
     "output_type": "execute_result"
    }
   ],
   "source": [
    "round(1.23456789, 5)"
   ]
  },
  {
   "cell_type": "code",
   "execution_count": 36,
   "id": "c58d3df9",
   "metadata": {},
   "outputs": [
    {
     "data": {
      "text/plain": [
       "2.718281828459045"
      ]
     },
     "execution_count": 36,
     "metadata": {},
     "output_type": "execute_result"
    }
   ],
   "source": [
    "math.exp(1)"
   ]
  },
  {
   "cell_type": "markdown",
   "id": "36008ba6",
   "metadata": {},
   "source": [
    "$e^x =\\lim_{n\\rightarrow \\infty} \\left(1+\\frac{x}{n}\\right)^n$"
   ]
  },
  {
   "cell_type": "code",
   "execution_count": 45,
   "id": "4c730603",
   "metadata": {},
   "outputs": [
    {
     "data": {
      "text/plain": [
       "2.7182820532347876"
      ]
     },
     "execution_count": 45,
     "metadata": {},
     "output_type": "execute_result"
    }
   ],
   "source": [
    "def my_exp(x, n=1e10):\n",
    "    y = (1 + (x/n))**n\n",
    "    return y\n",
    "\n",
    "my_exp(1)"
   ]
  },
  {
   "cell_type": "code",
   "execution_count": null,
   "id": "192dcd8d",
   "metadata": {},
   "outputs": [],
   "source": []
  }
 ],
 "metadata": {
  "kernelspec": {
   "display_name": "Python 3 (ipykernel)",
   "language": "python",
   "name": "python3"
  },
  "language_info": {
   "codemirror_mode": {
    "name": "ipython",
    "version": 3
   },
   "file_extension": ".py",
   "mimetype": "text/x-python",
   "name": "python",
   "nbconvert_exporter": "python",
   "pygments_lexer": "ipython3",
   "version": "3.9.7"
  }
 },
 "nbformat": 4,
 "nbformat_minor": 5
}
